{
 "cells": [
  {
   "cell_type": "markdown",
   "metadata": {},
   "source": [
    "# TUnfoldDensity example with pyroot"
   ]
  },
  {
   "cell_type": "code",
   "execution_count": 1,
   "metadata": {},
   "outputs": [
    {
     "name": "stdout",
     "output_type": "stream",
     "text": [
      "Welcome to JupyROOT 6.10/04\n"
     ]
    }
   ],
   "source": [
    "import ROOT\n",
    "import numpy as np\n",
    "import array as array\n",
    "import math\n",
    "ROOT.gStyle.SetOptStat(000000)"
   ]
  },
  {
   "cell_type": "markdown",
   "metadata": {},
   "source": [
    "## Construct the Binning scheme"
   ]
  },
  {
   "cell_type": "markdown",
   "metadata": {},
   "source": [
    "Set the axis ranges for the generator (m bins) and detector  (n bins) level distributions as well as the number of bins in each. *Note* that we are currently using twice as many detector bins as generator level bins as recommended by the TUnfold documenation. This condition $n ≥ m$ \n",
    "is in contrast to many common unfoldding algorithms which require $n = m$ however a notable example of an unfolding algorithm without that restriction is __[G. D’Agostini](arXiv:1010.0632)__."
   ]
  },
  {
   "cell_type": "code",
   "execution_count": 2,
   "metadata": {},
   "outputs": [
    {
     "name": "stdout",
     "output_type": "stream",
     "text": [
      "There are 2 Gen Mass bins , 2 Gen Pt bins ,4 Reco Mass bins , 2 Reco Pt bins  \n"
     ]
    }
   ],
   "source": [
    "### Set up the binning scheme\n",
    "mbinsGen  = array.array('d',  [0., 50., 100. ])\n",
    "mbinsDet  = array.array('d', [0., 25.,50.,75.,100. ])\n",
    "ptbinsGen = array.array('d', [0., 50., 100. ])\n",
    "ptbinsDet = array.array('d', [0., 50., 100. ])\n",
    "\n",
    "#mbinsGen  = array.array('d', [0., 25.,50.,75.,100. ])# [0., 50., 100. ])\n",
    "#mbinsDet  = array.array('d', [0., 12.5, 25.,37.5,50., 62.5,75., 87.5, 100. ])#[0., 25.,50.,75.,100. ])\n",
    "#ptbinsGen = array.array('d', [0., 25.,50.,75.,100. ])#[0., 50., 100. ])\n",
    "#ptbinsDet = array.array('d', [0., 25.,50.,75.,100. ])#[0., 50., 100. ])\n",
    "\n",
    "\n",
    "nmbinsGen  = len(mbinsGen) -1\n",
    "nmbinsDet  = len(mbinsDet) -1\n",
    "nptbinsGen = len(ptbinsGen) -1\n",
    "nptbinsDet = len(ptbinsDet) -1\n",
    "\n",
    "print \"There are {} Gen Mass bins , {} Gen Pt bins ,{} Reco Mass bins , {} Reco Pt bins  \".format(nmbinsGen,nptbinsGen , nmbinsDet,nptbinsDet)"
   ]
  },
  {
   "cell_type": "markdown",
   "metadata": {},
   "source": [
    "Instantiate the TUnfoldBinning Scheme. The \"signal\" node represents the generator level (coarser) binning whereas the \"detector\" node represents the (finer) input binning scheme. "
   ]
  },
  {
   "cell_type": "code",
   "execution_count": 3,
   "metadata": {},
   "outputs": [
    {
     "name": "stdout",
     "output_type": "stream",
     "text": [
      "array('d', [0.0, 1.0, 2.0, 3.0, 4.0])\n",
      "There are 4 (signal) generator level bins in the simple scheme\n",
      "---------------------------------------------------------------\n",
      "signalBinning\n",
      "0.0\n",
      "50.0\n",
      "100.0\n"
     ]
    }
   ],
   "source": [
    "generatorBinning = ROOT.TUnfoldBinning(\"generator\")\n",
    "### Need coarser binning for signal\n",
    "signalBinning = generatorBinning.AddBinning(\"signal\")    \n",
    "signalBinning.AddAxis(\"massgen\",nmbinsGen,mbinsGen,\n",
    "                        True, # needed for fakes\n",
    "                        True # overflow bin\n",
    "                        )\n",
    "signalBinning.AddAxis(\"ptgen\",nptbinsGen,ptbinsGen,\n",
    "                        True, # needed for fakes\n",
    "                        True # overflow bin\n",
    "                        )\n",
    "\n",
    "# X axis : generator binning is Signal : mgen * ptgen and Background : mrec * ptrec\n",
    "\n",
    "xaxis =  array.array('d',[a for a in xrange(nmbinsGen *nptbinsGen + 1 )])\n",
    "nx = len(xaxis)-1\n",
    "\n",
    "print xaxis\n",
    "print \"There are {} (signal) generator level bins in the simple scheme\".format(nx)\n",
    "print \"---------------------------------------------------------------\"\n",
    "\n",
    "print \"signalBinning\"\n",
    "for i in xrange(len(signalBinning.GetDistributionBinning(0))):\n",
    "    print  signalBinning.GetDistributionBinning(0)[i]\n",
    "\n",
    "#print \"detectorBinning\"\n",
    "#for i in xrange(len(backgroundBinning.GetDistributionBinning(0))):\n",
    "#    print backgroundBinning.GetDistributionBinning(0)[i]\n",
    "    \n",
    "#print \"Below counts include overflow and underflow bins\"    \n",
    "#print \"There are {} signal {} background bins in the generator scheme\".format(signalBinning.GetTH1xNumberOfBins() , backgroundBinning.GetDistributionNumberOfBins())\n",
    "genBin = generatorBinning"
   ]
  },
  {
   "cell_type": "code",
   "execution_count": 4,
   "metadata": {},
   "outputs": [
    {
     "name": "stdout",
     "output_type": "stream",
     "text": [
      "array('d', [0.0, 1.0, 2.0, 3.0, 4.0, 5.0, 6.0, 7.0, 8.0])\n",
      "There are 8  detector level bins in the simple scheme\n",
      "detectorBinning\n",
      "0.0\n",
      "25.0\n",
      "50.0\n",
      "75.0\n",
      "100.0\n",
      "Below counts include overflow and underflow bins\n",
      "There are 15 bins in the detector scheme\n"
     ]
    }
   ],
   "source": [
    "detectorBinning = ROOT.TUnfoldBinning(\"detector\") \n",
    "detectorDistribution=detectorBinning.AddBinning(\"detectordistribution\")\n",
    "detectorDistribution.AddAxis(\"mass\",nmbinsDet,mbinsDet,\n",
    "                        False, # no underflow bin (not reconstructed)\n",
    "                        True # overflow bin\n",
    "                        )\n",
    "detectorDistribution.AddAxis(\"pt\",nptbinsDet,ptbinsDet,\n",
    "                        False, # no underflow bin (not reconstructed)\n",
    "                        True # overflow bin\n",
    "                        )\n",
    "\n",
    "yaxis =  array.array('d',[a for a in xrange(nmbinsDet *nptbinsDet+1 )])\n",
    "ny = len(yaxis)-1\n",
    "\n",
    "print yaxis\n",
    "print \"There are {}  detector level bins in the simple scheme\".format(ny)\n",
    "print \"detectorBinning\"\n",
    "for i in xrange(len(detectorDistribution.GetDistributionBinning(0))):\n",
    "    print detectorDistribution.GetDistributionBinning(0)[i]\n",
    "    \n",
    "print \"Below counts include overflow and underflow bins\"  \n",
    "print \"There are {} bins in the detector scheme\".format(detectorDistribution.GetTH1xNumberOfBins())#GetDistributionNumberOfBins())\n",
    "detBin  = detectorBinning"
   ]
  },
  {
   "cell_type": "markdown",
   "metadata": {
    "collapsed": true
   },
   "source": [
    "# Create Response Matrix and 1D input "
   ]
  },
  {
   "cell_type": "code",
   "execution_count": 5,
   "metadata": {},
   "outputs": [
    {
     "name": "stderr",
     "output_type": "stream",
     "text": [
      "/opt/local/Library/Frameworks/Python.framework/Versions/2.7/lib/python2.7/site-packages/ipykernel_launcher.py:7: RuntimeWarning: creating converter for unknown type \"int**\"\n",
      "  import sys\n"
     ]
    }
   ],
   "source": [
    "\n",
    "\n",
    "M = ROOT.TUnfoldBinning.CreateHistogramOfMigrations(generatorBinning,detectorBinning,\"M\")\n",
    "M1 = ROOT.TUnfoldBinning.CreateHistogramOfMigrations(generatorBinning,detectorBinning,\"M+1#sigma\")\n",
    "M2 = ROOT.TUnfoldBinning.CreateHistogramOfMigrations(generatorBinning,detectorBinning,\"M-1#sigma\")\n",
    "\n",
    "h = detectorBinning.CreateHistogram(\"h\")\n",
    "\n",
    "hup = detectorBinning.CreateHistogram(\"hup\")\n",
    "hdn = detectorBinning.CreateHistogram(\"hdn\")\n",
    "hup.SetLineStyle(2)\n",
    "hdn.SetLineStyle(3)\n",
    "\n",
    "\n",
    "htrue = generatorBinning.CreateHistogram(\"htrue\")\n",
    "htruef = detectorBinning.CreateHistogram(\"htruef\")\n",
    "\n"
   ]
  },
  {
   "cell_type": "markdown",
   "metadata": {},
   "source": [
    "## Generate the response matrix\n",
    "\n",
    "Here, we have a respone matrix with 4 coarse and 8 fine bins (configurable). The variable of interest ($x$) ranges from 0 to 100. We assume the resolution on $x$ is 1.0, and that there is a systematic uncertainty \"scale\", which has an \"up\" and \"down\" variation of 2%. We generate 10000 pseudo-events for each value of x between 0 and 100, smeared by the resolution. For each of the \"x\" values, a reconstructed \"y\" value is constructed, again smeared by the resolution. We then add the \"up\" and \"down\" scale uncertainites. Finally, we construct TH2 matrices that represent the response matrices. "
   ]
  },
  {
   "cell_type": "code",
   "execution_count": 6,
   "metadata": {},
   "outputs": [],
   "source": [
    "\n",
    "\n",
    "nev = 100000\n",
    "xavg = 110.\n",
    "yavg = 110.\n",
    "xres = 1.\n",
    "yres = 1.\n",
    "gen2x = np.random.random(nev) * xavg\n",
    "reco2x = np.random.randn(nev) * xres + gen2x\n",
    "gen2y = np.random.random(nev) * yavg\n",
    "reco2y = np.random.randn(nev) * yres + gen2y\n",
    "\n",
    "scaleup = 1.1\n",
    "scaledn = 0.9\n",
    "\n",
    "gen2yu = np.random.random(nev) * yavg*scaleup\n",
    "reco2yu = np.random.randn(nev) * yres + gen2yu\n",
    "\n",
    "\n",
    "gen2yd = np.random.random(nev) * yavg*scaledn\n",
    "reco2yd = np.random.randn(nev) * yres + gen2yd\n",
    "\n",
    "\n",
    "gen2 = np.array( [gen2x,gen2y] ).T\n",
    "reco2 = np.array( [reco2x,reco2y] ).T\n",
    "r = np.array( [gen2x, gen2y, reco2x, reco2y] ).T\n",
    "\n",
    "ru = np.array( [gen2x, gen2yu, reco2x, reco2yu] ).T\n",
    "rd = np.array( [gen2x, gen2yd, reco2x, reco2yd] ).T\n",
    "\n"
   ]
  },
  {
   "cell_type": "code",
   "execution_count": 7,
   "metadata": {},
   "outputs": [],
   "source": [
    "\n",
    "r_scaleup = ru\n",
    "r_scaledn = rd\n",
    "\n",
    "#r_scaleup[:,3] *= scaleup\n",
    "#r_scaledn[:,3] *= scaledn\n",
    "\n"
   ]
  },
  {
   "cell_type": "code",
   "execution_count": 8,
   "metadata": {},
   "outputs": [],
   "source": [
    "\n",
    "\n",
    "\n",
    "\n",
    "for i in xrange(nev):\n",
    "    xg = r[i,0]\n",
    "    yg = r[i,1]\n",
    "    xr = r[i,2]\n",
    "    yr = r[i,3]\n",
    "    \n",
    "    yru = r_scaleup[i,3]\n",
    "    yrd = r_scaledn[i,3]\n",
    "    \n",
    "    \n",
    "    glob_recb= detectorDistribution.GetGlobalBinNumber(xr,yr)\n",
    "    glob_genb= signalBinning.GetGlobalBinNumber(xg, yg)\n",
    "\n",
    "\n",
    "    h.Fill(glob_recb)\n",
    "\n",
    "    glob_recbU = detectorDistribution.GetGlobalBinNumber(xr , yru)\n",
    "    glob_recbD = detectorDistribution.GetGlobalBinNumber(xr , yrd)\n",
    "      \n",
    "    M.Fill(glob_genb, glob_recb)#, #1./Npe)\n",
    "    M1.Fill(glob_genb, glob_recbU)#, 1./Npe)\n",
    "    M2.Fill(glob_genb, glob_recbD)#, 1./Npe)\n",
    "    \n",
    "    \n",
    "    htrue.Fill(glob_genb)\n",
    "    glob_recb_GenObj = detectorDistribution.GetGlobalBinNumber(xg,yg)\n",
    "\n",
    "    htruef.Fill(glob_recb_GenObj)\n",
    "    \n",
    "   "
   ]
  },
  {
   "cell_type": "code",
   "execution_count": null,
   "metadata": {
    "collapsed": true
   },
   "outputs": [],
   "source": []
  },
  {
   "cell_type": "code",
   "execution_count": 9,
   "metadata": {},
   "outputs": [
    {
     "name": "stdout",
     "output_type": "stream",
     "text": [
      "Bin X 6 #6 (signal:ptgen[0,50]:massgen[0,50]) Y 0 #0 is filled with 313.0 \n",
      "Bin X 6 #6 (signal:ptgen[0,50]:massgen[0,50]) Y 1 #1 (detectordistribution:pt[0,50]:mass[0,25]) is filled with 9984.0 \n",
      "Bin X 6 #6 (signal:ptgen[0,50]:massgen[0,50]) Y 2 #2 (detectordistribution:pt[0,50]:mass[25,50]) is filled with 10005.0 \n",
      "Bin X 6 #6 (signal:ptgen[0,50]:massgen[0,50]) Y 3 #3 (detectordistribution:pt[0,50]:mass[50,75]) is filled with 175.0 \n",
      "Bin X 6 #6 (signal:ptgen[0,50]:massgen[0,50]) Y 6 #6 (detectordistribution:pt[50,100]:mass[0,25]) is filled with 97.0 \n",
      "Bin X 6 #6 (signal:ptgen[0,50]:massgen[0,50]) Y 7 #7 (detectordistribution:pt[50,100]:mass[25,50]) is filled with 85.0 \n",
      "Bin X 7 #7 (signal:ptgen[0,50]:massgen[50,100]) Y 0 #0 is filled with 152.0 \n",
      "Bin X 7 #7 (signal:ptgen[0,50]:massgen[50,100]) Y 2 #2 (detectordistribution:pt[0,50]:mass[25,50]) is filled with 144.0 \n",
      "Bin X 7 #7 (signal:ptgen[0,50]:massgen[50,100]) Y 3 #3 (detectordistribution:pt[0,50]:mass[50,75]) is filled with 9973.0 \n",
      "Bin X 7 #7 (signal:ptgen[0,50]:massgen[50,100]) Y 4 #4 (detectordistribution:pt[0,50]:mass[75,100]) is filled with 9882.0 \n",
      "Bin X 7 #7 (signal:ptgen[0,50]:massgen[50,100]) Y 5 #5 (detectordistribution:pt[0,50]:mass[ofl]) is filled with 163.0 \n",
      "Bin X 7 #7 (signal:ptgen[0,50]:massgen[50,100]) Y 7 #7 (detectordistribution:pt[50,100]:mass[25,50]) is filled with 3.0 \n",
      "Bin X 7 #7 (signal:ptgen[0,50]:massgen[50,100]) Y 8 #8 (detectordistribution:pt[50,100]:mass[50,75]) is filled with 99.0 \n",
      "Bin X 7 #7 (signal:ptgen[0,50]:massgen[50,100]) Y 9 #9 (detectordistribution:pt[50,100]:mass[75,100]) is filled with 79.0 \n",
      "Bin X 8 #8 (signal:ptgen[0,50]:massgen[ofl]) Y 0 #0 is filled with 39.0 \n",
      "Bin X 8 #8 (signal:ptgen[0,50]:massgen[ofl]) Y 4 #4 (detectordistribution:pt[0,50]:mass[75,100]) is filled with 142.0 \n",
      "Bin X 8 #8 (signal:ptgen[0,50]:massgen[ofl]) Y 5 #5 (detectordistribution:pt[0,50]:mass[ofl]) is filled with 3944.0 \n",
      "Bin X 8 #8 (signal:ptgen[0,50]:massgen[ofl]) Y 10 #10 (detectordistribution:pt[50,100]:mass[ofl]) is filled with 24.0 \n",
      "Bin X 10 #10 (signal:ptgen[50,100]:massgen[0,50]) Y 0 #0 is filled with 151.0 \n",
      "Bin X 10 #10 (signal:ptgen[50,100]:massgen[0,50]) Y 1 #1 (detectordistribution:pt[0,50]:mass[0,25]) is filled with 88.0 \n",
      "Bin X 10 #10 (signal:ptgen[50,100]:massgen[0,50]) Y 2 #2 (detectordistribution:pt[0,50]:mass[25,50]) is filled with 70.0 \n",
      "Bin X 10 #10 (signal:ptgen[50,100]:massgen[0,50]) Y 6 #6 (detectordistribution:pt[50,100]:mass[0,25]) is filled with 10089.0 \n",
      "Bin X 10 #10 (signal:ptgen[50,100]:massgen[0,50]) Y 7 #7 (detectordistribution:pt[50,100]:mass[25,50]) is filled with 10166.0 \n",
      "Bin X 10 #10 (signal:ptgen[50,100]:massgen[0,50]) Y 8 #8 (detectordistribution:pt[50,100]:mass[50,75]) is filled with 149.0 \n",
      "Bin X 10 #10 (signal:ptgen[50,100]:massgen[0,50]) Y 11 #11 (detectordistribution:pt[ofl]:mass[0,25]) is filled with 62.0 \n",
      "Bin X 10 #10 (signal:ptgen[50,100]:massgen[0,50]) Y 12 #12 (detectordistribution:pt[ofl]:mass[25,50]) is filled with 84.0 \n",
      "Bin X 10 #10 (signal:ptgen[50,100]:massgen[0,50]) Y 13 #13 (detectordistribution:pt[ofl]:mass[50,75]) is filled with 4.0 \n",
      "Bin X 11 #11 (signal:ptgen[50,100]:massgen[50,100]) Y 3 #3 (detectordistribution:pt[0,50]:mass[50,75]) is filled with 89.0 \n",
      "Bin X 11 #11 (signal:ptgen[50,100]:massgen[50,100]) Y 4 #4 (detectordistribution:pt[0,50]:mass[75,100]) is filled with 68.0 \n",
      "Bin X 11 #11 (signal:ptgen[50,100]:massgen[50,100]) Y 7 #7 (detectordistribution:pt[50,100]:mass[25,50]) is filled with 165.0 \n",
      "Bin X 11 #11 (signal:ptgen[50,100]:massgen[50,100]) Y 8 #8 (detectordistribution:pt[50,100]:mass[50,75]) is filled with 9952.0 \n",
      "Bin X 11 #11 (signal:ptgen[50,100]:massgen[50,100]) Y 9 #9 (detectordistribution:pt[50,100]:mass[75,100]) is filled with 9969.0 \n",
      "Bin X 11 #11 (signal:ptgen[50,100]:massgen[50,100]) Y 10 #10 (detectordistribution:pt[50,100]:mass[ofl]) is filled with 169.0 \n",
      "Bin X 11 #11 (signal:ptgen[50,100]:massgen[50,100]) Y 13 #13 (detectordistribution:pt[ofl]:mass[50,75]) is filled with 69.0 \n",
      "Bin X 11 #11 (signal:ptgen[50,100]:massgen[50,100]) Y 14 #14 (detectordistribution:pt[ofl]:mass[75,100]) is filled with 74.0 \n",
      "Bin X 12 #12 (signal:ptgen[50,100]:massgen[ofl]) Y 4 #4 (detectordistribution:pt[0,50]:mass[75,100]) is filled with 2.0 \n",
      "Bin X 12 #12 (signal:ptgen[50,100]:massgen[ofl]) Y 5 #5 (detectordistribution:pt[0,50]:mass[ofl]) is filled with 38.0 \n",
      "Bin X 12 #12 (signal:ptgen[50,100]:massgen[ofl]) Y 9 #9 (detectordistribution:pt[50,100]:mass[75,100]) is filled with 170.0 \n",
      "Bin X 12 #12 (signal:ptgen[50,100]:massgen[ofl]) Y 10 #10 (detectordistribution:pt[50,100]:mass[ofl]) is filled with 3870.0 \n",
      "Bin X 14 #14 (signal:ptgen[ofl]:massgen[0,50]) Y 0 #0 is filled with 42.0 \n",
      "Bin X 14 #14 (signal:ptgen[ofl]:massgen[0,50]) Y 6 #6 (detectordistribution:pt[50,100]:mass[0,25]) is filled with 95.0 \n",
      "Bin X 14 #14 (signal:ptgen[ofl]:massgen[0,50]) Y 7 #7 (detectordistribution:pt[50,100]:mass[25,50]) is filled with 79.0 \n",
      "Bin X 14 #14 (signal:ptgen[ofl]:massgen[0,50]) Y 11 #11 (detectordistribution:pt[ofl]:mass[0,25]) is filled with 2067.0 \n",
      "Bin X 14 #14 (signal:ptgen[ofl]:massgen[0,50]) Y 12 #12 (detectordistribution:pt[ofl]:mass[25,50]) is filled with 1980.0 \n",
      "Bin X 14 #14 (signal:ptgen[ofl]:massgen[0,50]) Y 13 #13 (detectordistribution:pt[ofl]:mass[50,75]) is filled with 35.0 \n",
      "Bin X 15 #15 (signal:ptgen[ofl]:massgen[50,100]) Y 7 #7 (detectordistribution:pt[50,100]:mass[25,50]) is filled with 3.0 \n",
      "Bin X 15 #15 (signal:ptgen[ofl]:massgen[50,100]) Y 8 #8 (detectordistribution:pt[50,100]:mass[50,75]) is filled with 81.0 \n",
      "Bin X 15 #15 (signal:ptgen[ofl]:massgen[50,100]) Y 9 #9 (detectordistribution:pt[50,100]:mass[75,100]) is filled with 75.0 \n",
      "Bin X 15 #15 (signal:ptgen[ofl]:massgen[50,100]) Y 12 #12 (detectordistribution:pt[ofl]:mass[25,50]) is filled with 24.0 \n",
      "Bin X 15 #15 (signal:ptgen[ofl]:massgen[50,100]) Y 13 #13 (detectordistribution:pt[ofl]:mass[50,75]) is filled with 1893.0 \n",
      "Bin X 15 #15 (signal:ptgen[ofl]:massgen[50,100]) Y 14 #14 (detectordistribution:pt[ofl]:mass[75,100]) is filled with 1952.0 \n"
     ]
    }
   ],
   "source": [
    "for bx in xrange(M.GetNbinsX()):\n",
    "    for by in xrange(M.GetNbinsY()):\n",
    "        bc = M.GetBinContent(bx,by)\n",
    "        if bc > 1. :\n",
    "            gxn = signalBinning.GetBinName(bx)\n",
    "            gyn = detectorDistribution.GetBinName(by)\n",
    "            print \"Bin X {} {} Y {} {} is filled with {} \".format(bx, gxn, by, gyn, bc)"
   ]
  },
  {
   "cell_type": "markdown",
   "metadata": {},
   "source": [
    "# Normalize by Pt (y) bin"
   ]
  },
  {
   "cell_type": "code",
   "execution_count": 10,
   "metadata": {
    "collapsed": true
   },
   "outputs": [],
   "source": [
    "#ptbinsgenglobal = [ [0,5] ,[6,8], [9,11], [12,12]   ]\n",
    "ptbinsgenglobal = [ [0,5] ,[6,8], [10,12] , [13,13]  ]\n",
    "\n",
    "ptbinsdetglobal = [  [0,0] , [1,5] , [6,10] , [11,15] ]#, [16,18 ]  ]\n"
   ]
  },
  {
   "cell_type": "code",
   "execution_count": null,
   "metadata": {
    "collapsed": true
   },
   "outputs": [],
   "source": []
  },
  {
   "cell_type": "code",
   "execution_count": 11,
   "metadata": {
    "collapsed": true
   },
   "outputs": [],
   "source": [
    "\n",
    "def NormM(rMMx = None  , recoorgen2 = None,  nameg = None) :\n",
    "\n",
    "    ### Make a new empty TH2 so the OFL and UFL will be zero\n",
    "    rMMnx = rMMx.Clone(nameg)\n",
    "    for xx in xrange(rMMnx.GetNbinsX()+1) :\n",
    "        for yy in xrange(rMMnx.GetNbinsY()+1) :\n",
    "            rMMnx.SetBinContent(xx , yy ,0.0) \n",
    "            rMMnx.SetBinError(xx , yy ,0.0)   \n",
    "        \n",
    "    \n",
    "    intscales3 = [ ]\n",
    "    intsums = [ ]\n",
    "    intsums2 = [ ]\n",
    "    bins1 = [ ]\n",
    "    bins2 = [ ]\n",
    "\n",
    "    #if intscalesin == None :\n",
    "    ptbs1 = None\n",
    "    ptbs2 = None    \n",
    "    if recoorgen2 == 'reco':  \n",
    "        ptbs1 = ptbinsdetglobal\n",
    "        ptbs2 = ptbinsgenglobal \n",
    "        bins1 = detBin\n",
    "        noden1 = \"detectordistribution\"\n",
    "        bins2 = genBin\n",
    "        noden2 = \"signal\"\n",
    "    elif recoorgen2 == 'gen':  \n",
    "        ptbs1 = ptbinsgenglobal\n",
    "        ptbs2 = ptbinsdetglobal \n",
    "        bins1 = genBin\n",
    "        noden1 = \"signal\"\n",
    "        bins2 = detBin\n",
    "        noden2 = \"detectordistribution\"\n",
    "        \n",
    "    for iptb,ptbg in enumerate(ptbs1[1:-1]) :\n",
    "        sumn = 0\n",
    "        tint = 0.\n",
    "        #print ptbinsGen[iptb]\n",
    "        #print ptbinsGen[iptb+1]\n",
    "        #ptw = ptbinsGen[iptb+1] - ptbinsGen[iptb]\n",
    "        #print \"New Pt bin {}- {} GeV of width {} GeV\".format(ptbinsGen[iptb] , ptbinsGen[iptb+1] , ptw )\n",
    "        for iy in xrange( ptbg[0], ptbg[1]): #  \n",
    "            \n",
    "            db = bins1.FindNode(noden1).GetBinName(iy)\n",
    "            print db\n",
    "            dbs = bins1.FindNode(noden1).GetBinSize(iy)\n",
    "            tgbs = dbs #1.     \n",
    "            bw = 1.\n",
    "            #print ptw\n",
    "            #if ptw > 0.:\n",
    "            #    tgbs = gbs/ptw\n",
    "            #print    tgbs \n",
    "            for iptbr,ptbr in enumerate(ptbs2[1:-1]) :\n",
    "                for ix in xrange(ptbr[0],ptbr[1]):\n",
    "                    print ptbr[0]\n",
    "                    print \"to\"\n",
    "                    print ptbr[1]\n",
    "                    gb = bins2.FindNode(noden2).GetBinName(ix)\n",
    "                    #db = detBin.FindNode(\"detectordistribution\").GetBinName(ix)\n",
    "                    #if 'mass[ofl]' in str(db): \n",
    "                    print \"....\"+str(gb)\n",
    "                    #    continue\n",
    "                    gbs = bins2.FindNode(noden2).GetBinSize(ix)\n",
    "                    \n",
    "                    #if iy ==1:print dbs\n",
    "                    #tdbs = dbs#/ptw\n",
    "                    #print tdbs\n",
    "                    bw = gbs*dbs\n",
    "\n",
    "                    rbc = rMMx.GetBinContent(ix , iy)\n",
    "                    trbc = rMMx.GetBinContent(ix , iy)\n",
    "                    #print trbc\n",
    "\n",
    "                    rbe = rMMx.GetBinError(ix , iy)\n",
    "                    trbe = rMMx.GetBinError(ix , iy)\n",
    "                    #print bw\n",
    "                    if bw > 0. :\n",
    "                        trbc = rbc/bw\n",
    "                        trbe = rbe/bw               \n",
    "                    rMMnx.SetBinContent(ix, iy , trbc)    \n",
    "                    rMMnx.SetBinError(ix, iy , trbe)  \n",
    "                    tint+=trbc\n",
    "                    sumn+=1\n",
    "        print \"Integral of bin {} {} is {} and it was the sum of {} bins\".format(ptbg, iptb, tint, sumn)        \n",
    "        intscales3.append(tint)\n",
    "        intsums.append(sumn)\n",
    "    print \"Integral of bin x :\"\n",
    "    print intscales3\n",
    "    #elif intscalesin != None :\n",
    "    #    intscales = tint #intscalesin\n",
    "    print \"scaling by {}\".format(tint)\n",
    "    for iptb,ptbg in enumerate(ptbs1[1:-1]) :\n",
    "        sumn2 = 0\n",
    "        sdsdx = intscales3[iptb]\n",
    "        #print sdsdx\n",
    "        #print ptbg\n",
    "        #print iptb\n",
    "        #print \"New Pt bin \"\n",
    "        for iy in xrange( ptbg[0], ptbg[1]): #  \n",
    "            for iptbr,ptbr in enumerate(ptbs2[1:-1]) :\n",
    "                for ix in xrange(ptbr[0],ptbr[1]):\n",
    "\n",
    "                    rbc = rMMnx.GetBinContent(ix , iy)\n",
    "                    trbc = rMMnx.GetBinContent(ix , iy)\n",
    "                    #print trbc\n",
    "\n",
    "                    rbe = rMMnx.GetBinError(ix , iy)\n",
    "                    trbe = rMMnx.GetBinError(ix , iy)\n",
    "                    #print bw\n",
    "                    if sdsdx > 0. :\n",
    "                        trbc = rbc/sdsdx\n",
    "                        trbe = rbe/sdsdx               \n",
    "                    rMMnx.SetBinContent(ix , iy , trbc)    \n",
    "                    rMMnx.SetBinError(ix , iy, trbe) \n",
    "                    sumn2 +=1\n",
    "        intsums2.append(sumn2)     \n",
    "    print intsums\n",
    "    print intsums2    \n",
    "    return rMMnx #, intscales3 ]\n",
    "\n"
   ]
  },
  {
   "cell_type": "code",
   "execution_count": null,
   "metadata": {
    "collapsed": true
   },
   "outputs": [],
   "source": []
  },
  {
   "cell_type": "code",
   "execution_count": null,
   "metadata": {
    "collapsed": true
   },
   "outputs": [],
   "source": []
  },
  {
   "cell_type": "code",
   "execution_count": null,
   "metadata": {
    "collapsed": true
   },
   "outputs": [],
   "source": []
  },
  {
   "cell_type": "code",
   "execution_count": 12,
   "metadata": {
    "collapsed": true
   },
   "outputs": [],
   "source": [
    "def NormXorY(XorY = None , recorgen = None , nameg = None) :\n",
    "    ### Make a new empty TH1 so the OFL and UFL will be zero\n",
    "    XorYn = XorY.Clone()\n",
    "    for xx in xrange(XorY.GetNbinsX()+1) :\n",
    "        XorYn.SetBinContent(xx  ,0.0) \n",
    "        XorYn.SetBinError(xx  ,0.0)   \n",
    "        \n",
    "    gpts = None\n",
    "    bins = None\n",
    "    noden = None\n",
    "\n",
    "    \n",
    "    \n",
    "    if recorgen == 'reco' :\n",
    "        gpts = ptbinsdetglobal\n",
    "        bins = detBin\n",
    "        noden = \"detectordistribution\"\n",
    "    elif recorgen == 'gen' :\n",
    "        gpts = ptbinsgenglobal        \n",
    "        bins = genBin\n",
    "        noden = \"signal\"\n",
    "    intscalesx = [ ]\n",
    "    \n",
    "    for iptbr,ptbr in enumerate(gpts[1:-1]) :\n",
    "        tint = 0.\n",
    "        print iptbr\n",
    "        print ptbr        \n",
    "        #print ptbinsGen[iptbr+1]\n",
    "        #print ptbinsGen[iptbr]        \n",
    "        #ptw = ptbinsGen[iptbr+1] - ptbinsGen[iptbr]\n",
    "        for iy in xrange(ptbr[0],ptbr[1]):\n",
    "            #print ptbr[0]\n",
    "            #print \"to\"\n",
    "            #print ptbr[1]\n",
    "            db = bins.FindNode(noden).GetBinName(iy)\n",
    "            #if 'mass[ofl]' in str(db): \n",
    "            print db\n",
    "            #    continue\n",
    "            dbs = bins.FindNode(noden).GetBinSize(iy)\n",
    "            #if iy ==1:print dbs\n",
    "            tdbs = dbs#/ptw\n",
    "            #if bins == genBin:\n",
    "            #    tdbs = tdbs * ptw\n",
    "            bw = tdbs# *ptw\n",
    "\n",
    "            rbc = XorY.GetBinContent(iy)\n",
    "            trbc = 0.#XorY.GetBinContent( iy)\n",
    "            #print trbc\n",
    "\n",
    "            rbe = XorY.GetBinError( iy)\n",
    "            trbe = 0.#XorY.GetBinError( iy)\n",
    "            #print bw\n",
    "            if bw > 0. :\n",
    "                trbc = rbc/bw\n",
    "                trbe = rbe/bw               \n",
    "            XorYn.SetBinContent(iy , trbc)    \n",
    "            XorYn.SetBinError(iy , trbe)  \n",
    "            tint+=trbc\n",
    "        intscalesx.append(tint)\n",
    "    print \"Integral of bin x for NormXorY is :\"\n",
    "    print intscalesx\n",
    "\n",
    "\n",
    "    for iptb,ptbg in enumerate(gpts[1:-1]) :\n",
    "        tint = 0.\n",
    "        sdsd = intscalesx[iptb]\n",
    "        print sdsd\n",
    "        print ptbg\n",
    "        print iptb\n",
    "        print \"New Pt bin \"\n",
    "        for ix in xrange( ptbg[0], ptbg[1]): #  \n",
    "\n",
    "            rbc = XorYn.GetBinContent(ix)\n",
    "            trbc = 0.#XorYn.GetBinContent(ix)\n",
    "            #print trbc\n",
    "\n",
    "            rbe = XorYn.GetBinError(ix)\n",
    "            trbe =0. #XorYn.GetBinError(ix)\n",
    "            #print bw\n",
    "            if sdsd > 0. :\n",
    "                trbc = rbc/sdsd\n",
    "                trbe = rbe/sdsd                \n",
    "            XorYn.SetBinContent(ix , trbc)    \n",
    "            XorYn.SetBinError(ix, trbe)  \n",
    "    return XorYn.Clone(nameg)\n",
    "\n",
    "               "
   ]
  },
  {
   "cell_type": "code",
   "execution_count": 13,
   "metadata": {},
   "outputs": [
    {
     "name": "stdout",
     "output_type": "stream",
     "text": [
      "#1 (detectordistribution:pt[0,50]:mass[0,25])\n",
      "6\n",
      "to\n",
      "8\n",
      "....#6 (signal:ptgen[0,50]:massgen[0,50])\n",
      "6\n",
      "to\n",
      "8\n",
      "....#7 (signal:ptgen[0,50]:massgen[50,100])\n",
      "10\n",
      "to\n",
      "12\n",
      "....#10 (signal:ptgen[50,100]:massgen[0,50])\n",
      "10\n",
      "to\n",
      "12\n",
      "....#11 (signal:ptgen[50,100]:massgen[50,100])\n",
      "#2 (detectordistribution:pt[0,50]:mass[25,50])\n",
      "6\n",
      "to\n",
      "8\n",
      "....#6 (signal:ptgen[0,50]:massgen[0,50])\n",
      "6\n",
      "to\n",
      "8\n",
      "....#7 (signal:ptgen[0,50]:massgen[50,100])\n",
      "10\n",
      "to\n",
      "12\n",
      "....#10 (signal:ptgen[50,100]:massgen[0,50])\n",
      "10\n",
      "to\n",
      "12\n",
      "....#11 (signal:ptgen[50,100]:massgen[50,100])\n",
      "#3 (detectordistribution:pt[0,50]:mass[50,75])\n",
      "6\n",
      "to\n",
      "8\n",
      "....#6 (signal:ptgen[0,50]:massgen[0,50])\n",
      "6\n",
      "to\n",
      "8\n",
      "....#7 (signal:ptgen[0,50]:massgen[50,100])\n",
      "10\n",
      "to\n",
      "12\n",
      "....#10 (signal:ptgen[50,100]:massgen[0,50])\n",
      "10\n",
      "to\n",
      "12\n",
      "....#11 (signal:ptgen[50,100]:massgen[50,100])\n",
      "#4 (detectordistribution:pt[0,50]:mass[75,100])\n",
      "6\n",
      "to\n",
      "8\n",
      "....#6 (signal:ptgen[0,50]:massgen[0,50])\n",
      "6\n",
      "to\n",
      "8\n",
      "....#7 (signal:ptgen[0,50]:massgen[50,100])\n",
      "10\n",
      "to\n",
      "12\n",
      "....#10 (signal:ptgen[50,100]:massgen[0,50])\n",
      "10\n",
      "to\n",
      "12\n",
      "....#11 (signal:ptgen[50,100]:massgen[50,100])\n",
      "Integral of bin [1, 5] 0 is 0.01295296 and it was the sum of 16 bins\n",
      "#6 (detectordistribution:pt[50,100]:mass[0,25])\n",
      "6\n",
      "to\n",
      "8\n",
      "....#6 (signal:ptgen[0,50]:massgen[0,50])\n",
      "6\n",
      "to\n",
      "8\n",
      "....#7 (signal:ptgen[0,50]:massgen[50,100])\n",
      "10\n",
      "to\n",
      "12\n",
      "....#10 (signal:ptgen[50,100]:massgen[0,50])\n",
      "10\n",
      "to\n",
      "12\n",
      "....#11 (signal:ptgen[50,100]:massgen[50,100])\n",
      "#7 (detectordistribution:pt[50,100]:mass[25,50])\n",
      "6\n",
      "to\n",
      "8\n",
      "....#6 (signal:ptgen[0,50]:massgen[0,50])\n",
      "6\n",
      "to\n",
      "8\n",
      "....#7 (signal:ptgen[0,50]:massgen[50,100])\n",
      "10\n",
      "to\n",
      "12\n",
      "....#10 (signal:ptgen[50,100]:massgen[0,50])\n",
      "10\n",
      "to\n",
      "12\n",
      "....#11 (signal:ptgen[50,100]:massgen[50,100])\n",
      "#8 (detectordistribution:pt[50,100]:mass[50,75])\n",
      "6\n",
      "to\n",
      "8\n",
      "....#6 (signal:ptgen[0,50]:massgen[0,50])\n",
      "6\n",
      "to\n",
      "8\n",
      "....#7 (signal:ptgen[0,50]:massgen[50,100])\n",
      "10\n",
      "to\n",
      "12\n",
      "....#10 (signal:ptgen[50,100]:massgen[0,50])\n",
      "10\n",
      "to\n",
      "12\n",
      "....#11 (signal:ptgen[50,100]:massgen[50,100])\n",
      "#9 (detectordistribution:pt[50,100]:mass[75,100])\n",
      "6\n",
      "to\n",
      "8\n",
      "....#6 (signal:ptgen[0,50]:massgen[0,50])\n",
      "6\n",
      "to\n",
      "8\n",
      "....#7 (signal:ptgen[0,50]:massgen[50,100])\n",
      "10\n",
      "to\n",
      "12\n",
      "....#10 (signal:ptgen[50,100]:massgen[0,50])\n",
      "10\n",
      "to\n",
      "12\n",
      "....#11 (signal:ptgen[50,100]:massgen[50,100])\n",
      "Integral of bin [6, 10] 1 is 0.01307328 and it was the sum of 16 bins\n",
      "Integral of bin x :\n",
      "[0.01295296, 0.01307328]\n",
      "scaling by 0.01307328\n",
      "[16, 16]\n",
      "[16, 16]\n"
     ]
    }
   ],
   "source": [
    "\n",
    "respN = 'reco'\n",
    "\n",
    "M = NormM(M.Clone() , respN,\"M_norm\") \n"
   ]
  },
  {
   "cell_type": "code",
   "execution_count": 14,
   "metadata": {},
   "outputs": [
    {
     "name": "stdout",
     "output_type": "stream",
     "text": [
      "#1 (detectordistribution:pt[0,50]:mass[0,25])\n",
      "6\n",
      "to\n",
      "8\n",
      "....#6 (signal:ptgen[0,50]:massgen[0,50])\n",
      "6\n",
      "to\n",
      "8\n",
      "....#7 (signal:ptgen[0,50]:massgen[50,100])\n",
      "10\n",
      "to\n",
      "12\n",
      "....#10 (signal:ptgen[50,100]:massgen[0,50])\n",
      "10\n",
      "to\n",
      "12\n",
      "....#11 (signal:ptgen[50,100]:massgen[50,100])\n",
      "#2 (detectordistribution:pt[0,50]:mass[25,50])\n",
      "6\n",
      "to\n",
      "8\n",
      "....#6 (signal:ptgen[0,50]:massgen[0,50])\n",
      "6\n",
      "to\n",
      "8\n",
      "....#7 (signal:ptgen[0,50]:massgen[50,100])\n",
      "10\n",
      "to\n",
      "12\n",
      "....#10 (signal:ptgen[50,100]:massgen[0,50])\n",
      "10\n",
      "to\n",
      "12\n",
      "....#11 (signal:ptgen[50,100]:massgen[50,100])\n",
      "#3 (detectordistribution:pt[0,50]:mass[50,75])\n",
      "6\n",
      "to\n",
      "8\n",
      "....#6 (signal:ptgen[0,50]:massgen[0,50])\n",
      "6\n",
      "to\n",
      "8\n",
      "....#7 (signal:ptgen[0,50]:massgen[50,100])\n",
      "10\n",
      "to\n",
      "12\n",
      "....#10 (signal:ptgen[50,100]:massgen[0,50])\n",
      "10\n",
      "to\n",
      "12\n",
      "....#11 (signal:ptgen[50,100]:massgen[50,100])\n",
      "#4 (detectordistribution:pt[0,50]:mass[75,100])\n",
      "6\n",
      "to\n",
      "8\n",
      "....#6 (signal:ptgen[0,50]:massgen[0,50])\n",
      "6\n",
      "to\n",
      "8\n",
      "....#7 (signal:ptgen[0,50]:massgen[50,100])\n",
      "10\n",
      "to\n",
      "12\n",
      "....#10 (signal:ptgen[50,100]:massgen[0,50])\n",
      "10\n",
      "to\n",
      "12\n",
      "....#11 (signal:ptgen[50,100]:massgen[50,100])\n",
      "Integral of bin [1, 5] 0 is 0.0107424 and it was the sum of 16 bins\n",
      "#6 (detectordistribution:pt[50,100]:mass[0,25])\n",
      "6\n",
      "to\n",
      "8\n",
      "....#6 (signal:ptgen[0,50]:massgen[0,50])\n",
      "6\n",
      "to\n",
      "8\n",
      "....#7 (signal:ptgen[0,50]:massgen[50,100])\n",
      "10\n",
      "to\n",
      "12\n",
      "....#10 (signal:ptgen[50,100]:massgen[0,50])\n",
      "10\n",
      "to\n",
      "12\n",
      "....#11 (signal:ptgen[50,100]:massgen[50,100])\n",
      "#7 (detectordistribution:pt[50,100]:mass[25,50])\n",
      "6\n",
      "to\n",
      "8\n",
      "....#6 (signal:ptgen[0,50]:massgen[0,50])\n",
      "6\n",
      "to\n",
      "8\n",
      "....#7 (signal:ptgen[0,50]:massgen[50,100])\n",
      "10\n",
      "to\n",
      "12\n",
      "....#10 (signal:ptgen[50,100]:massgen[0,50])\n",
      "10\n",
      "to\n",
      "12\n",
      "....#11 (signal:ptgen[50,100]:massgen[50,100])\n",
      "#8 (detectordistribution:pt[50,100]:mass[50,75])\n",
      "6\n",
      "to\n",
      "8\n",
      "....#6 (signal:ptgen[0,50]:massgen[0,50])\n",
      "6\n",
      "to\n",
      "8\n",
      "....#7 (signal:ptgen[0,50]:massgen[50,100])\n",
      "10\n",
      "to\n",
      "12\n",
      "....#10 (signal:ptgen[50,100]:massgen[0,50])\n",
      "10\n",
      "to\n",
      "12\n",
      "....#11 (signal:ptgen[50,100]:massgen[50,100])\n",
      "#9 (detectordistribution:pt[50,100]:mass[75,100])\n",
      "6\n",
      "to\n",
      "8\n",
      "....#6 (signal:ptgen[0,50]:massgen[0,50])\n",
      "6\n",
      "to\n",
      "8\n",
      "....#7 (signal:ptgen[0,50]:massgen[50,100])\n",
      "10\n",
      "to\n",
      "12\n",
      "....#10 (signal:ptgen[50,100]:massgen[0,50])\n",
      "10\n",
      "to\n",
      "12\n",
      "....#11 (signal:ptgen[50,100]:massgen[50,100])\n",
      "Integral of bin [6, 10] 1 is 0.01078528 and it was the sum of 16 bins\n",
      "Integral of bin x :\n",
      "[0.010742400000000001, 0.01078528]\n",
      "scaling by 0.01078528\n",
      "[16, 16]\n",
      "[16, 16]\n",
      "#1 (detectordistribution:pt[0,50]:mass[0,25])\n",
      "6\n",
      "to\n",
      "8\n",
      "....#6 (signal:ptgen[0,50]:massgen[0,50])\n",
      "6\n",
      "to\n",
      "8\n",
      "....#7 (signal:ptgen[0,50]:massgen[50,100])\n",
      "10\n",
      "to\n",
      "12\n",
      "....#10 (signal:ptgen[50,100]:massgen[0,50])\n",
      "10\n",
      "to\n",
      "12\n",
      "....#11 (signal:ptgen[50,100]:massgen[50,100])\n",
      "#2 (detectordistribution:pt[0,50]:mass[25,50])\n",
      "6\n",
      "to\n",
      "8\n",
      "....#6 (signal:ptgen[0,50]:massgen[0,50])\n",
      "6\n",
      "to\n",
      "8\n",
      "....#7 (signal:ptgen[0,50]:massgen[50,100])\n",
      "10\n",
      "to\n",
      "12\n",
      "....#10 (signal:ptgen[50,100]:massgen[0,50])\n",
      "10\n",
      "to\n",
      "12\n",
      "....#11 (signal:ptgen[50,100]:massgen[50,100])\n",
      "#3 (detectordistribution:pt[0,50]:mass[50,75])\n",
      "6\n",
      "to\n",
      "8\n",
      "....#6 (signal:ptgen[0,50]:massgen[0,50])\n",
      "6\n",
      "to\n",
      "8\n",
      "....#7 (signal:ptgen[0,50]:massgen[50,100])\n",
      "10\n",
      "to\n",
      "12\n",
      "....#10 (signal:ptgen[50,100]:massgen[0,50])\n",
      "10\n",
      "to\n",
      "12\n",
      "....#11 (signal:ptgen[50,100]:massgen[50,100])\n",
      "#4 (detectordistribution:pt[0,50]:mass[75,100])\n",
      "6\n",
      "to\n",
      "8\n",
      "....#6 (signal:ptgen[0,50]:massgen[0,50])\n",
      "6\n",
      "to\n",
      "8\n",
      "....#7 (signal:ptgen[0,50]:massgen[50,100])\n",
      "10\n",
      "to\n",
      "12\n",
      "....#10 (signal:ptgen[50,100]:massgen[0,50])\n",
      "10\n",
      "to\n",
      "12\n",
      "....#11 (signal:ptgen[50,100]:massgen[50,100])\n",
      "Integral of bin [1, 5] 0 is 0.0131136 and it was the sum of 16 bins\n",
      "#6 (detectordistribution:pt[50,100]:mass[0,25])\n",
      "6\n",
      "to\n",
      "8\n",
      "....#6 (signal:ptgen[0,50]:massgen[0,50])\n",
      "6\n",
      "to\n",
      "8\n",
      "....#7 (signal:ptgen[0,50]:massgen[50,100])\n",
      "10\n",
      "to\n",
      "12\n",
      "....#10 (signal:ptgen[50,100]:massgen[0,50])\n",
      "10\n",
      "to\n",
      "12\n",
      "....#11 (signal:ptgen[50,100]:massgen[50,100])\n",
      "#7 (detectordistribution:pt[50,100]:mass[25,50])\n",
      "6\n",
      "to\n",
      "8\n",
      "....#6 (signal:ptgen[0,50]:massgen[0,50])\n",
      "6\n",
      "to\n",
      "8\n",
      "....#7 (signal:ptgen[0,50]:massgen[50,100])\n",
      "10\n",
      "to\n",
      "12\n",
      "....#10 (signal:ptgen[50,100]:massgen[0,50])\n",
      "10\n",
      "to\n",
      "12\n",
      "....#11 (signal:ptgen[50,100]:massgen[50,100])\n",
      "#8 (detectordistribution:pt[50,100]:mass[50,75])\n",
      "6\n",
      "to\n",
      "8\n",
      "....#6 (signal:ptgen[0,50]:massgen[0,50])\n",
      "6\n",
      "to\n",
      "8\n",
      "....#7 (signal:ptgen[0,50]:massgen[50,100])\n",
      "10\n",
      "to\n",
      "12\n",
      "....#10 (signal:ptgen[50,100]:massgen[0,50])\n",
      "10\n",
      "to\n",
      "12\n",
      "....#11 (signal:ptgen[50,100]:massgen[50,100])\n",
      "#9 (detectordistribution:pt[50,100]:mass[75,100])\n",
      "6\n",
      "to\n",
      "8\n",
      "....#6 (signal:ptgen[0,50]:massgen[0,50])\n",
      "6\n",
      "to\n",
      "8\n",
      "....#7 (signal:ptgen[0,50]:massgen[50,100])\n",
      "10\n",
      "to\n",
      "12\n",
      "....#10 (signal:ptgen[50,100]:massgen[0,50])\n",
      "10\n",
      "to\n",
      "12\n",
      "....#11 (signal:ptgen[50,100]:massgen[50,100])\n",
      "Integral of bin [6, 10] 1 is 0.01296672 and it was the sum of 16 bins\n",
      "Integral of bin x :\n",
      "[0.013113600000000001, 0.012966720000000001]\n",
      "scaling by 0.01296672\n",
      "[16, 16]\n",
      "[16, 16]\n",
      "0\n",
      "[1, 5]\n",
      "#1 (detectordistribution:pt[0,50]:mass[0,25])\n",
      "#2 (detectordistribution:pt[0,50]:mass[25,50])\n",
      "#3 (detectordistribution:pt[0,50]:mass[50,75])\n",
      "#4 (detectordistribution:pt[0,50]:mass[75,100])\n",
      "1\n",
      "[6, 10]\n",
      "#6 (detectordistribution:pt[50,100]:mass[0,25])\n",
      "#7 (detectordistribution:pt[50,100]:mass[25,50])\n",
      "#8 (detectordistribution:pt[50,100]:mass[50,75])\n",
      "#9 (detectordistribution:pt[50,100]:mass[75,100])\n",
      "Integral of bin x for NormXorY is :\n",
      "[32.497600000000006, 33.0856]\n",
      "32.4976\n",
      "[1, 5]\n",
      "0\n",
      "New Pt bin \n",
      "33.0856\n",
      "[6, 10]\n",
      "1\n",
      "New Pt bin \n",
      "0\n",
      "[1, 5]\n",
      "#1 (detectordistribution:pt[0,50]:mass[0,25])\n",
      "#2 (detectordistribution:pt[0,50]:mass[25,50])\n",
      "#3 (detectordistribution:pt[0,50]:mass[50,75])\n",
      "#4 (detectordistribution:pt[0,50]:mass[75,100])\n",
      "1\n",
      "[6, 10]\n",
      "#6 (detectordistribution:pt[50,100]:mass[0,25])\n",
      "#7 (detectordistribution:pt[50,100]:mass[25,50])\n",
      "#8 (detectordistribution:pt[50,100]:mass[50,75])\n",
      "#9 (detectordistribution:pt[50,100]:mass[75,100])\n",
      "Integral of bin x for NormXorY is :\n",
      "[0.0, 0.0]\n",
      "0.0\n",
      "[1, 5]\n",
      "0\n",
      "New Pt bin \n",
      "0.0\n",
      "[6, 10]\n",
      "1\n",
      "New Pt bin \n",
      "0\n",
      "[1, 5]\n",
      "#1 (detectordistribution:pt[0,50]:mass[0,25])\n",
      "#2 (detectordistribution:pt[0,50]:mass[25,50])\n",
      "#3 (detectordistribution:pt[0,50]:mass[50,75])\n",
      "#4 (detectordistribution:pt[0,50]:mass[75,100])\n",
      "1\n",
      "[6, 10]\n",
      "#6 (detectordistribution:pt[50,100]:mass[0,25])\n",
      "#7 (detectordistribution:pt[50,100]:mass[25,50])\n",
      "#8 (detectordistribution:pt[50,100]:mass[50,75])\n",
      "#9 (detectordistribution:pt[50,100]:mass[75,100])\n",
      "Integral of bin x for NormXorY is :\n",
      "[0.0, 0.0]\n",
      "0.0\n",
      "[1, 5]\n",
      "0\n",
      "New Pt bin \n",
      "0.0\n",
      "[6, 10]\n",
      "1\n",
      "New Pt bin \n",
      "0\n",
      "[6, 8]\n",
      "#6 (signal:ptgen[0,50]:massgen[0,50])\n",
      "#7 (signal:ptgen[0,50]:massgen[50,100])\n",
      "1\n",
      "[10, 12]\n",
      "#10 (signal:ptgen[50,100]:massgen[0,50])\n",
      "#11 (signal:ptgen[50,100]:massgen[50,100])\n",
      "Integral of bin x for NormXorY is :\n",
      "[16.462, 16.5684]\n",
      "16.462\n",
      "[6, 8]\n",
      "0\n",
      "New Pt bin \n",
      "16.5684\n",
      "[10, 12]\n",
      "1\n",
      "New Pt bin \n",
      "0\n",
      "[1, 5]\n",
      "#1 (detectordistribution:pt[0,50]:mass[0,25])\n",
      "#2 (detectordistribution:pt[0,50]:mass[25,50])\n",
      "#3 (detectordistribution:pt[0,50]:mass[50,75])\n",
      "#4 (detectordistribution:pt[0,50]:mass[75,100])\n",
      "1\n",
      "[6, 10]\n",
      "#6 (detectordistribution:pt[50,100]:mass[0,25])\n",
      "#7 (detectordistribution:pt[50,100]:mass[25,50])\n",
      "#8 (detectordistribution:pt[50,100]:mass[50,75])\n",
      "#9 (detectordistribution:pt[50,100]:mass[75,100])\n",
      "Integral of bin x for NormXorY is :\n",
      "[32.924, 33.1368]\n",
      "32.924\n",
      "[1, 5]\n",
      "0\n",
      "New Pt bin \n",
      "33.1368\n",
      "[6, 10]\n",
      "1\n",
      "New Pt bin \n"
     ]
    }
   ],
   "source": [
    "\n",
    "M1 = NormM(M1.Clone() ,respN , \"M_norm_Up\") \n",
    "M2 = NormM(M2.Clone() , respN,\"M_norm_Dn\") \n",
    "\n",
    "h = NormXorY(h.Clone() ,'reco', \"h_norm\") \n",
    "\n",
    "hup = NormXorY(hup.Clone() ,'reco', \"hu_norm\") \n",
    "hdn = NormXorY(hdn.Clone() ,'reco', \"hd_norm\") \n",
    "\n",
    "htrue = NormXorY(htrue.Clone() ,'gen', \"htrue_norm\") \n",
    "htruef = NormXorY(htruef.Clone() ,'reco', \"htruef_norm\") \n"
   ]
  },
  {
   "cell_type": "markdown",
   "metadata": {},
   "source": [
    "## Draw the response matrix\n",
    "\n",
    "We draw the nominal and $\\pm 1 \\sigma$ variations. "
   ]
  },
  {
   "cell_type": "code",
   "execution_count": 15,
   "metadata": {},
   "outputs": [
    {
     "data": {
      "image/png": "[encoded data removed]",
      "text/plain": [
       "<IPython.core.display.Image object>"
      ]
     },
     "metadata": {},
     "output_type": "display_data"
    }
   ],
   "source": [
    "\n",
    "c0 = ROOT.TCanvas(\"c0\", \"c0\", 1800, 600)\n",
    "c0.Divide(3,1)\n",
    "c0.cd(1)\n",
    "M.Draw(\"colz\")\n",
    "c0.cd(2)\n",
    "M1.Draw(\"colz\")\n",
    "c0.cd(3)\n",
    "M2.Draw(\"colz\")\n",
    "c0.Draw()"
   ]
  },
  {
   "cell_type": "code",
   "execution_count": null,
   "metadata": {},
   "outputs": [],
   "source": []
  },
  {
   "cell_type": "markdown",
   "metadata": {},
   "source": [
    "## Plot the reconstructed and truth"
   ]
  },
  {
   "cell_type": "code",
   "execution_count": null,
   "metadata": {
    "collapsed": true
   },
   "outputs": [],
   "source": []
  },
  {
   "cell_type": "code",
   "execution_count": 16,
   "metadata": {
    "collapsed": true
   },
   "outputs": [],
   "source": [
    "crec1 = ROOT.TCanvas(\"cr1\", \"creco\", 600, 600)\n"
   ]
  },
  {
   "cell_type": "code",
   "execution_count": 17,
   "metadata": {
    "collapsed": true
   },
   "outputs": [],
   "source": [
    "h2 = M.ProjectionY(\"reco2\")\n",
    "htrue2 = M.ProjectionX(\"gen2\")\n"
   ]
  },
  {
   "cell_type": "code",
   "execution_count": 18,
   "metadata": {
    "collapsed": true
   },
   "outputs": [],
   "source": [
    "htruef.SetLineColor(2)\n",
    "h.SetMarkerStyle(20)\n",
    "h2.SetMarkerStyle(22)\n",
    "\n",
    "htruef.SetMarkerStyle(21)\n",
    "htrue.SetMarkerStyle(23)\n",
    "htrue2.SetMarkerStyle(24)\n",
    "\n",
    "h.SetMarkerColor(ROOT.kBlue)\n",
    "h2.SetMarkerColor(ROOT.kMagenta)\n",
    "htruef.SetMarkerColor(ROOT.kRed)\n",
    "htrue2.SetMarkerColor(ROOT.kRed)\n",
    "\n",
    "h.SetLineColor(ROOT.kBlue)\n",
    "htruef.SetLineColor(ROOT.kRed)\n",
    "htrue.SetLineColor(ROOT.kBlack)\n",
    "#htrue.SetLineColor(ROOT.kRed)\n"
   ]
  },
  {
   "cell_type": "code",
   "execution_count": 19,
   "metadata": {
    "collapsed": true
   },
   "outputs": [],
   "source": [
    "#htrue2.Draw(\"e \")\n",
    "\n",
    "h.Draw('e same')\n",
    "\n",
    "#h.SetMinimum(.0)\n",
    "#h.SetMaximum(25000.)\n",
    "\n",
    "#h.SetMinimum(.15)\n",
    "#h.SetMaximum(1.)\n",
    "\n",
    "h.SetMinimum(.0)\n",
    "h.SetMaximum(2.)\n",
    "\n",
    "\n",
    "h2.Draw('e same')\n",
    "\n",
    "hup.Draw(\"hist same\")\n",
    "hdn.Draw(\"hist same\")\n",
    "htruef.Draw(\"e same\")\n",
    "htrue.Draw(\"e same\")\n",
    "htrue2.Draw(\"e same\")\n"
   ]
  },
  {
   "cell_type": "code",
   "execution_count": 20,
   "metadata": {
    "collapsed": true
   },
   "outputs": [],
   "source": [
    "leg1 = ROOT.TLegend(0.7,0.7,0.86, 0.86)\n",
    "leg1.SetBorderSize(0)\n",
    "leg1.SetFillColor(0)\n",
    "leg1.AddEntry( h2, 'Reco from M', 'p')\n",
    "leg1.AddEntry( h, 'Reco', 'p')\n",
    "leg1.AddEntry( hup, '+1#sigma', 'l')\n",
    "leg1.AddEntry( hdn, '-1#sigma', 'l')\n",
    "leg1.AddEntry( htruef, 'True', 'p')\n",
    "leg1.AddEntry( htrue, 'True Gen Binned', 'p')\n",
    "leg1.AddEntry( htrue2, 'True from M', 'p')\n",
    "\n",
    "leg1.Draw()"
   ]
  },
  {
   "cell_type": "code",
   "execution_count": 21,
   "metadata": {
    "scrolled": false
   },
   "outputs": [
    {
     "data": {
      "image/png": "[encoded data removed]",
      "text/plain": [
       "<IPython.core.display.Image object>"
      ]
     },
     "metadata": {},
     "output_type": "display_data"
    }
   ],
   "source": [
    "crec1.Draw()"
   ]
  },
  {
   "cell_type": "markdown",
   "metadata": {},
   "source": [
    "## Unfold\n",
    "\n",
    "1. Create the `TUnfoldDensity` object. \n",
    "1. Add the systematic uncertainty variations via `AddSysError`. \n",
    "1. Perform the regularization by scanning the L curve. \n",
    "1. Get the output. **Note! This does not account for systematic uncertainties automatically. They must be added by hand.**\n",
    "1. Draw unfolded versus true distributions (in the same coarse binning scheme). "
   ]
  },
  {
   "cell_type": "code",
   "execution_count": 22,
   "metadata": {},
   "outputs": [
    {
     "name": "stderr",
     "output_type": "stream",
     "text": [
      "Info in <TUnfold::SetConstraint>: fConstraint=0\n",
      "Warning in <TUnfold::TUnfold>: 14 output bins do not depend on the input data  0-5 8-9 12-17\n",
      "Info in <TUnfold::TUnfold>: 15 input bins and 4 output bins\n",
      "Info in <TUnfoldDensity::TUnfold>: *NOT* unfolding bin #0\n",
      "Info in <TUnfoldDensity::TUnfold>: *NOT* unfolding bin #1 (signal:ptgen[ufl]:massgen[ufl])\n",
      "Info in <TUnfoldDensity::TUnfold>: *NOT* unfolding bin #2 (signal:ptgen[ufl]:massgen[0,50])\n",
      "Info in <TUnfoldDensity::TUnfold>: *NOT* unfolding bin #3 (signal:ptgen[ufl]:massgen[50,100])\n",
      "Info in <TUnfoldDensity::TUnfold>: *NOT* unfolding bin #4 (signal:ptgen[ufl]:massgen[ofl])\n",
      "Info in <TUnfoldDensity::TUnfold>: *NOT* unfolding bin #5 (signal:ptgen[0,50]:massgen[ufl])\n",
      "Info in <TUnfoldDensity::TUnfold>: *NOT* unfolding bin #8 (signal:ptgen[0,50]:massgen[ofl])\n",
      "Info in <TUnfoldDensity::TUnfold>: *NOT* unfolding bin #9 (signal:ptgen[50,100]:massgen[ufl])\n",
      "Info in <TUnfoldDensity::TUnfold>: *NOT* unfolding bin #12 (signal:ptgen[50,100]:massgen[ofl])\n",
      "Info in <TUnfoldDensity::TUnfold>: *NOT* unfolding bin #13 (signal:ptgen[ofl]:massgen[ufl])\n",
      "Info in <TUnfoldDensity::TUnfold>: *NOT* unfolding bin #14 (signal:ptgen[ofl]:massgen[0,50])\n",
      "Info in <TUnfoldDensity::TUnfold>: *NOT* unfolding bin #15 (signal:ptgen[ofl]:massgen[50,100])\n",
      "Info in <TUnfoldDensity::TUnfold>: *NOT* unfolding bin #16 (signal:ptgen[ofl]:massgen[ofl])\n",
      "Info in <TUnfoldDensity::TUnfold>: *NOT* unfolding bin #17\n",
      "Info in <TUnfoldDensity::RegularizeOneDistribution>: regularizing signal regMode=3 densityMode=0 axisSteering=*[]\n"
     ]
    }
   ],
   "source": [
    "orientation = ROOT.TUnfold.kHistMapOutputHoriz\n",
    "regMode = ROOT.TUnfold.kRegModeCurvature\n",
    "con = ROOT.TUnfold.kEConstraintNone#Area #ROOT.TUnfold.kEConstraintArea\n",
    "mode =  ROOT.TUnfoldDensity.kDensityModeNone #BinWidth\n",
    "axisSteering =  \"*[]\"\n",
    "\n",
    "#u = ROOT.TUnfoldDensity(M,orientation,regMode,con)\n",
    "u = ROOT.TUnfoldDensity(M, orientation, regMode, con, mode, genBin, detBin, \"signal\", axisSteering)"
   ]
  },
  {
   "cell_type": "code",
   "execution_count": 23,
   "metadata": {},
   "outputs": [
    {
     "data": {
      "text/plain": [
       "7"
      ]
     },
     "execution_count": 23,
     "metadata": {},
     "output_type": "execute_result"
    },
    {
     "name": "stderr",
     "output_type": "stream",
     "text": [
      "Warning in <TUnfoldDensity::SetInput>: 7/15 input bins have zero error, and are ignored.\n"
     ]
    }
   ],
   "source": [
    "u.SetInput( h )\n"
   ]
  },
  {
   "cell_type": "code",
   "execution_count": 24,
   "metadata": {},
   "outputs": [],
   "source": [
    "u.AddSysError(M1, \"Up\", orientation, ROOT.TUnfoldDensity.kSysErrModeShift)\n",
    "u.AddSysError(M2, \"Dn\", orientation, ROOT.TUnfoldDensity.kSysErrModeShift)\n",
    "#ROOT.TUnfoldDensity.kSysErrModeRelative)# ROOT.TUnfoldDensity.kSysErrModeShift)\n"
   ]
  },
  {
   "cell_type": "code",
   "execution_count": 25,
   "metadata": {},
   "outputs": [
    {
     "data": {
      "text/plain": [
       "0.02323544155679105"
      ]
     },
     "execution_count": 25,
     "metadata": {},
     "output_type": "execute_result"
    }
   ],
   "source": [
    "# Regularize\n",
    "'''\n",
    "nScan=50\n",
    "tauMin=0.0\n",
    "tauMax=0.0\n",
    "iBest=0\n",
    "\n",
    "logTauX = ROOT.MakeNullPointer(ROOT.TSpline)\n",
    "logTauY = ROOT.MakeNullPointer(ROOT.TSpline)\n",
    "lCurve = ROOT.MakeNullPointer(ROOT.TGraph)\n",
    "u.ScanLcurve(nScan,tauMin,tauMax,lCurve,logTauX,logTauY)\n",
    "'''\n",
    "u.DoUnfold(0.0)"
   ]
  },
  {
   "cell_type": "code",
   "execution_count": 26,
   "metadata": {},
   "outputs": [],
   "source": [
    "# Get output... DOES NOT CONTAIN SYSTEMATICS. \n",
    "#o = u.GetOutput(\"o\")\n",
    "o = u.GetOutput(\"unfolded\",\"\",\"signal\", \"*[b]\", False)\n",
    " "
   ]
  },
  {
   "cell_type": "code",
   "execution_count": 27,
   "metadata": {},
   "outputs": [],
   "source": [
    "# Get systematic shifts of output\n",
    "o_up = u.GetDeltaSysSource(\"Up\", \"o_upshift\", \"M+1#sigma\")\n",
    "o_dn = u.GetDeltaSysSource(\"Dn\", \"o_dnshift\", \"M-1#sigma\")\n",
    "o_up.SetLineStyle(2)\n",
    "o_dn.SetLineStyle(2)\n"
   ]
  },
  {
   "cell_type": "code",
   "execution_count": 28,
   "metadata": {},
   "outputs": [],
   "source": [
    "# Get various covariances\n",
    "#cov = u.GetEmatrixTotal(\"cov\", \"Covariance Matrix\")\n",
    "cov = u.GetEmatrixTotal(\"ematrix\",\"Covariance Matrix\", \"signal\", \"*[]\", False)\n",
    "\n",
    "\n",
    "cov_uncorr = u.GetEmatrixSysUncorr(\"cov_uncorr\", \"Covariance Matrix from Uncorrelated Uncertainties\", \"signal\", \"*[]\", False)\n",
    "cov_uncorr_data = u.GetEmatrixInput(\"cov_uncorr_data\", \"Covariance Matrix from Stat Uncertainties of Input Data\", \"signal\", \"*[]\", False)\n"
   ]
  },
  {
   "cell_type": "code",
   "execution_count": 29,
   "metadata": {
    "collapsed": true
   },
   "outputs": [],
   "source": [
    "\n",
    "# Now prepare various distributions. \n",
    "o_unfunc = o.Clone(\"o_unc\")        # Unfolding and stat unc\n",
    "o_sys = o.Clone(\"o_sys\")        # Syst uncertainty\n",
    "o_unctot = o.Clone(\"o_unctot\")  # Total uncertainty\n",
    "o_sys.SetLineStyle(2)\n"
   ]
  },
  {
   "cell_type": "code",
   "execution_count": 30,
   "metadata": {},
   "outputs": [],
   "source": [
    "\n",
    "# Create total uncertainty and sys uncertainty plots. \n",
    "# Also fix the uncertainties on the output\n",
    "for i in xrange( 0, o_up.GetNbinsX() + 1):\n",
    "    unc_tot = ROOT.TMath.Sqrt( cov.GetBinContent(i,i) )\n",
    "    o_unctot.SetBinContent(i, unc_tot )    \n",
    "    o.SetBinError(i, unc_tot )\n",
    "    \n",
    "    yup = abs( o_up.GetBinContent(i))\n",
    "    ydn = abs( o_dn.GetBinContent(i))\n",
    "    dy = ROOT.TMath.Sqrt( (yup**2 + ydn**2) )\n",
    "    o_sys.SetBinContent(i, dy )\n",
    "\n",
    "\n",
    "\n",
    "\n"
   ]
  },
  {
   "cell_type": "code",
   "execution_count": 31,
   "metadata": {
    "collapsed": true
   },
   "outputs": [],
   "source": [
    "#htrue2 = htrue.Clone(\"h2\")\n",
    "#htrue2.Rebin(finebins/coarsebins)\n",
    "o.SetMarkerStyle(20)\n",
    "o.SetMarkerColor(1)\n",
    "o_unfunc.SetMarkerStyle(0)\n",
    "o_unfunc.SetLineColor(2)\n",
    "htrue.SetMarkerStyle(21)\n",
    "htrue.SetMarkerColor(4)\n",
    "htrue.SetMarkerStyle(4)\n",
    "htrue.SetLineColor(4)\n",
    "\n"
   ]
  },
  {
   "cell_type": "code",
   "execution_count": 32,
   "metadata": {},
   "outputs": [
    {
     "data": {
      "image/png": "[encoded data removed]",
      "text/plain": [
       "<IPython.core.display.Image object>"
      ]
     },
     "metadata": {},
     "output_type": "display_data"
    }
   ],
   "source": [
    "c = ROOT.TCanvas(\"c\",\"c\")\n",
    "#o.SetMinimum(0.0)\n",
    "#o.SetMaximum(1.0)\n",
    "\n",
    "o.Draw()\n",
    "o_unfunc.Draw(\"e same\")\n",
    "htrue.Draw(\"e same\")\n",
    "leg2 = ROOT.TLegend(0.7, 0.7, 0.86, 0.86)\n",
    "leg2.SetBorderSize(0)\n",
    "leg2.SetFillColor(0)\n",
    "leg2.AddEntry( o, \"Unfolded, total unc\",'p')\n",
    "leg2.AddEntry( o_unfunc, \"stat+unfolding unc\",'l')\n",
    "leg2.AddEntry( htrue, \"True\",'p')\n",
    "leg2.Draw()\n",
    "c.Draw()"
   ]
  },
  {
   "cell_type": "code",
   "execution_count": null,
   "metadata": {
    "collapsed": true
   },
   "outputs": [],
   "source": []
  },
  {
   "cell_type": "code",
   "execution_count": null,
   "metadata": {
    "collapsed": true
   },
   "outputs": [],
   "source": []
  },
  {
   "cell_type": "code",
   "execution_count": null,
   "metadata": {
    "collapsed": true
   },
   "outputs": [],
   "source": []
  },
  {
   "cell_type": "markdown",
   "metadata": {},
   "source": [
    "## Draw the LCurve. "
   ]
  },
  {
   "cell_type": "code",
   "execution_count": 33,
   "metadata": {},
   "outputs": [],
   "source": [
    "#print lCurve\n",
    "#if lCurve:\n",
    "#    cl = ROOT.TCanvas(\"cl\", \"cl\", 500, 500)\n",
    "#    lCurve.Draw(\"alp\")\n",
    "#    cl.Draw()"
   ]
  },
  {
   "cell_type": "markdown",
   "metadata": {},
   "source": [
    "## Plot closure\n",
    "\n",
    "The closure plot is the true distribution divided by the unfolded distribution. Aside from the outermost bins, the closure is consistent with unity. "
   ]
  },
  {
   "cell_type": "code",
   "execution_count": 34,
   "metadata": {},
   "outputs": [
    {
     "data": {
      "image/png": "[encoded data removed]",
      "text/plain": [
       "<IPython.core.display.Image object>"
      ]
     },
     "metadata": {},
     "output_type": "display_data"
    }
   ],
   "source": [
    "c2 = ROOT.TCanvas(\"c2\", \"c2\", 500, 500)\n",
    "closure = htrue.Clone(\"closure\")\n",
    "closure2 = htrue.Clone(\"closure2\")\n",
    "closure.SetMarkerColor(1)\n",
    "closure.SetLineColor(1)\n",
    "closure2.SetMarkerColor(2)\n",
    "closure2.SetLineColor(2)\n",
    "closure.SetTitle(\"true / unfolded\")\n",
    "closure.Divide(o)\n",
    "closure2.Divide(o_unfunc)\n",
    "closure.Draw('e1')\n",
    "closure2.Draw('e1 same')\n",
    "closure.SetMaximum(4.1)\n",
    "closure.SetMinimum(-1.1)\n",
    "\n",
    "legclosure = ROOT.TLegend(0.4, 0.7, 0.86, 0.86)\n",
    "legclosure.SetBorderSize(0)\n",
    "legclosure.SetFillColor(0)\n",
    "legclosure.AddEntry( closure, \"True / Unfolded, All Unc.\", 'p')\n",
    "legclosure.AddEntry( closure2, \"True / Unfolded, Stat. Unc.\", 'p')\n",
    "legclosure.Draw()\n",
    "c2.Draw()"
   ]
  },
  {
   "cell_type": "markdown",
   "metadata": {},
   "source": [
    "## Plot the total covariance matrix"
   ]
  },
  {
   "cell_type": "code",
   "execution_count": 35,
   "metadata": {},
   "outputs": [
    {
     "data": {
      "image/png": "[encoded data removed]",
      "text/plain": [
       "<IPython.core.display.Image object>"
      ]
     },
     "metadata": {},
     "output_type": "display_data"
    }
   ],
   "source": [
    "\n",
    "ccov = ROOT.TCanvas(\"ccov\", \"Covariance Matrix\", 400, 400)\n",
    "cov.Draw('colz')\n",
    "ccov.SetLogz()\n",
    "ccov.Draw()\n"
   ]
  },
  {
   "cell_type": "markdown",
   "metadata": {},
   "source": [
    "## Plot the covariance matrix from uncorrelated (stat.) uncertainties"
   ]
  },
  {
   "cell_type": "code",
   "execution_count": 36,
   "metadata": {
    "scrolled": false
   },
   "outputs": [
    {
     "data": {
      "image/png": "[encoded data removed]",
      "text/plain": [
       "<IPython.core.display.Image object>"
      ]
     },
     "metadata": {},
     "output_type": "display_data"
    }
   ],
   "source": [
    "\n",
    "ccov_uncorr = ROOT.TCanvas(\"ccov_uncorr\", \"Covariance Matrix from Uncorrelated Uncertainties\", 400, 400)\n",
    "cov_uncorr.Draw('colz')\n",
    "ccov_uncorr.SetLogz()\n",
    "ccov_uncorr.Draw()\n",
    "\n"
   ]
  },
  {
   "cell_type": "markdown",
   "metadata": {},
   "source": [
    "## Plot covariance matrix of the statistical uncertainties from the input data"
   ]
  },
  {
   "cell_type": "code",
   "execution_count": 37,
   "metadata": {},
   "outputs": [
    {
     "data": {
      "image/png": "[encoded data removed]",
      "text/plain": [
       "<IPython.core.display.Image object>"
      ]
     },
     "metadata": {},
     "output_type": "display_data"
    }
   ],
   "source": [
    "\n",
    "ccov_uncorr_data = ROOT.TCanvas(\"ccov_uncorr_data\", \"Covariance Matrix from Uncorrelated Uncertainties\", 400, 400)\n",
    "cov_uncorr_data.Draw('colz')\n",
    "ccov_uncorr_data.SetLogz()\n",
    "ccov_uncorr_data.Draw()\n",
    "\n"
   ]
  },
  {
   "cell_type": "markdown",
   "metadata": {},
   "source": [
    "## Plot absolute uncertainties\n",
    "\n"
   ]
  },
  {
   "cell_type": "code",
   "execution_count": 38,
   "metadata": {},
   "outputs": [
    {
     "data": {
      "image/png": "[encoded data removed]",
      "text/plain": [
       "<IPython.core.display.Image object>"
      ]
     },
     "metadata": {},
     "output_type": "display_data"
    }
   ],
   "source": [
    "\n",
    "#\n",
    "unc_stack = ROOT.THStack(\"unc_stack\", \"Uncertainties\")\n",
    "unc_stack.Add( o_unctot, \"hist\" )\n",
    "unc_stack.Add( o_sys, \"hist\" )\n",
    "#o_up.Divide(o)\n",
    "#o_dn.Divide(o)\n",
    "\n",
    "\n",
    "\n",
    "c_sys = ROOT.TCanvas(\"c_sys\", \"c_sys\", 500, 500)\n",
    "unc_stack.Draw(\"nostack\")\n",
    "unc_stack.SetMaximum( 1.0 * unc_stack.GetMaximum() )\n",
    "#o_unc.SetMinimum(-0.2)\n",
    "#o_unc.SetMaximum(+0.2)\n",
    "legsys = ROOT.TLegend(0.7, 0.7, 0.86, 0.86)\n",
    "legsys.SetFillColor(0)\n",
    "legsys.SetBorderSize(0)\n",
    "legsys.AddEntry( o_unctot, 'Total', 'l')\n",
    "legsys.AddEntry( o_sys, 'Syst', 'l')\n",
    "legsys.Draw()\n",
    "c_sys.Draw()"
   ]
  },
  {
   "cell_type": "code",
   "execution_count": null,
   "metadata": {
    "collapsed": true
   },
   "outputs": [],
   "source": []
  }
 ],
 "metadata": {
  "kernelspec": {
   "display_name": "Python 2",
   "language": "python",
   "name": "python2"
  },
  "language_info": {
   "codemirror_mode": {
    "name": "ipython",
    "version": 2
   },
   "file_extension": ".py",
   "mimetype": "text/x-python",
   "name": "python",
   "nbconvert_exporter": "python",
   "pygments_lexer": "ipython2",
   "version": "2.7.13"
  }
 },
 "nbformat": 4,
 "nbformat_minor": 2
}
