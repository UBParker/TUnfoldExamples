{
 "cells": [
  {
   "cell_type": "markdown",
   "metadata": {},
   "source": [
    "# Error propagation for normalized uncertainties"
   ]
  },
  {
   "cell_type": "markdown",
   "metadata": {},
   "source": [
    "Consider an observable $x$ and its covariance matrix $\\Sigma_x$. The generalized covariance transformation is $\\Sigma_y = J \\Sigma_x J^T$ where $J$ is the Jacobian matrix:\n",
    "\n",
    "$J = \n",
    "\\begin{bmatrix} \n",
    "\\partial f_0 / \\partial x_0 & \\partial f_0 / \\partial x_1 & \\ldots \\\\\n",
    "\\partial f_1 / \\partial x_0 & \\partial f_1 / \\partial x_1 & \\ldots \\\\\n",
    "\\ldots & & \\\\\n",
    "\\end{bmatrix}$\n",
    "\n",
    "Now consider a transformation of $x$ to normalize it: \n",
    "\n",
    "$y = \\frac{x}{ \\sum_i x_i} \\equiv \\frac{x}{N}$\n",
    "\n",
    "\n",
    "Then the Jacobian is\n",
    "\n",
    "$J = \n",
    "\\begin{bmatrix} \n",
    "\\frac{N-x_0}{N^2}  & \\frac{-x_0}{N^2} & \\frac{-x_0}{N^2} & \\ldots \\\\\n",
    "\\frac{-x_1}{N^2} & \\frac{N-x_1}{N^2} & \\frac{-x_1}{N^2} & \\ldots \\\\\n",
    "\\ldots \n",
    "\\end{bmatrix}$\n",
    "\n",
    "\n",
    "Coordinate transformations change the uncertainties as\n",
    "\n",
    "$\\sigma_y^2 = J \\sigma_x^2 J^T$, \n",
    "\n",
    "where $\\sigma_x$ is the covariance matrix, and $y$ is defined above. "
   ]
  },
  {
   "cell_type": "code",
   "execution_count": 1,
   "metadata": {},
   "outputs": [],
   "source": [
    "import numpy as np"
   ]
  },
  {
   "cell_type": "markdown",
   "metadata": {},
   "source": [
    "### Define the normalized function and the Jacobian"
   ]
  },
  {
   "cell_type": "code",
   "execution_count": 2,
   "metadata": {},
   "outputs": [],
   "source": [
    "\n",
    "def yf_jac( x ):\n",
    "    N = np.sum(x)\n",
    "    y = x / N    \n",
    "    J = np.array([\n",
    "        [ (N-x[0]) / N**2 , -x[0]/N**2, -x[0]/N**2],\n",
    "        [-x[1]/N**2, (N-x[1]) / N**2 , -x[1]/N**2],\n",
    "        [-x[2]/N**2, -x[2]/N**2, (N-x[2]) / N**2],\n",
    "        ])\n",
    "    return J "
   ]
  },
  {
   "cell_type": "markdown",
   "metadata": {},
   "source": [
    "#### Concrete example\n",
    "\n",
    "$x = [ 100, 100, 400 ] $\n",
    "\n",
    "$\\sigma_x^2 = [100, 100, 400] $\n",
    "\n",
    "(that is, statistical uncertainties like $\\sqrt{N}$)"
   ]
  },
  {
   "cell_type": "code",
   "execution_count": 4,
   "metadata": {},
   "outputs": [
    {
     "name": "stdout",
     "output_type": "stream",
     "text": [
      "x =  [100. 100. 400.]\n",
      "y =  [0.16666667 0.16666667 0.66666667]\n"
     ]
    }
   ],
   "source": [
    "\n",
    "x = np.array( [100., 100., 400.] )\n",
    "N = np.sum(x)\n",
    "y = x/N\n",
    "covx = np.zeros( (x.size, x.size) )\n",
    "covx[0,0] = 100.\n",
    "covx[1,1] = 100.\n",
    "covx[2,2] = 400.\n",
    "\n",
    "print(\"x = \", x)\n",
    "print(\"y = \", y)"
   ]
  },
  {
   "cell_type": "markdown",
   "metadata": {},
   "source": [
    "#### Get covariance matrix in y\n",
    "\n",
    "We then obtain the Jacobian and the covariance for $y$, where\n",
    "\n",
    "$\\sigma_y^2 = J \\sigma_x^2 J^T$"
   ]
  },
  {
   "cell_type": "code",
   "execution_count": 5,
   "metadata": {},
   "outputs": [],
   "source": [
    "\n",
    "jac = yf_jac(x)\n",
    "covy = jac * covx * jac.T"
   ]
  },
  {
   "cell_type": "markdown",
   "metadata": {},
   "source": [
    "#### Get the uncertainties in $x$ and $y$"
   ]
  },
  {
   "cell_type": "code",
   "execution_count": 8,
   "metadata": {
    "scrolled": false
   },
   "outputs": [
    {
     "name": "stdout",
     "output_type": "stream",
     "text": [
      "jac :\n",
      " [[ 0.00138889 -0.00027778 -0.00027778]\n",
      " [-0.00027778  0.00138889 -0.00027778]\n",
      " [-0.00111111 -0.00111111  0.00055556]]\n",
      "covx:\n",
      " [[100.   0.   0.]\n",
      " [  0. 100.   0.]\n",
      " [  0.   0. 400.]]\n",
      "covy:\n",
      " [[0.0001929  0.         0.        ]\n",
      " [0.         0.0001929  0.        ]\n",
      " [0.         0.         0.00012346]]\n",
      "dx   :  [10. 10. 20.]\n",
      "dy   :  [0.01388889 0.01388889 0.01111111]\n",
      "dx/x :  [0.1  0.1  0.05]\n",
      "dy/y :  [0.08333333 0.08333333 0.01666667]\n"
     ]
    }
   ],
   "source": [
    "\n",
    "print('jac :\\n', jac)\n",
    "print('covx:\\n', covx)\n",
    "print('covy:\\n', covy)\n",
    "dx = np.array( [np.sqrt(covx[i,i] ) for i in range(3)] )\n",
    "dy = np.array( [np.sqrt(covy[i,i] ) for i in range(3)] )\n",
    "dx2 = np.sqrt( y * (1-y) / N)\n",
    "print('dx   : ', dx)\n",
    "print('dy   : ', dy)\n",
    "print('dx/x : ', dx/x)\n",
    "print('dy/y : ', dy/y)"
   ]
  },
  {
   "cell_type": "code",
   "execution_count": null,
   "metadata": {},
   "outputs": [],
   "source": []
  }
 ],
 "metadata": {
  "kernelspec": {
   "display_name": "Python 3",
   "language": "python",
   "name": "python3"
  },
  "language_info": {
   "codemirror_mode": {
    "name": "ipython",
    "version": 3
   },
   "file_extension": ".py",
   "mimetype": "text/x-python",
   "name": "python",
   "nbconvert_exporter": "python",
   "pygments_lexer": "ipython3",
   "version": "3.6.8"
  }
 },
 "nbformat": 4,
 "nbformat_minor": 2
}
