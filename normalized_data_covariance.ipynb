{
 "cells": [
  {
   "cell_type": "markdown",
   "metadata": {},
   "source": [
    "# Error propagation for normalized uncertainties"
   ]
  },
  {
   "cell_type": "markdown",
   "metadata": {},
   "source": [
    "Consider an observable $x$ and its covariance matrix $\\Sigma_x$. The generalized covariance transformation is $\\Sigma_y = J \\Sigma_x J^T$ where $J$ is the Jacobian matrix:\n",
    "\n",
    "$J = \n",
    "\\begin{bmatrix} \n",
    "\\partial f_0 / \\partial x_0 & \\partial f_0 / \\partial x_1 & \\ldots \\\\\n",
    "\\partial f_1 / \\partial x_0 & \\partial f_1 / \\partial x_1 & \\ldots \\\\\n",
    "\\ldots & & \\\\\n",
    "\\end{bmatrix}$\n",
    "\n",
    "Now consider a transformation of $x$ to normalize it: \n",
    "\n",
    "$y = \\frac{x}{ \\sum_i x_i}$\n",
    "\n",
    "Then the Jacobian is\n",
    "\n",
    "$J = \n",
    "\\begin{bmatrix} \n",
    "\\frac{-x_0}{N^2} + \\frac{1}{N} & \\frac{-x_0}{N^2} & \\frac{-x_0}{N^2} & \\ldots \\\\\n",
    "\\frac{-x_1}{N^2} & \\frac{-x_1}{N^2} + \\frac{1}{N} & \\frac{-x_1}{N^2} & \\ldots \\\\\n",
    "\\ldots \n",
    "\\end{bmatrix}$\n"
   ]
  },
  {
   "cell_type": "code",
   "execution_count": 1,
   "metadata": {},
   "outputs": [],
   "source": [
    "import numpy as np"
   ]
  },
  {
   "cell_type": "markdown",
   "metadata": {},
   "source": [
    "### First we define the normalized function and the Jacobian"
   ]
  },
  {
   "cell_type": "code",
   "execution_count": 2,
   "metadata": {},
   "outputs": [],
   "source": [
    "\n",
    "def yf( x ):\n",
    "    return x / np.sum(x)\n",
    "\n",
    "def yf_jac( x ):\n",
    "    y = yf(x)\n",
    "    N = np.sum(x)\n",
    "    return np.array([\n",
    "        [-x[0] / N**2 + 1./N, -x[0]/N**2, -x[0]/N**2],\n",
    "        [-x[1]/N**2, -x[1] / N**2 + 1./N, -x[1]/N**2],\n",
    "        [-x[2]/N**2, -x[2]/N**2, -x[2] / N**2 + 1./N],\n",
    "        ])"
   ]
  },
  {
   "cell_type": "markdown",
   "metadata": {},
   "source": [
    "Now consider a concrete example with\n",
    "\n",
    "$x = [ 100, 100, 400 ] $\n",
    "\n",
    "$\\sigma_x = [1, 1, 2] $"
   ]
  },
  {
   "cell_type": "code",
   "execution_count": 3,
   "metadata": {},
   "outputs": [],
   "source": [
    "\n",
    "x = np.array( [100., 100., 400.] )\n",
    "N = np.sum(x)\n",
    "y = yf(x)\n",
    "covx = np.zeros( (x.size, x.size) )\n",
    "covx[0,0] = 1.\n",
    "covx[1,1] = 1.\n",
    "covx[2,2] = 4.\n",
    "\n"
   ]
  },
  {
   "cell_type": "markdown",
   "metadata": {},
   "source": [
    "We then obtain the Jacobian and the covariance for $y$"
   ]
  },
  {
   "cell_type": "code",
   "execution_count": 4,
   "metadata": {},
   "outputs": [],
   "source": [
    "\n",
    "jac = yf_jac(x)\n",
    "covy = jac * covx * jac.T\n"
   ]
  },
  {
   "cell_type": "markdown",
   "metadata": {},
   "source": [
    "We finally print out the results. We see that the matrix is not singular. "
   ]
  },
  {
   "cell_type": "code",
   "execution_count": 5,
   "metadata": {},
   "outputs": [
    {
     "name": "stdout",
     "output_type": "stream",
     "text": [
      "('jac :', array([[ 0.00138889, -0.00027778, -0.00027778],\n",
      "       [-0.00027778,  0.00138889, -0.00027778],\n",
      "       [-0.00111111, -0.00111111,  0.00055556]]))\n",
      "('covx:', array([[1., 0., 0.],\n",
      "       [0., 1., 0.],\n",
      "       [0., 0., 4.]]))\n",
      "('covy:', array([[1.92901235e-06, 0.00000000e+00, 0.00000000e+00],\n",
      "       [0.00000000e+00, 1.92901235e-06, 0.00000000e+00],\n",
      "       [0.00000000e+00, 0.00000000e+00, 1.23456790e-06]]))\n",
      "('dx/x : ', array([0.01 , 0.01 , 0.005]))\n",
      "('dy/y : ', array([0.00833333, 0.00833333, 0.00166667]))\n"
     ]
    }
   ],
   "source": [
    "\n",
    "print('jac :', jac)\n",
    "print('covx:', covx)\n",
    "print('covy:', covy)\n",
    "dx = np.array( [np.sqrt(covx[i,i] ) for i in range(3)] )\n",
    "dy = np.array( [np.sqrt(covy[i,i] ) for i in range(3)] )    \n",
    "dx2 = np.sqrt( y * (1-y) / N)\n",
    "print('dx/x : ', dx/x)\n",
    "print('dy/y : ', dy/y)"
   ]
  }
 ],
 "metadata": {
  "kernelspec": {
   "display_name": "Python 3",
   "language": "python",
   "name": "python3"
  },
  "language_info": {
   "codemirror_mode": {
    "name": "ipython",
    "version": 2
   },
   "file_extension": ".py",
   "mimetype": "text/x-python",
   "name": "python",
   "nbconvert_exporter": "python",
   "pygments_lexer": "ipython2",
   "version": "2.7.15"
  }
 },
 "nbformat": 4,
 "nbformat_minor": 2
}
