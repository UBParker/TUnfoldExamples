{
 "cells": [
  {
   "cell_type": "code",
   "execution_count": 1,
   "metadata": {},
   "outputs": [
    {
     "name": "stdout",
     "output_type": "stream",
     "text": [
      "Welcome to JupyROOT 6.20/04\n"
     ]
    }
   ],
   "source": [
    "import ROOT\n",
    "import numpy as np\n",
    "import matplotlib.pyplot as plt\n",
    "\n",
    "ROOT.gStyle.SetOptStat(000000)"
   ]
  },
  {
   "cell_type": "code",
   "execution_count": 2,
   "metadata": {},
   "outputs": [],
   "source": []
  },
  {
   "cell_type": "code",
   "execution_count": 3,
   "metadata": {},
   "outputs": [
    {
     "data": {
      "text/plain": [
       "0"
      ]
     },
     "execution_count": 3,
     "metadata": {},
     "output_type": "execute_result"
    }
   ],
   "source": [
    "ROOT.gInterpreter.ProcessLine('#include \"MyTUnfoldDensity.h\"')"
   ]
  },
  {
   "cell_type": "code",
   "execution_count": 4,
   "metadata": {},
   "outputs": [],
   "source": [
    "h2 = ROOT.TH2D(\"dumdum\", \"dumdum\", 3, 0, 2, 4, 5, 9)"
   ]
  },
  {
   "cell_type": "code",
   "execution_count": 5,
   "metadata": {},
   "outputs": [],
   "source": [
    "h2.SetBinContent(1,1, 1)\n",
    "h2.SetBinContent(2,2, 2)\n",
    "h2.SetBinContent(3,3, 3)\n",
    "h2.SetBinContent(1,4, 4)"
   ]
  },
  {
   "cell_type": "code",
   "execution_count": 6,
   "metadata": {},
   "outputs": [
    {
     "name": "stderr",
     "output_type": "stream",
     "text": [
      "Info in <TCanvas::MakeDefCanvas>:  created default TCanvas with name c1\n"
     ]
    },
    {
     "data": {
      "text/html": [
       "\n",
       "<div id=\"root_plot_1591730437976\"\n",
       "     style=\"width: 696px; height: 472px\">\n",
       "</div>\n",
       "<script>\n",
       "if (typeof require !== 'undefined') {\n",
       "\n",
       "    // All requirements met (we are in jupyter notebooks or we loaded requirejs before).\n",
       "    display_root_plot_1591730437976();\n",
       "\n",
       "} else {\n",
       "\n",
       "    // We are in jupyterlab, we need to insert requirejs and configure it.\n",
       "    // Jupyterlab might be installed in a different base_url so we need to know it.\n",
       "    try {\n",
       "        var base_url = JSON.parse(document.getElementById('jupyter-config-data').innerHTML).baseUrl;\n",
       "    } catch(_) {\n",
       "        var base_url = '/';\n",
       "    }\n",
       "\n",
       "    // Try loading a local version of requirejs and fallback to cdn if not possible.\n",
       "    requirejs_load(base_url + 'static/components/requirejs/require.js', requirejs_success(base_url), function(){\n",
       "        requirejs_load('https://cdnjs.cloudflare.com/ajax/libs/require.js/2.2.0/require.min.js', requirejs_success(base_url), function(){\n",
       "            document.getElementById(\"root_plot_1591730437976\").innerHTML = \"Failed to load requireJs\";\n",
       "        });\n",
       "    });\n",
       "}\n",
       "\n",
       "function requirejs_load(src, on_load, on_error) {\n",
       "    var script = document.createElement('script');\n",
       "    script.src = src;\n",
       "    script.onload = on_load;\n",
       "    script.onerror = on_error;\n",
       "    document.head.appendChild(script);\n",
       "}\n",
       "\n",
       "function requirejs_success(base_url) {\n",
       "    return function() {\n",
       "        require.config({\n",
       "            baseUrl: base_url + 'static/jsroot/'\n",
       "        });\n",
       "        display_root_plot_1591730437976();\n",
       "    }\n",
       "}\n",
       "\n",
       "function display_root_plot_1591730437976() {\n",
       "    require(['scripts/JSRootCore'],\n",
       "        function(Core) {\n",
       "            var obj = Core.JSONR_unref({\"_typename\":\"TCanvas\",\"fUniqueID\":0,\"fBits\":3342344,\"fLineColor\":1,\"fLineStyle\":1,\"fLineWidth\":1,\"fFillColor\":0,\"fFillStyle\":1001,\"fLeftMargin\":0.1,\"fRightMargin\":0.1,\"fBottomMargin\":0.1,\"fTopMargin\":0.1,\"fXfile\":2,\"fYfile\":2,\"fAfile\":1,\"fXstat\":0.99,\"fYstat\":0.99,\"fAstat\":2,\"fFrameFillColor\":0,\"fFrameLineColor\":1,\"fFrameFillStyle\":1001,\"fFrameLineStyle\":1,\"fFrameLineWidth\":1,\"fFrameBorderSize\":1,\"fFrameBorderMode\":0,\"fX1\":-0.250000018626453,\"fY1\":4.4999999627471,\"fX2\":2.25000001862645,\"fY2\":9.5000000372529,\"fXtoAbsPixelk\":69.6000541484835,\"fXtoPixelk\":69.6000541484835,\"fXtoPixel\":278.399995851517,\"fYtoAbsPixelk\":896.800040153312,\"fYtoPixelk\":896.800040153312,\"fYtoPixel\":-94.3999985933303,\"fUtoAbsPixelk\":5e-5,\"fUtoPixelk\":5e-5,\"fUtoPixel\":696,\"fVtoAbsPixelk\":472.00005,\"fVtoPixelk\":472,\"fVtoPixel\":-472,\"fAbsPixeltoXk\":-0.250000018626453,\"fPixeltoXk\":-0.250000018626453,\"fPixeltoX\":0.00359195407651279,\"fAbsPixeltoYk\":9.5000000372529,\"fPixeltoYk\":4.4999999627471,\"fPixeltoY\":-0.0105932204968343,\"fXlowNDC\":0,\"fYlowNDC\":0,\"fXUpNDC\":1,\"fYUpNDC\":1,\"fWNDC\":1,\"fHNDC\":1,\"fAbsXlowNDC\":0,\"fAbsYlowNDC\":0,\"fAbsWNDC\":1,\"fAbsHNDC\":1,\"fUxmin\":0,\"fUymin\":5,\"fUxmax\":2,\"fUymax\":9,\"fTheta\":30,\"fPhi\":30,\"fAspectRatio\":0,\"fNumber\":0,\"fTickx\":0,\"fTicky\":0,\"fLogx\":0,\"fLogy\":0,\"fLogz\":0,\"fPadPaint\":0,\"fCrosshair\":0,\"fCrosshairPos\":0,\"fBorderSize\":2,\"fBorderMode\":0,\"fModified\":false,\"fGridx\":false,\"fGridy\":false,\"fAbsCoord\":false,\"fEditable\":true,\"fFixedAspectRatio\":false,\"fPrimitives\":{\"_typename\":\"TList\",\"name\":\"TList\",\"arr\":[{\"_typename\":\"TFrame\",\"fUniqueID\":0,\"fBits\":8,\"fLineColor\":1,\"fLineStyle\":1,\"fLineWidth\":1,\"fFillColor\":0,\"fFillStyle\":1001,\"fX1\":0,\"fY1\":5,\"fX2\":2,\"fY2\":9,\"fBorderSize\":1,\"fBorderMode\":0},{\"_typename\":\"TH2D\",\"fUniqueID\":0,\"fBits\":520,\"fName\":\"dumdum\",\"fTitle\":\"dumdum\",\"fLineColor\":602,\"fLineStyle\":1,\"fLineWidth\":1,\"fFillColor\":0,\"fFillStyle\":1001,\"fMarkerColor\":1,\"fMarkerStyle\":1,\"fMarkerSize\":1,\"fNcells\":30,\"fXaxis\":{\"_typename\":\"TAxis\",\"fUniqueID\":0,\"fBits\":0,\"fName\":\"xaxis\",\"fTitle\":\"\",\"fNdivisions\":510,\"fAxisColor\":1,\"fLabelColor\":1,\"fLabelFont\":42,\"fLabelOffset\":0.005,\"fLabelSize\":0.035,\"fTickLength\":0.03,\"fTitleOffset\":1,\"fTitleSize\":0.035,\"fTitleColor\":1,\"fTitleFont\":42,\"fNbins\":3,\"fXmin\":0,\"fXmax\":2,\"fXbins\":[],\"fFirst\":0,\"fLast\":0,\"fBits2\":0,\"fTimeDisplay\":false,\"fTimeFormat\":\"\",\"fLabels\":null,\"fModLabs\":null},\"fYaxis\":{\"_typename\":\"TAxis\",\"fUniqueID\":0,\"fBits\":0,\"fName\":\"yaxis\",\"fTitle\":\"\",\"fNdivisions\":510,\"fAxisColor\":1,\"fLabelColor\":1,\"fLabelFont\":42,\"fLabelOffset\":0.005,\"fLabelSize\":0.035,\"fTickLength\":0.03,\"fTitleOffset\":0,\"fTitleSize\":0.035,\"fTitleColor\":1,\"fTitleFont\":42,\"fNbins\":4,\"fXmin\":5,\"fXmax\":9,\"fXbins\":[],\"fFirst\":0,\"fLast\":0,\"fBits2\":0,\"fTimeDisplay\":false,\"fTimeFormat\":\"\",\"fLabels\":null,\"fModLabs\":null},\"fZaxis\":{\"_typename\":\"TAxis\",\"fUniqueID\":0,\"fBits\":0,\"fName\":\"zaxis\",\"fTitle\":\"\",\"fNdivisions\":510,\"fAxisColor\":1,\"fLabelColor\":1,\"fLabelFont\":42,\"fLabelOffset\":0.005,\"fLabelSize\":0.035,\"fTickLength\":0.03,\"fTitleOffset\":1,\"fTitleSize\":0.035,\"fTitleColor\":1,\"fTitleFont\":42,\"fNbins\":1,\"fXmin\":0,\"fXmax\":1,\"fXbins\":[],\"fFirst\":0,\"fLast\":0,\"fBits2\":0,\"fTimeDisplay\":false,\"fTimeFormat\":\"\",\"fLabels\":null,\"fModLabs\":null},\"fBarOffset\":0,\"fBarWidth\":1000,\"fEntries\":4,\"fTsumw\":0,\"fTsumw2\":0,\"fTsumwx\":0,\"fTsumwx2\":0,\"fMaximum\":-1111,\"fMinimum\":-1111,\"fNormFactor\":0,\"fContour\":[0,0.2,0.4,0.6,0.8,1,1.2,1.4,1.6,1.8,2,2.2,2.4,2.6,2.8,3,3.2,3.4,3.6,3.8],\"fSumw2\":[],\"fOption\":\"\",\"fFunctions\":{\"_typename\":\"TList\",\"name\":\"TList\",\"arr\":[{\"_typename\":\"TPaletteAxis\",\"fUniqueID\":0,\"fBits\":0,\"fLineColor\":1,\"fLineStyle\":1,\"fLineWidth\":1,\"fFillColor\":1178,\"fFillStyle\":1001,\"fX1\":2.01250000018626,\"fY1\":5,\"fX2\":2.12500000186265,\"fY2\":9,\"fX1NDC\":0.904999994039535,\"fY1NDC\":0.100000005960465,\"fX2NDC\":0.949999994039535,\"fY2NDC\":0.899999994039535,\"fBorderSize\":4,\"fInit\":1,\"fShadowColor\":1,\"fCornerRadius\":0,\"fOption\":\"br\",\"fName\":\"TPave\",\"fAxis\":{\"_typename\":\"TGaxis\",\"fUniqueID\":0,\"fBits\":0,\"fLineColor\":1,\"fLineStyle\":1,\"fLineWidth\":1,\"fX1\":0,\"fY1\":0,\"fX2\":0,\"fY2\":0,\"fTextAngle\":0,\"fTextSize\":0.04,\"fTextAlign\":11,\"fTextColor\":1,\"fTextFont\":42,\"fWmin\":0,\"fWmax\":0,\"fGridLength\":0,\"fTickSize\":0.03,\"fLabelOffset\":0.005,\"fLabelSize\":0.035,\"fTitleOffset\":1,\"fTitleSize\":0.035,\"fNdiv\":0,\"fLabelColor\":1,\"fLabelFont\":42,\"fNModLabs\":0,\"fChopt\":\"\",\"fName\":\"\",\"fTitle\":\"\",\"fTimeFormat\":\"\",\"fFunctionName\":\"\",\"fModLabs\":null},\"fName\":\"palette\"}],\"opt\":[\"br\"]},\"fBufferSize\":0,\"fBuffer\":[],\"fBinStatErrOpt\":0,\"fStatOverflows\":2,\"fScalefactor\":1,\"fTsumwy\":0,\"fTsumwy2\":0,\"fTsumwxy\":0,\"fArray\":[0,0,0,0,0,0,1,0,0,0,0,0,2,0,0,0,0,0,3,0,0,4,0,0,0,0,0,0,0,0]},{\"_typename\":\"TPaveText\",\"fUniqueID\":0,\"fBits\":9,\"fLineColor\":1,\"fLineStyle\":1,\"fLineWidth\":1,\"fFillColor\":0,\"fFillStyle\":0,\"fX1\":0.793606318763575,\"fY1\":9.20000005252659,\"fX2\":1.20639368123643,\"fY2\":9.47500006072223,\"fX1NDC\":0.417442528735632,\"fY1NDC\":0.940000003948808,\"fX2NDC\":0.582557471264368,\"fY2NDC\":0.995000004768372,\"fBorderSize\":0,\"fInit\":1,\"fShadowColor\":1,\"fCornerRadius\":0,\"fOption\":\"blNDC\",\"fName\":\"title\",\"fTextAngle\":0,\"fTextSize\":0,\"fTextAlign\":22,\"fTextColor\":1,\"fTextFont\":42,\"fLabel\":\"\",\"fLongest\":6,\"fMargin\":0.05,\"fLines\":{\"_typename\":\"TList\",\"name\":\"TList\",\"arr\":[{\"_typename\":\"TLatex\",\"fUniqueID\":0,\"fBits\":0,\"fName\":\"\",\"fTitle\":\"dumdum\",\"fTextAngle\":0,\"fTextSize\":0,\"fTextAlign\":0,\"fTextColor\":0,\"fTextFont\":0,\"fX\":0,\"fY\":0,\"fLineColor\":1,\"fLineStyle\":1,\"fLineWidth\":2,\"fLimitFactorSize\":3,\"fOriginSize\":0.0467500016093254}],\"opt\":[\"\"]}}],\"opt\":[\"\",\"colz\",\"blNDC\"]},\"fExecs\":null,\"fName\":\"c1\",\"fTitle\":\"c1\",\"fNumPaletteColor\":0,\"fNextPaletteColor\":0,\"fDISPLAY\":\"$DISPLAY\",\"fDoubleBuffer\":0,\"fRetained\":true,\"fXsizeUser\":0,\"fYsizeUser\":0,\"fXsizeReal\":20,\"fYsizeReal\":14.28571,\"fWindowTopX\":0,\"fWindowTopY\":0,\"fWindowWidth\":0,\"fWindowHeight\":0,\"fCw\":696,\"fCh\":472,\"fCatt\":{\"_typename\":\"TAttCanvas\",\"fXBetween\":2,\"fYBetween\":2,\"fTitleFromTop\":1.2,\"fXdate\":0.2,\"fYdate\":0.3,\"fAdate\":1},\"kMoveOpaque\":true,\"kResizeOpaque\":true,\"fHighLightColor\":2,\"fBatch\":true,\"kShowEventStatus\":false,\"kAutoExec\":true,\"kMenuBar\":true});\n",
       "            Core.draw(\"root_plot_1591730437976\", obj, \"\");\n",
       "        }\n",
       "    );\n",
       "}\n",
       "</script>\n"
      ],
      "text/plain": [
       "<IPython.core.display.HTML object>"
      ]
     },
     "metadata": {},
     "output_type": "display_data"
    }
   ],
   "source": [
    "h2.Draw(\"colz\")\n",
    "ROOT.gPad.Draw()"
   ]
  },
  {
   "cell_type": "code",
   "execution_count": 7,
   "metadata": {},
   "outputs": [],
   "source": [
    "J = ROOT.TMatrixD( (h2.GetNbinsX()+2)*(h2.GetNbinsY()+2), (h2.GetNbinsX()+2)*(h2.GetNbinsY()+2),  )\n"
   ]
  },
  {
   "cell_type": "code",
   "execution_count": 8,
   "metadata": {},
   "outputs": [],
   "source": [
    "ROOT.makeJacobian2D(h2,J)"
   ]
  },
  {
   "cell_type": "code",
   "execution_count": 9,
   "metadata": {
    "scrolled": true
   },
   "outputs": [
    {
     "data": {
      "text/html": [
       "\n",
       "<div id=\"root_plot_1591730438113\"\n",
       "     style=\"width: 696px; height: 472px\">\n",
       "</div>\n",
       "<script>\n",
       "if (typeof require !== 'undefined') {\n",
       "\n",
       "    // All requirements met (we are in jupyter notebooks or we loaded requirejs before).\n",
       "    display_root_plot_1591730438113();\n",
       "\n",
       "} else {\n",
       "\n",
       "    // We are in jupyterlab, we need to insert requirejs and configure it.\n",
       "    // Jupyterlab might be installed in a different base_url so we need to know it.\n",
       "    try {\n",
       "        var base_url = JSON.parse(document.getElementById('jupyter-config-data').innerHTML).baseUrl;\n",
       "    } catch(_) {\n",
       "        var base_url = '/';\n",
       "    }\n",
       "\n",
       "    // Try loading a local version of requirejs and fallback to cdn if not possible.\n",
       "    requirejs_load(base_url + 'static/components/requirejs/require.js', requirejs_success(base_url), function(){\n",
       "        requirejs_load('https://cdnjs.cloudflare.com/ajax/libs/require.js/2.2.0/require.min.js', requirejs_success(base_url), function(){\n",
       "            document.getElementById(\"root_plot_1591730438113\").innerHTML = \"Failed to load requireJs\";\n",
       "        });\n",
       "    });\n",
       "}\n",
       "\n",
       "function requirejs_load(src, on_load, on_error) {\n",
       "    var script = document.createElement('script');\n",
       "    script.src = src;\n",
       "    script.onload = on_load;\n",
       "    script.onerror = on_error;\n",
       "    document.head.appendChild(script);\n",
       "}\n",
       "\n",
       "function requirejs_success(base_url) {\n",
       "    return function() {\n",
       "        require.config({\n",
       "            baseUrl: base_url + 'static/jsroot/'\n",
       "        });\n",
       "        display_root_plot_1591730438113();\n",
       "    }\n",
       "}\n",
       "\n",
       "function display_root_plot_1591730438113() {\n",
       "    require(['scripts/JSRootCore'],\n",
       "        function(Core) {\n",
       "            var obj = Core.JSONR_unref({\"_typename\":\"TCanvas\",\"fUniqueID\":0,\"fBits\":3342344,\"fLineColor\":1,\"fLineStyle\":1,\"fLineWidth\":1,\"fFillColor\":0,\"fFillStyle\":1001,\"fLeftMargin\":0.1,\"fRightMargin\":0.1,\"fBottomMargin\":0.1,\"fTopMargin\":0.1,\"fXfile\":2,\"fYfile\":2,\"fAfile\":1,\"fXstat\":0.99,\"fYstat\":0.99,\"fAstat\":2,\"fFrameFillColor\":0,\"fFrameLineColor\":1,\"fFrameFillStyle\":1001,\"fFrameLineStyle\":1,\"fFrameLineWidth\":1,\"fFrameBorderSize\":1,\"fFrameBorderMode\":0,\"fX1\":-3.75000027939679,\"fY1\":-3.75000027939679,\"fX2\":33.7500002793968,\"fY2\":33.7500002793968,\"fXtoAbsPixelk\":69.6000541484835,\"fXtoPixelk\":69.6000541484835,\"fXtoPixel\":18.5599997234344,\"fYtoAbsPixelk\":424.800047186661,\"fYtoPixelk\":424.800047186661,\"fYtoPixel\":-12.5866664791107,\"fUtoAbsPixelk\":5e-5,\"fUtoPixelk\":5e-5,\"fUtoPixel\":696,\"fVtoAbsPixelk\":472.00005,\"fVtoPixelk\":472,\"fVtoPixel\":-472,\"fAbsPixeltoXk\":-3.75000027939679,\"fPixeltoXk\":-3.75000027939679,\"fPixeltoX\":0.0538793111476919,\"fAbsPixeltoYk\":33.7500002793968,\"fPixeltoYk\":-3.75000027939679,\"fPixeltoY\":-0.0794491537262576,\"fXlowNDC\":0,\"fYlowNDC\":0,\"fXUpNDC\":1,\"fYUpNDC\":1,\"fWNDC\":1,\"fHNDC\":1,\"fAbsXlowNDC\":0,\"fAbsYlowNDC\":0,\"fAbsWNDC\":1,\"fAbsHNDC\":1,\"fUxmin\":0,\"fUymin\":0,\"fUxmax\":30,\"fUymax\":30,\"fTheta\":30,\"fPhi\":30,\"fAspectRatio\":0,\"fNumber\":0,\"fTickx\":0,\"fTicky\":0,\"fLogx\":0,\"fLogy\":0,\"fLogz\":0,\"fPadPaint\":0,\"fCrosshair\":0,\"fCrosshairPos\":0,\"fBorderSize\":2,\"fBorderMode\":0,\"fModified\":false,\"fGridx\":false,\"fGridy\":false,\"fAbsCoord\":false,\"fEditable\":true,\"fFixedAspectRatio\":false,\"fPrimitives\":{\"_typename\":\"TList\",\"name\":\"TList\",\"arr\":[{\"_typename\":\"TFrame\",\"fUniqueID\":0,\"fBits\":8,\"fLineColor\":1,\"fLineStyle\":1,\"fLineWidth\":1,\"fFillColor\":0,\"fFillStyle\":1001,\"fX1\":0,\"fY1\":0,\"fX2\":30,\"fY2\":30,\"fBorderSize\":1,\"fBorderMode\":0},{\"_typename\":\"TH2D\",\"fUniqueID\":0,\"fBits\":521,\"fName\":\"TMatrixDBase\",\"fTitle\":\"\",\"fLineColor\":602,\"fLineStyle\":1,\"fLineWidth\":1,\"fFillColor\":0,\"fFillStyle\":1001,\"fMarkerColor\":1,\"fMarkerStyle\":1,\"fMarkerSize\":1,\"fNcells\":1024,\"fXaxis\":{\"_typename\":\"TAxis\",\"fUniqueID\":0,\"fBits\":0,\"fName\":\"xaxis\",\"fTitle\":\"\",\"fNdivisions\":510,\"fAxisColor\":1,\"fLabelColor\":1,\"fLabelFont\":42,\"fLabelOffset\":0.005,\"fLabelSize\":0.035,\"fTickLength\":0.03,\"fTitleOffset\":1,\"fTitleSize\":0.035,\"fTitleColor\":1,\"fTitleFont\":42,\"fNbins\":30,\"fXmin\":0,\"fXmax\":30,\"fXbins\":[],\"fFirst\":0,\"fLast\":0,\"fBits2\":0,\"fTimeDisplay\":false,\"fTimeFormat\":\"\",\"fLabels\":null,\"fModLabs\":null},\"fYaxis\":{\"_typename\":\"TAxis\",\"fUniqueID\":0,\"fBits\":0,\"fName\":\"yaxis\",\"fTitle\":\"\",\"fNdivisions\":510,\"fAxisColor\":1,\"fLabelColor\":1,\"fLabelFont\":42,\"fLabelOffset\":0.005,\"fLabelSize\":0.035,\"fTickLength\":0.03,\"fTitleOffset\":0,\"fTitleSize\":0.035,\"fTitleColor\":1,\"fTitleFont\":42,\"fNbins\":30,\"fXmin\":0,\"fXmax\":30,\"fXbins\":[],\"fFirst\":0,\"fLast\":0,\"fBits2\":0,\"fTimeDisplay\":false,\"fTimeFormat\":\"\",\"fLabels\":null,\"fModLabs\":null},\"fZaxis\":{\"_typename\":\"TAxis\",\"fUniqueID\":0,\"fBits\":0,\"fName\":\"zaxis\",\"fTitle\":\"\",\"fNdivisions\":510,\"fAxisColor\":1,\"fLabelColor\":1,\"fLabelFont\":42,\"fLabelOffset\":0.005,\"fLabelSize\":0.035,\"fTickLength\":0.03,\"fTitleOffset\":1,\"fTitleSize\":0.035,\"fTitleColor\":1,\"fTitleFont\":42,\"fNbins\":1,\"fXmin\":0,\"fXmax\":1,\"fXbins\":[],\"fFirst\":0,\"fLast\":0,\"fBits2\":0,\"fTimeDisplay\":false,\"fTimeFormat\":\"\",\"fLabels\":null,\"fModLabs\":null},\"fBarOffset\":0,\"fBarWidth\":1000,\"fEntries\":900,\"fTsumw\":0,\"fTsumw2\":0,\"fTsumwx\":0,\"fTsumwx2\":0,\"fMaximum\":-1111,\"fMinimum\":-1111,\"fNormFactor\":0,\"fContour\":[0,0.05,0.1,0.15,0.2,0.25,0.3,0.35,0.4,0.45,0.5,0.55,0.6,0.65,0.7,0.75,0.8,0.85,0.9,0.95],\"fSumw2\":[],\"fOption\":\"\",\"fFunctions\":{\"_typename\":\"TList\",\"name\":\"TList\",\"arr\":[{\"_typename\":\"TPaletteAxis\",\"fUniqueID\":0,\"fBits\":0,\"fLineColor\":1,\"fLineStyle\":1,\"fLineWidth\":1,\"fFillColor\":1178,\"fFillStyle\":1001,\"fX1\":30.187500002794,\"fY1\":0,\"fX2\":31.8750000279397,\"fY2\":30,\"fX1NDC\":0.904999994039535,\"fY1NDC\":0.100000005960465,\"fX2NDC\":0.949999994039535,\"fY2NDC\":0.899999994039535,\"fBorderSize\":4,\"fInit\":1,\"fShadowColor\":1,\"fCornerRadius\":0,\"fOption\":\"br\",\"fName\":\"TPave\",\"fAxis\":{\"_typename\":\"TGaxis\",\"fUniqueID\":0,\"fBits\":0,\"fLineColor\":1,\"fLineStyle\":1,\"fLineWidth\":1,\"fX1\":0,\"fY1\":0,\"fX2\":0,\"fY2\":0,\"fTextAngle\":0,\"fTextSize\":0.04,\"fTextAlign\":11,\"fTextColor\":1,\"fTextFont\":42,\"fWmin\":0,\"fWmax\":0,\"fGridLength\":0,\"fTickSize\":0.03,\"fLabelOffset\":0.005,\"fLabelSize\":0.035,\"fTitleOffset\":1,\"fTitleSize\":0.035,\"fNdiv\":0,\"fLabelColor\":1,\"fLabelFont\":42,\"fNModLabs\":0,\"fChopt\":\"\",\"fName\":\"\",\"fTitle\":\"\",\"fTimeFormat\":\"\",\"fFunctionName\":\"\",\"fModLabs\":null},\"fName\":\"palette\"}],\"opt\":[\"br\"]},\"fBufferSize\":0,\"fBuffer\":[],\"fBinStatErrOpt\":0,\"fStatOverflows\":2,\"fScalefactor\":1,\"fTsumwy\":0,\"fTsumwy2\":0,\"fTsumwxy\":0,\"fArray\":[0,0,0,0,0,0,0,0,0,0,0,0,0,0,0,0,0,0,0,0,0,0,0,0,0,0,0,0,0,0,0,0,0,1,-0,-0,-0,-0,-0,-0,-0,-0,-0,-0,-0,-0,-0,-0,-0,-0,-0,-0,-0,-0,-0,-0,-0,-0,0,0,0,0,0,0,0,-0,1,-0,-0,-0,-0,-0,-0,-0,-0,-0,-0,-0,-0,-0,-0,-0,-0,-0,-0,-0,-0,-0,-0,-0,0,0,0,0,0,0,0,-0,-0,1,-0,-0,-0,-0,-0,-0,-0,-0,-0,-0,-0,-0,-0,-0,-0,-0,-0,-0,-0,-0,-0,-0,0,0,0,0,0,0,0,-0,-0,-0,1,-0,-0,-0,-0,-0,-0,-0,-0,-0,-0,-0,-0,-0,-0,-0,-0,-0,-0,-0,-0,-0,0,0,0,0,0,0,0,-0,-0,-0,-0,1,-0,-0,-0,-0,-0,-0,-0,-0,-0,-0,-0,-0,-0,-0,-0,-0,-0,-0,-0,-0,0,0,0,0,0,0,0,-0,-0,-0,-0,-0,0.333333333333333,-0,-0,-0,-0,-0,-0,-0,-0,-0,-0,-0,-0,-0,-0,-0,-0,-0,-0,-0,0,0,0,0,0,0,0,-0,-0,-0,-0,-0,-0,0.333333333333333,-0,-0,-0,-0,-0,-0,-0,-0,-0,-0,-0,-0,-0,-0,-0,-0,-0,-0,0,0,0,0,0,0,0,-0,-0,-0,-0,-0,-0,-0,0.333333333333333,-0,-0,-0,-0,-0,-0,-0,-0,-0,-0,-0,-0,-0,-0,-0,-0,-0,0,0,0,0,0,0,0,-0,-0,-0,-0,-0,-0,-0,-0,0.333333333333333,-0,-0,-0,-0,-0,-0,-0,-0,-0,-0,-0,-0,-0,-0,-0,-0,0,0,0,0,0,0,0,-0,-0,-0,-0,-0,-0,-0,-0,-0,0.2,-0,-0,-0,-0,-0,-0,-0,-0,-0,-0,-0,-0,-0,-0,-0,0,0,0,0,0,0,0,-0,-0,-0,-0,-0,-0,-0,-0,-0,-0,0.2,-0,-0,-0,-0,-0,-0,-0,-0,-0,-0,-0,-0,-0,-0,0,0,0,0,0,0,0,-0,-0,-0,-0,-0,-0,-0,-0,-0,-0,-0,0.2,-0,-0,-0,-0,-0,-0,-0,-0,-0,-0,-0,-0,-0,0,0,0,0,0,0,0,-0,-0,-0,-0,-0,-0,-0,-0,-0,-0,-0,-0,0.2,-0,-0,-0,-0,-0,-0,-0,-0,-0,-0,-0,-0,0,0,0,0,0,0,0,-0,-0,-0,-0,-0,-0,-0,-0,-0,-0,-0,-0,-0,0.142857142857143,-0,-0,-0,-0,-0,-0,-0,-0,-0,-0,-0,0,0,0,0,0,0,0,-0,-0,-0,-0,-0,-0,-0,-0,-0,-0,-0,-0,-0,-0,0.142857142857143,-0,-0,-0,-0,-0,-0,-0,-0,-0,-0,0,0,0,0,0,0,0,-0,-0,-0,-0,-0,-0,-0,-0,-0,-0,-0,-0,-0,-0,-0,0.142857142857143,-0,-0,-0,-0,-0,-0,-0,-0,-0,0,0,0,0,0,0,0,-0,-0,-0,-0,-0,-0,-0,-0,-0,-0,-0,-0,-0,-0,-0,-0,0.142857142857143,-0,-0,-0,-0,-0,-0,-0,-0,0,0,0,0,0,0,0,-0,-0,-0,-0,-0,-0,-0,-0,-0,-0,-0,-0,-0,-0,-0,-0,-0,0.25,-0,-0,-0,-0,-0,-0,-0,0,0,0,0,0,0,0,-0,-0,-0,-0,-0,-0,-0,-0,-0,-0,-0,-0,-0,-0,-0,-0,-0,-0,0.25,-0,-0,-0,-0,-0,-0,0,0,0,0,0,0,0,-0,-0,-0,-0,-0,-0,-0,-0,-0,-0,-0,-0,-0,-0,-0,-0,-0,-0,-0,0.25,-0,-0,-0,-0,-0,0,0,0,0,0,0,0,-0,-0,-0,-0,-0,-0,-0,-0,-0,-0,-0,-0,-0,-0,-0,-0,-0,-0,-0,-0,0.25,-0,-0,-0,-0,0,0,0,0,0,0,0,0,0,0,0,0,0,0,0,0,0,0,0,0,0,0,0,0,0,0,0,0,0,0,0,0,0,0,0,0,0,0,0,0,0,0,0,0,0,0,0,0,0,0,0,0,0,0,0,0,0,0,0,0,0,0,0,0,0,0,0,0,0,0,0,0,0,0,0,0,0,0,0,0,0,0,0,0,0,0,0,0,0,0,0,0,0,0,0,0,0,0,0,0,0,0,0,0,0,0,0,0,0,0,0,0,0,0,0,0,0,0,0,0,0,0,0,0,0,0,0,0,0,0,0,0,0,0,0,0,0,0,0,0,0,0,0,0,0,0,0,0,0,0,0,0,0,0,0,0,0,0,0,0,0,0,0,0,0,0,0,0,0,0,0,0,0,0,0,0,0,0,0,0,0,0,0,0,0,0,0,0,0,0,0,0,0,0,0,0,0,0,0,0,0,0,0,0,0,0,0,0,0,0,0,0,0,0,0,0,0,0,0,0,0,0,0,0,0,0,0,0,0,0,0,0,0,0,0,0,0,0,0,0,0,0,0,0,0,0,0,0,0,0,0,0,0,0,0,0,0,0,0,0,0,0,0,0,0,0,0,0,0,0,0,0,0,0,0,0,0,0,0,0,0,0,0,0,0,0,0,0,0,0,0,0,0,0,0,0,0,0,0,0,0,0,0,0,0,0,0,0,0,0,0,0,0,0,0,0,0,0,0,0,0,0,0,0,0,0]}],\"opt\":[\"\",\"colz\"]},\"fExecs\":null,\"fName\":\"c1\",\"fTitle\":\"c1\",\"fNumPaletteColor\":0,\"fNextPaletteColor\":0,\"fDISPLAY\":\"$DISPLAY\",\"fDoubleBuffer\":0,\"fRetained\":true,\"fXsizeUser\":0,\"fYsizeUser\":0,\"fXsizeReal\":20,\"fYsizeReal\":14.28571,\"fWindowTopX\":0,\"fWindowTopY\":0,\"fWindowWidth\":0,\"fWindowHeight\":0,\"fCw\":696,\"fCh\":472,\"fCatt\":{\"_typename\":\"TAttCanvas\",\"fXBetween\":2,\"fYBetween\":2,\"fTitleFromTop\":1.2,\"fXdate\":0.2,\"fYdate\":0.3,\"fAdate\":1},\"kMoveOpaque\":true,\"kResizeOpaque\":true,\"fHighLightColor\":2,\"fBatch\":true,\"kShowEventStatus\":false,\"kAutoExec\":true,\"kMenuBar\":true});\n",
       "            Core.draw(\"root_plot_1591730438113\", obj, \"\");\n",
       "        }\n",
       "    );\n",
       "}\n",
       "</script>\n"
      ],
      "text/plain": [
       "<IPython.core.display.HTML object>"
      ]
     },
     "metadata": {},
     "output_type": "display_data"
    }
   ],
   "source": [
    "J.Draw(\"colz\")\n",
    "ROOT.gPad.Draw()"
   ]
  },
  {
   "cell_type": "code",
   "execution_count": 10,
   "metadata": {},
   "outputs": [
    {
     "name": "stdout",
     "output_type": "stream",
     "text": [
      "\n",
      "30x30 matrix is as follows\n",
      "\n",
      "     |       0    |       1    |       2    |       3    |       4    |\n",
      "----------------------------------------------------------------------\n",
      "   0 |          1          -0          -0          -0          -0 \n",
      "   1 |         -0           1          -0          -0          -0 \n",
      "   2 |         -0          -0           1          -0          -0 \n",
      "   3 |         -0          -0          -0           1          -0 \n",
      "   4 |         -0          -0          -0          -0           1 \n",
      "   5 |         -0          -0          -0          -0          -0 \n",
      "   6 |         -0          -0          -0          -0          -0 \n",
      "   7 |         -0          -0          -0          -0          -0 \n",
      "   8 |         -0          -0          -0          -0          -0 \n",
      "   9 |         -0          -0          -0          -0          -0 \n",
      "  10 |         -0          -0          -0          -0          -0 \n",
      "  11 |         -0          -0          -0          -0          -0 \n",
      "  12 |         -0          -0          -0          -0          -0 \n",
      "  13 |         -0          -0          -0          -0          -0 \n",
      "  14 |         -0          -0          -0          -0          -0 \n",
      "  15 |         -0          -0          -0          -0          -0 \n",
      "  16 |         -0          -0          -0          -0          -0 \n",
      "  17 |         -0          -0          -0          -0          -0 \n",
      "  18 |         -0          -0          -0          -0          -0 \n",
      "  19 |         -0          -0          -0          -0          -0 \n",
      "  20 |         -0          -0          -0          -0          -0 \n",
      "  21 |          0           0           0           0           0 \n",
      "  22 |          0           0           0           0           0 \n",
      "  23 |          0           0           0           0           0 \n",
      "  24 |          0           0           0           0           0 \n",
      "  25 |          0           0           0           0           0 \n",
      "  26 |          0           0           0           0           0 \n",
      "  27 |          0           0           0           0           0 \n",
      "  28 |          0           0           0           0           0 \n",
      "  29 |          0           0           0           0           0 \n",
      "\n",
      "\n",
      "     |       5    |       6    |       7    |       8    |       9    |\n",
      "----------------------------------------------------------------------\n",
      "   0 |         -0          -0          -0          -0          -0 \n",
      "   1 |         -0          -0          -0          -0          -0 \n",
      "   2 |         -0          -0          -0          -0          -0 \n",
      "   3 |         -0          -0          -0          -0          -0 \n",
      "   4 |         -0          -0          -0          -0          -0 \n",
      "   5 |     0.3333          -0          -0          -0          -0 \n",
      "   6 |         -0      0.3333          -0          -0          -0 \n",
      "   7 |         -0          -0      0.3333          -0          -0 \n",
      "   8 |         -0          -0          -0      0.3333          -0 \n",
      "   9 |         -0          -0          -0          -0         0.2 \n",
      "  10 |         -0          -0          -0          -0          -0 \n",
      "  11 |         -0          -0          -0          -0          -0 \n",
      "  12 |         -0          -0          -0          -0          -0 \n",
      "  13 |         -0          -0          -0          -0          -0 \n",
      "  14 |         -0          -0          -0          -0          -0 \n",
      "  15 |         -0          -0          -0          -0          -0 \n",
      "  16 |         -0          -0          -0          -0          -0 \n",
      "  17 |         -0          -0          -0          -0          -0 \n",
      "  18 |         -0          -0          -0          -0          -0 \n",
      "  19 |         -0          -0          -0          -0          -0 \n",
      "  20 |         -0          -0          -0          -0          -0 \n",
      "  21 |          0           0           0           0           0 \n",
      "  22 |          0           0           0           0           0 \n",
      "  23 |          0           0           0           0           0 \n",
      "  24 |          0           0           0           0           0 \n",
      "  25 |          0           0           0           0           0 \n",
      "  26 |          0           0           0           0           0 \n",
      "  27 |          0           0           0           0           0 \n",
      "  28 |          0           0           0           0           0 \n",
      "  29 |          0           0           0           0           0 \n",
      "\n",
      "\n",
      "     |      10    |      11    |      12    |      13    |      14    |\n",
      "----------------------------------------------------------------------\n",
      "   0 |         -0          -0          -0          -0          -0 \n",
      "   1 |         -0          -0          -0          -0          -0 \n",
      "   2 |         -0          -0          -0          -0          -0 \n",
      "   3 |         -0          -0          -0          -0          -0 \n",
      "   4 |         -0          -0          -0          -0          -0 \n",
      "   5 |         -0          -0          -0          -0          -0 \n",
      "   6 |         -0          -0          -0          -0          -0 \n",
      "   7 |         -0          -0          -0          -0          -0 \n",
      "   8 |         -0          -0          -0          -0          -0 \n",
      "   9 |         -0          -0          -0          -0          -0 \n",
      "  10 |        0.2          -0          -0          -0          -0 \n",
      "  11 |         -0         0.2          -0          -0          -0 \n",
      "  12 |         -0          -0         0.2          -0          -0 \n",
      "  13 |         -0          -0          -0      0.1429          -0 \n",
      "  14 |         -0          -0          -0          -0      0.1429 \n",
      "  15 |         -0          -0          -0          -0          -0 \n",
      "  16 |         -0          -0          -0          -0          -0 \n",
      "  17 |         -0          -0          -0          -0          -0 \n",
      "  18 |         -0          -0          -0          -0          -0 \n",
      "  19 |         -0          -0          -0          -0          -0 \n",
      "  20 |         -0          -0          -0          -0          -0 \n",
      "  21 |          0           0           0           0           0 \n",
      "  22 |          0           0           0           0           0 \n",
      "  23 |          0           0           0           0           0 \n",
      "  24 |          0           0           0           0           0 \n",
      "  25 |          0           0           0           0           0 \n",
      "  26 |          0           0           0           0           0 \n",
      "  27 |          0           0           0           0           0 \n",
      "  28 |          0           0           0           0           0 \n",
      "  29 |          0           0           0           0           0 \n",
      "\n",
      "\n",
      "     |      15    |      16    |      17    |      18    |      19    |\n",
      "----------------------------------------------------------------------\n",
      "   0 |         -0          -0          -0          -0          -0 \n",
      "   1 |         -0          -0          -0          -0          -0 \n",
      "   2 |         -0          -0          -0          -0          -0 \n",
      "   3 |         -0          -0          -0          -0          -0 \n",
      "   4 |         -0          -0          -0          -0          -0 \n",
      "   5 |         -0          -0          -0          -0          -0 \n",
      "   6 |         -0          -0          -0          -0          -0 \n",
      "   7 |         -0          -0          -0          -0          -0 \n",
      "   8 |         -0          -0          -0          -0          -0 \n",
      "   9 |         -0          -0          -0          -0          -0 \n",
      "  10 |         -0          -0          -0          -0          -0 \n",
      "  11 |         -0          -0          -0          -0          -0 \n",
      "  12 |         -0          -0          -0          -0          -0 \n",
      "  13 |         -0          -0          -0          -0          -0 \n",
      "  14 |         -0          -0          -0          -0          -0 \n",
      "  15 |     0.1429          -0          -0          -0          -0 \n",
      "  16 |         -0      0.1429          -0          -0          -0 \n",
      "  17 |         -0          -0        0.25          -0          -0 \n",
      "  18 |         -0          -0          -0        0.25          -0 \n",
      "  19 |         -0          -0          -0          -0        0.25 \n",
      "  20 |         -0          -0          -0          -0          -0 \n",
      "  21 |          0           0           0           0           0 \n",
      "  22 |          0           0           0           0           0 \n",
      "  23 |          0           0           0           0           0 \n",
      "  24 |          0           0           0           0           0 \n",
      "  25 |          0           0           0           0           0 \n",
      "  26 |          0           0           0           0           0 \n",
      "  27 |          0           0           0           0           0 \n",
      "  28 |          0           0           0           0           0 \n",
      "  29 |          0           0           0           0           0 \n",
      "\n",
      "\n",
      "     |      20    |      21    |      22    |      23    |      24    |\n",
      "----------------------------------------------------------------------\n",
      "   0 |         -0          -0          -0          -0          -0 \n",
      "   1 |         -0          -0          -0          -0          -0 \n",
      "   2 |         -0          -0          -0          -0          -0 \n",
      "   3 |         -0          -0          -0          -0          -0 \n",
      "   4 |         -0          -0          -0          -0          -0 \n",
      "   5 |         -0          -0          -0          -0          -0 \n",
      "   6 |         -0          -0          -0          -0          -0 \n",
      "   7 |         -0          -0          -0          -0          -0 \n",
      "   8 |         -0          -0          -0          -0          -0 \n",
      "   9 |         -0          -0          -0          -0          -0 \n",
      "  10 |         -0          -0          -0          -0          -0 \n",
      "  11 |         -0          -0          -0          -0          -0 \n",
      "  12 |         -0          -0          -0          -0          -0 \n",
      "  13 |         -0          -0          -0          -0          -0 \n",
      "  14 |         -0          -0          -0          -0          -0 \n",
      "  15 |         -0          -0          -0          -0          -0 \n",
      "  16 |         -0          -0          -0          -0          -0 \n",
      "  17 |         -0          -0          -0          -0          -0 \n",
      "  18 |         -0          -0          -0          -0          -0 \n",
      "  19 |         -0          -0          -0          -0          -0 \n",
      "  20 |       0.25          -0          -0          -0          -0 \n",
      "  21 |          0           0           0           0           0 \n",
      "  22 |          0           0           0           0           0 \n",
      "  23 |          0           0           0           0           0 \n",
      "  24 |          0           0           0           0           0 \n",
      "  25 |          0           0           0           0           0 \n",
      "  26 |          0           0           0           0           0 \n",
      "  27 |          0           0           0           0           0 \n",
      "  28 |          0           0           0           0           0 \n",
      "  29 |          0           0           0           0           0 \n",
      "\n",
      "\n",
      "     |      25    |      26    |      27    |      28    |      29    |\n",
      "----------------------------------------------------------------------\n",
      "   0 |          0           0           0           0           0 \n",
      "   1 |          0           0           0           0           0 \n",
      "   2 |          0           0           0           0           0 \n",
      "   3 |          0           0           0           0           0 \n",
      "   4 |          0           0           0           0           0 \n",
      "   5 |          0           0           0           0           0 \n",
      "   6 |          0           0           0           0           0 \n",
      "   7 |          0           0           0           0           0 \n",
      "   8 |          0           0           0           0           0 \n",
      "   9 |          0           0           0           0           0 \n",
      "  10 |          0           0           0           0           0 \n",
      "  11 |          0           0           0           0           0 \n",
      "  12 |          0           0           0           0           0 \n",
      "  13 |          0           0           0           0           0 \n",
      "  14 |          0           0           0           0           0 \n",
      "  15 |          0           0           0           0           0 \n",
      "  16 |          0           0           0           0           0 \n",
      "  17 |          0           0           0           0           0 \n",
      "  18 |          0           0           0           0           0 \n",
      "  19 |          0           0           0           0           0 \n",
      "  20 |          0           0           0           0           0 \n",
      "  21 |          0           0           0           0           0 \n",
      "  22 |          0           0           0           0           0 \n",
      "  23 |          0           0           0           0           0 \n",
      "  24 |          0           0           0           0           0 \n",
      "  25 |          0           0           0           0           0 \n",
      "  26 |          0           0           0           0           0 \n",
      "  27 |          0           0           0           0           0 \n",
      "  28 |          0           0           0           0           0 \n",
      "  29 |          0           0           0           0           0 \n",
      "\n"
     ]
    }
   ],
   "source": [
    "J.Print()"
   ]
  },
  {
   "cell_type": "code",
   "execution_count": 11,
   "metadata": {},
   "outputs": [
    {
     "ename": "NameError",
     "evalue": "name 'o_norm' is not defined",
     "output_type": "error",
     "traceback": [
      "\u001b[0;31m---------------------------------------------------------------------------\u001b[0m",
      "\u001b[0;31mNameError\u001b[0m                                 Traceback (most recent call last)",
      "\u001b[0;32m<ipython-input-11-8153dc62e434>\u001b[0m in \u001b[0;36m<module>\u001b[0;34m\u001b[0m\n\u001b[1;32m      1\u001b[0m \u001b[0mh2_norm\u001b[0m \u001b[0;34m=\u001b[0m \u001b[0mh2\u001b[0m\u001b[0;34m.\u001b[0m\u001b[0mClone\u001b[0m\u001b[0;34m(\u001b[0m\u001b[0;34m\"h2_norm\"\u001b[0m\u001b[0;34m)\u001b[0m\u001b[0;34m\u001b[0m\u001b[0;34m\u001b[0m\u001b[0m\n\u001b[1;32m      2\u001b[0m \u001b[0;32mfor\u001b[0m \u001b[0mi\u001b[0m \u001b[0;32min\u001b[0m \u001b[0mrange\u001b[0m\u001b[0;34m(\u001b[0m\u001b[0mh2_norm\u001b[0m\u001b[0;34m.\u001b[0m\u001b[0mGetNbinsY\u001b[0m\u001b[0;34m(\u001b[0m\u001b[0;34m)\u001b[0m \u001b[0;34m+\u001b[0m \u001b[0;36m1\u001b[0m\u001b[0;34m)\u001b[0m\u001b[0;34m:\u001b[0m\u001b[0;34m\u001b[0m\u001b[0;34m\u001b[0m\u001b[0m\n\u001b[0;32m----> 3\u001b[0;31m     \u001b[0mh2_norm\u001b[0m\u001b[0;34m.\u001b[0m\u001b[0mScale\u001b[0m\u001b[0;34m(\u001b[0m \u001b[0;36m1.0\u001b[0m \u001b[0;34m/\u001b[0m \u001b[0mo_norm\u001b[0m\u001b[0;34m.\u001b[0m\u001b[0mIntegral\u001b[0m\u001b[0;34m(\u001b[0m \u001b[0;36m0\u001b[0m\u001b[0;34m,\u001b[0m \u001b[0mh2_norm\u001b[0m\u001b[0;34m.\u001b[0m\u001b[0mGetNbinsX\u001b[0m\u001b[0;34m(\u001b[0m\u001b[0;34m)\u001b[0m \u001b[0;34m+\u001b[0m \u001b[0;36m1\u001b[0m\u001b[0;34m,\u001b[0m \u001b[0mi\u001b[0m\u001b[0;34m,\u001b[0m \u001b[0mi\u001b[0m\u001b[0;34m+\u001b[0m\u001b[0;36m1\u001b[0m\u001b[0;34m)\u001b[0m\u001b[0;34m)\u001b[0m\u001b[0;34m\u001b[0m\u001b[0;34m\u001b[0m\u001b[0m\n\u001b[0m",
      "\u001b[0;31mNameError\u001b[0m: name 'o_norm' is not defined"
     ]
    }
   ],
   "source": [
    "h2_norm = h2.Clone(\"h2_norm\")\n",
    "for i in range(h2_norm.GetNbinsY() + 1):\n",
    "    h2_norm.Scale( 1.0 / o_norm.Integral( 0, h2_norm.GetNbinsX() + 1, i, i+1))"
   ]
  }
 ],
 "metadata": {
  "kernelspec": {
   "display_name": "Python 3",
   "language": "python",
   "name": "python3"
  },
  "language_info": {
   "codemirror_mode": {
    "name": "ipython",
    "version": 3
   },
   "file_extension": ".py",
   "mimetype": "text/x-python",
   "name": "python",
   "nbconvert_exporter": "python",
   "pygments_lexer": "ipython3",
   "version": "3.7.7"
  }
 },
 "nbformat": 4,
 "nbformat_minor": 2
}
