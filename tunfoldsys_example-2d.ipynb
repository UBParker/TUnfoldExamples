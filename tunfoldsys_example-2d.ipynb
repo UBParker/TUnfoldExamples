{
 "cells": [
  {
   "cell_type": "markdown",
   "metadata": {},
   "source": [
    "# TUnfoldDensity example with pyroot"
   ]
  },
  {
   "cell_type": "code",
   "execution_count": 1,
   "metadata": {},
   "outputs": [
    {
     "name": "stdout",
     "output_type": "stream",
     "text": [
      "Welcome to JupyROOT 6.10/04\n"
     ]
    }
   ],
   "source": [
    "import ROOT\n",
    "import numpy as np\n",
    "import array as array\n",
    "import math\n",
    "ROOT.gStyle.SetOptStat(000000)"
   ]
  },
  {
   "cell_type": "markdown",
   "metadata": {},
   "source": [
    "## Construct the Binning scheme"
   ]
  },
  {
   "cell_type": "markdown",
   "metadata": {},
   "source": [
    "Set the axis ranges for the generator (m bins) and detector  (n bins) level distributions as well as the number of bins in each. *Note* that we are currently using twice as many detector bins as generator level bins as recommended by the TUnfold documenation. This condition $n ≥ m$ \n",
    "is in contrast to many common unfoldding algorithms which require $n = m$ however a notable example of an unfolding algorithm without that restriction is __[G. D’Agostini](arXiv:1010.0632)__."
   ]
  },
  {
   "cell_type": "code",
   "execution_count": 2,
   "metadata": {},
   "outputs": [
    {
     "name": "stdout",
     "output_type": "stream",
     "text": [
      "There are 2 Gen Mass bins , 2 Gen Pt bins ,4 Reco Mass bins , 2 Reco Pt bins  \n"
     ]
    }
   ],
   "source": [
    "### Set up the binning scheme\n",
    "mbinsGen  = array.array('d', [0., 20., 100. ])\n",
    "mbinsDet  = array.array('d', [0., 10.,20.,60.,100. ])\n",
    "ptbinsGen = array.array('d', [0., 50., 100. ])\n",
    "ptbinsDet = array.array('d', [0., 50., 100. ])\n",
    "\n",
    "nmbinsGen  = len(mbinsGen) -1\n",
    "nmbinsDet  = len(mbinsDet) -1\n",
    "nptbinsGen = len(ptbinsGen) -1\n",
    "nptbinsDet = len(ptbinsDet) -1\n",
    "\n",
    "print \"There are {} Gen Mass bins , {} Gen Pt bins ,{} Reco Mass bins , {} Reco Pt bins  \".format(nmbinsGen,nptbinsGen , nmbinsDet,nptbinsDet)"
   ]
  },
  {
   "cell_type": "markdown",
   "metadata": {},
   "source": [
    "Instantiate the TUnfoldBinning Scheme. The \"signal\" node represents the generator level (coarser) binning whereas the \"detector\" node represents the (finer) input binning scheme. "
   ]
  },
  {
   "cell_type": "code",
   "execution_count": 3,
   "metadata": {},
   "outputs": [
    {
     "name": "stdout",
     "output_type": "stream",
     "text": [
      "array('d', [0.0, 1.0, 2.0, 3.0, 4.0])\n",
      "There are 4 (signal) generator level bins in the simple scheme\n",
      "---------------------------------------------------------------\n",
      "signalBinning\n",
      "0.0\n",
      "50.0\n",
      "100.0\n"
     ]
    }
   ],
   "source": [
    "generatorBinning = ROOT.TUnfoldBinning(\"generator\")\n",
    "### Need coarser binning for signal\n",
    "signalBinning = generatorBinning.AddBinning(\"signal\")    \n",
    "signalBinning.AddAxis(\"massgen\",nmbinsGen,mbinsGen,\n",
    "                        True, # needed for fakes\n",
    "                        True # overflow bin\n",
    "                        )\n",
    "signalBinning.AddAxis(\"ptgen\",nptbinsGen,ptbinsGen,\n",
    "                        True, # needed for fakes\n",
    "                        True # overflow bin\n",
    "                        )\n",
    "\n",
    "# X axis : generator binning is Signal : mgen * ptgen and Background : mrec * ptrec\n",
    "\n",
    "xaxis =  array.array('d',[a for a in xrange(nmbinsGen *nptbinsGen + 1 )])\n",
    "nx = len(xaxis)-1\n",
    "\n",
    "print xaxis\n",
    "print \"There are {} (signal) generator level bins in the simple scheme\".format(nx)\n",
    "print \"---------------------------------------------------------------\"\n",
    "\n",
    "print \"signalBinning\"\n",
    "for i in xrange(len(signalBinning.GetDistributionBinning(0))):\n",
    "    print  signalBinning.GetDistributionBinning(0)[i]\n",
    "\n",
    "#print \"detectorBinning\"\n",
    "#for i in xrange(len(backgroundBinning.GetDistributionBinning(0))):\n",
    "#    print backgroundBinning.GetDistributionBinning(0)[i]\n",
    "    \n",
    "#print \"Below counts include overflow and underflow bins\"    \n",
    "#print \"There are {} signal {} background bins in the generator scheme\".format(signalBinning.GetTH1xNumberOfBins() , backgroundBinning.GetDistributionNumberOfBins())\n"
   ]
  },
  {
   "cell_type": "code",
   "execution_count": 4,
   "metadata": {},
   "outputs": [
    {
     "name": "stdout",
     "output_type": "stream",
     "text": [
      "array('d', [0.0, 1.0, 2.0, 3.0, 4.0, 5.0, 6.0, 7.0, 8.0])\n",
      "There are 8  detector level bins in the simple scheme\n",
      "detectorBinning\n",
      "0.0\n",
      "25.0\n",
      "50.0\n",
      "75.0\n",
      "100.0\n",
      "Below counts include overflow and underflow bins\n",
      "There are 15 bins in the detector scheme\n"
     ]
    }
   ],
   "source": [
    "detectorBinning = ROOT.TUnfoldBinning(\"detector\") \n",
    "detectorDistribution=detectorBinning.AddBinning(\"detectordistribution\")\n",
    "detectorDistribution.AddAxis(\"mass\",nmbinsDet,mbinsDet,\n",
    "                        False, # no underflow bin (not reconstructed)\n",
    "                        True # overflow bin\n",
    "                        )\n",
    "detectorDistribution.AddAxis(\"pt\",nptbinsDet,ptbinsDet,\n",
    "                        False, # no underflow bin (not reconstructed)\n",
    "                        True # overflow bin\n",
    "                        )\n",
    "\n",
    "yaxis =  array.array('d',[a for a in xrange(nmbinsDet *nptbinsDet+1 )])\n",
    "ny = len(yaxis)-1\n",
    "\n",
    "print yaxis\n",
    "print \"There are {}  detector level bins in the simple scheme\".format(ny)\n",
    "print \"detectorBinning\"\n",
    "for i in xrange(len(detectorDistribution.GetDistributionBinning(0))):\n",
    "    print detectorDistribution.GetDistributionBinning(0)[i]\n",
    "    \n",
    "print \"Below counts include overflow and underflow bins\"  \n",
    "print \"There are {} bins in the detector scheme\".format(detectorDistribution.GetTH1xNumberOfBins())#GetDistributionNumberOfBins())\n"
   ]
  },
  {
   "cell_type": "markdown",
   "metadata": {
    "collapsed": true
   },
   "source": [
    "# Create Response Matrix and 1D input "
   ]
  },
  {
   "cell_type": "code",
   "execution_count": 5,
   "metadata": {},
   "outputs": [
    {
     "name": "stderr",
     "output_type": "stream",
     "text": [
      "/opt/local/Library/Frameworks/Python.framework/Versions/2.7/lib/python2.7/site-packages/ipykernel_launcher.py:7: RuntimeWarning: creating converter for unknown type \"int**\"\n",
      "  import sys\n"
     ]
    }
   ],
   "source": [
    "\n",
    "\n",
    "M = ROOT.TUnfoldBinning.CreateHistogramOfMigrations(generatorBinning,detectorBinning,\"M\")\n",
    "M1 = ROOT.TUnfoldBinning.CreateHistogramOfMigrations(generatorBinning,detectorBinning,\"M+1#sigma\")\n",
    "M2 = ROOT.TUnfoldBinning.CreateHistogramOfMigrations(generatorBinning,detectorBinning,\"M-1#sigma\")\n",
    "\n",
    "h = detectorBinning.CreateHistogram(\"h\")\n",
    "\n",
    "hup = detectorBinning.CreateHistogram(\"hup\")\n",
    "hdn = detectorBinning.CreateHistogram(\"hdn\")\n",
    "\n",
    "\n",
    "htrue = generatorBinning.CreateHistogram(\"htrue\")\n",
    "htruef = detectorBinning.CreateHistogram(\"htruef\")\n",
    "\n"
   ]
  },
  {
   "cell_type": "markdown",
   "metadata": {},
   "source": [
    "## Generate the response matrix\n",
    "\n",
    "Here, we have a respone matrix with 4 coarse and 8 fine bins (configurable). The variable of interest ($x$) ranges from 0 to 100. We assume the resolution on $x$ is 1.0, and that there is a systematic uncertainty \"scale\", which has an \"up\" and \"down\" variation of 2%. We generate 10000 pseudo-events for each value of x between 0 and 100, smeared by the resolution. For each of the \"x\" values, a reconstructed \"y\" value is constructed, again smeared by the resolution. We then add the \"up\" and \"down\" scale uncertainites. Finally, we construct TH2 matrices that represent the response matrices. "
   ]
  },
  {
   "cell_type": "code",
   "execution_count": 6,
   "metadata": {},
   "outputs": [
    {
     "name": "stdout",
     "output_type": "stream",
     "text": [
      "done\n"
     ]
    }
   ],
   "source": [
    "\n",
    "res = 1.0\n",
    "\n",
    "Npe = 100#10000 #10000\n",
    "minval = 0\n",
    "maxval = 100\n",
    "\n",
    "\n",
    "v = np.linspace(minval, maxval, maxval+1)\n",
    "\n",
    "# First get a Gaussian centered at each bin with the experimental resolution\n",
    "## reco x and y measurements\n",
    "rx = [ np.random.normal(loc=x,scale=res,size=Npe) for x in v ]\n",
    "ry = [ np.random.normal(loc=x,scale=res,size=Npe) for x in rx ]\n",
    "\n",
    "## gen x and y measurements\n",
    "gx = [ np.random.normal(loc=x,scale=5.0,size=Npe) for x in rx ]\n",
    "gy = [ np.random.normal(loc=x,scale=5.0,size=Npe) for x in ry ]\n",
    "print \"done\"\n",
    "#print gx"
   ]
  },
  {
   "cell_type": "code",
   "execution_count": 7,
   "metadata": {
    "collapsed": true
   },
   "outputs": [],
   "source": [
    "scaleup = 1.02\n",
    "scaledn = 0.98\n",
    "\n",
    "# Next scale the reco up and down\n",
    "ry_up = [ y*scaleup for y in ry ]\n",
    "ry_dn = [ y*scaledn for y in ry ]\n",
    "\n"
   ]
  },
  {
   "cell_type": "code",
   "execution_count": 8,
   "metadata": {
    "collapsed": true
   },
   "outputs": [],
   "source": [
    "\n",
    "#rx = [ np.random.normal(loc=x,scale=res,size=Npe) for x in v ]\n",
    "#ry = [ np.random.normal(loc=x,scale=res,size=Npe) for x in rx ]\n",
    "###\n",
    "#txvals = np.random.normal(loc=(maxval-minval)/2,scale=30,size=1000)#1000000)\n",
    "#xvals = [ np.random.normal(loc=t,scale=res) for t in txvals]\n",
    "\n",
    "#print txvals[:10]\n",
    "#print xvals[:10]\n",
    "#yvals = [ x * np.random.normal(loc=1,scale=0.1) for x in xvals ]\n",
    "#tyvals = np.random.normal(loc=(maxval-minval)/2,scale=30,size=1000 ) #1000000)\n",
    "\n",
    "\n",
    "hup.SetLineStyle(2)\n",
    "hdn.SetLineStyle(3)\n",
    "\n",
    "\n",
    "for i in xrange(len(rx)):    \n",
    "    for j in xrange(len(ry[i])):\n",
    "        xr = rx[i][j]\n",
    "        yr = ry[i][j]\n",
    "\n",
    "        xg = gx[i][j]\n",
    "        yg = gy[i][j]\n",
    "        \n",
    "        #print x \n",
    "        #print y\n",
    "        \n",
    "        gxb=signalBinning.GetGlobalBinNumber(xg, yg)\n",
    "        gyb= detectorDistribution.GetGlobalBinNumber(xr,yr)\n",
    "        h.Fill(gyb)\n",
    "        gyu = detectorDistribution.GetGlobalBinNumber(xr * scaleup, yr* scaleup)\n",
    "        gyd = detectorDistribution.GetGlobalBinNumber(xr * scaledn, yr* scaledn)\n",
    "        hup.Fill(gyu)\n",
    "        hdn.Fill(gyd)        \n",
    "        #print gx\n",
    "        #print gy\n",
    "        #gxn = signalBinning.GetBinName(gxb)\n",
    "        #gyn = detectorDistribution.GetBinName(gyb)\n",
    "        #print gxn\n",
    "        #print gyn        \n",
    "        yru= ry_up[i][j]\n",
    "        yrd= ry_dn[i][j]\n",
    "        \n",
    "        gyub = detectorDistribution.GetGlobalBinNumber(xr,yru)\n",
    "        gydb = detectorDistribution.GetGlobalBinNumber(xr,yrd)\n",
    "        \n",
    "        #print ' %10.7f %10.7f + %10.7f - %10.7f ' % ( x, y, yu, yd )\n",
    "        M.Fill(gxb, gyb)#, #1./Npe)\n",
    "        M1.Fill(gxb, gyub)#, 1./Npe)\n",
    "        M2.Fill(gxb, gydb)#, 1./Npe)\n",
    "\n",
    " \n",
    "        htrue.Fill(gxb)\n",
    "        rgyb= detectorDistribution.GetGlobalBinNumber(xg,yg)\n",
    "\n",
    "        htruef.Fill(rgyb)\n"
   ]
  },
  {
   "cell_type": "markdown",
   "metadata": {},
   "source": [
    "## Draw the response matrix\n",
    "\n",
    "We draw the nominal and $\\pm 1 \\sigma$ variations. "
   ]
  },
  {
   "cell_type": "code",
   "execution_count": 9,
   "metadata": {},
   "outputs": [
    {
     "data": {
      "image/png": "[encoded data removed]",
      "text/plain": [
       "<IPython.core.display.Image object>"
      ]
     },
     "metadata": {},
     "output_type": "display_data"
    }
   ],
   "source": [
    "\n",
    "c0 = ROOT.TCanvas(\"c0\", \"c0\", 1800, 600)\n",
    "c0.Divide(3,1)\n",
    "c0.cd(1)\n",
    "M.Draw(\"colz\")\n",
    "c0.cd(2)\n",
    "M1.Draw(\"colz\")\n",
    "c0.cd(3)\n",
    "M2.Draw(\"colz\")\n",
    "c0.Draw()"
   ]
  },
  {
   "cell_type": "code",
   "execution_count": 10,
   "metadata": {},
   "outputs": [
    {
     "name": "stdout",
     "output_type": "stream",
     "text": [
      "Bin X 1 #1 (signal:ptgen[ufl]:massgen[ufl]) Y 0 #0 is filled with 34.0 \n",
      "Bin X 1 #1 (signal:ptgen[ufl]:massgen[ufl]) Y 1 #1 (detectordistribution:pt[0,50]:mass[0,25]) is filled with 50.0 \n",
      "Bin X 2 #2 (signal:ptgen[ufl]:massgen[0,50]) Y 0 #0 is filled with 28.0 \n",
      "Bin X 2 #2 (signal:ptgen[ufl]:massgen[0,50]) Y 1 #1 (detectordistribution:pt[0,50]:mass[0,25]) is filled with 123.0 \n",
      "Bin X 5 #5 (signal:ptgen[0,50]:massgen[ufl]) Y 0 #0 is filled with 19.0 \n",
      "Bin X 5 #5 (signal:ptgen[0,50]:massgen[ufl]) Y 1 #1 (detectordistribution:pt[0,50]:mass[0,25]) is filled with 136.0 \n",
      "Bin X 6 #6 (signal:ptgen[0,50]:massgen[0,50]) Y 0 #0 is filled with 24.0 \n",
      "Bin X 6 #6 (signal:ptgen[0,50]:massgen[0,50]) Y 1 #1 (detectordistribution:pt[0,50]:mass[0,25]) is filled with 2134.0 \n",
      "Bin X 6 #6 (signal:ptgen[0,50]:massgen[0,50]) Y 2 #2 (detectordistribution:pt[0,50]:mass[25,50]) is filled with 2159.0 \n",
      "Bin X 6 #6 (signal:ptgen[0,50]:massgen[0,50]) Y 3 #3 (detectordistribution:pt[0,50]:mass[50,75]) is filled with 9.0 \n",
      "Bin X 6 #6 (signal:ptgen[0,50]:massgen[0,50]) Y 7 #7 (detectordistribution:pt[50,100]:mass[25,50]) is filled with 10.0 \n",
      "Bin X 6 #6 (signal:ptgen[0,50]:massgen[0,50]) Y 8 #8 (detectordistribution:pt[50,100]:mass[50,75]) is filled with 53.0 \n",
      "Bin X 7 #7 (signal:ptgen[0,50]:massgen[50,100]) Y 2 #2 (detectordistribution:pt[0,50]:mass[25,50]) is filled with 123.0 \n",
      "Bin X 7 #7 (signal:ptgen[0,50]:massgen[50,100]) Y 3 #3 (detectordistribution:pt[0,50]:mass[50,75]) is filled with 9.0 \n",
      "Bin X 7 #7 (signal:ptgen[0,50]:massgen[50,100]) Y 7 #7 (detectordistribution:pt[50,100]:mass[25,50]) is filled with 7.0 \n",
      "Bin X 7 #7 (signal:ptgen[0,50]:massgen[50,100]) Y 8 #8 (detectordistribution:pt[50,100]:mass[50,75]) is filled with 127.0 \n",
      "Bin X 10 #10 (signal:ptgen[50,100]:massgen[0,50]) Y 2 #2 (detectordistribution:pt[0,50]:mass[25,50]) is filled with 124.0 \n",
      "Bin X 10 #10 (signal:ptgen[50,100]:massgen[0,50]) Y 3 #3 (detectordistribution:pt[0,50]:mass[50,75]) is filled with 9.0 \n",
      "Bin X 10 #10 (signal:ptgen[50,100]:massgen[0,50]) Y 7 #7 (detectordistribution:pt[50,100]:mass[25,50]) is filled with 13.0 \n",
      "Bin X 10 #10 (signal:ptgen[50,100]:massgen[0,50]) Y 8 #8 (detectordistribution:pt[50,100]:mass[50,75]) is filled with 141.0 \n",
      "Bin X 11 #11 (signal:ptgen[50,100]:massgen[50,100]) Y 2 #2 (detectordistribution:pt[0,50]:mass[25,50]) is filled with 58.0 \n",
      "Bin X 11 #11 (signal:ptgen[50,100]:massgen[50,100]) Y 3 #3 (detectordistribution:pt[0,50]:mass[50,75]) is filled with 7.0 \n",
      "Bin X 11 #11 (signal:ptgen[50,100]:massgen[50,100]) Y 7 #7 (detectordistribution:pt[50,100]:mass[25,50]) is filled with 10.0 \n",
      "Bin X 11 #11 (signal:ptgen[50,100]:massgen[50,100]) Y 8 #8 (detectordistribution:pt[50,100]:mass[50,75]) is filled with 2152.0 \n",
      "Bin X 11 #11 (signal:ptgen[50,100]:massgen[50,100]) Y 9 #9 (detectordistribution:pt[50,100]:mass[75,100]) is filled with 2151.0 \n",
      "Bin X 11 #11 (signal:ptgen[50,100]:massgen[50,100]) Y 10 #10 (detectordistribution:pt[50,100]:mass[ofl]) is filled with 8.0 \n",
      "Bin X 11 #11 (signal:ptgen[50,100]:massgen[50,100]) Y 14 #14 (detectordistribution:pt[ofl]:mass[75,100]) is filled with 5.0 \n",
      "Bin X 12 #12 (signal:ptgen[50,100]:massgen[ofl]) Y 9 #9 (detectordistribution:pt[50,100]:mass[75,100]) is filled with 135.0 \n",
      "Bin X 12 #12 (signal:ptgen[50,100]:massgen[ofl]) Y 10 #10 (detectordistribution:pt[50,100]:mass[ofl]) is filled with 6.0 \n",
      "Bin X 12 #12 (signal:ptgen[50,100]:massgen[ofl]) Y 14 #14 (detectordistribution:pt[ofl]:mass[75,100]) is filled with 8.0 \n",
      "Bin X 15 #15 (signal:ptgen[ofl]:massgen[50,100]) Y 9 #9 (detectordistribution:pt[50,100]:mass[75,100]) is filled with 120.0 \n",
      "Bin X 15 #15 (signal:ptgen[ofl]:massgen[50,100]) Y 10 #10 (detectordistribution:pt[50,100]:mass[ofl]) is filled with 3.0 \n",
      "Bin X 15 #15 (signal:ptgen[ofl]:massgen[50,100]) Y 14 #14 (detectordistribution:pt[ofl]:mass[75,100]) is filled with 12.0 \n"
     ]
    }
   ],
   "source": [
    "for bx in xrange(M.GetNbinsX()):\n",
    "    for by in xrange(M.GetNbinsY()):\n",
    "        bc = M.GetBinContent(bx,by)\n",
    "        if bc > 1. :\n",
    "            gxn = signalBinning.GetBinName(bx)\n",
    "            gyn = detectorDistribution.GetBinName(by)\n",
    "            print \"Bin X {} {} Y {} {} is filled with {} \".format(bx, gxn, by, gyn, bc)"
   ]
  },
  {
   "cell_type": "markdown",
   "metadata": {},
   "source": [
    "## Plot the reconstructed and truth"
   ]
  },
  {
   "cell_type": "code",
   "execution_count": null,
   "metadata": {
    "collapsed": true
   },
   "outputs": [],
   "source": []
  },
  {
   "cell_type": "code",
   "execution_count": 11,
   "metadata": {
    "collapsed": true
   },
   "outputs": [],
   "source": [
    "crec1 = ROOT.TCanvas(\"cr1\", \"creco\", 600, 600)\n"
   ]
  },
  {
   "cell_type": "code",
   "execution_count": 12,
   "metadata": {
    "collapsed": true
   },
   "outputs": [],
   "source": [
    "h2 = M.ProjectionY(\"reco2\")"
   ]
  },
  {
   "cell_type": "code",
   "execution_count": 13,
   "metadata": {
    "collapsed": true
   },
   "outputs": [],
   "source": [
    "htruef.SetLineColor(2)\n",
    "h.SetMarkerStyle(20)\n",
    "h2.SetMarkerStyle(22)\n",
    "\n",
    "htruef.SetMarkerStyle(21)\n",
    "\n",
    "h.SetMarkerColor(ROOT.kBlue)\n",
    "h2.SetMarkerColor(ROOT.kMagenta)\n",
    "htruef.SetMarkerColor(ROOT.kRed)\n",
    "h.SetLineColor(ROOT.kBlue)\n",
    "htruef.SetLineColor(ROOT.kRed)\n"
   ]
  },
  {
   "cell_type": "code",
   "execution_count": 14,
   "metadata": {},
   "outputs": [],
   "source": [
    "\n",
    "h.Draw('e')\n",
    "h2.Draw('e same')\n",
    "\n",
    "hup.Draw(\"hist same\")\n",
    "hdn.Draw(\"hist same\")\n",
    "htruef.Draw(\"e same\")\n"
   ]
  },
  {
   "cell_type": "code",
   "execution_count": 15,
   "metadata": {
    "collapsed": true
   },
   "outputs": [],
   "source": [
    "leg1 = ROOT.TLegend(0.7,0.7,0.86, 0.86)\n",
    "leg1.SetBorderSize(0)\n",
    "leg1.SetFillColor(0)\n",
    "leg1.AddEntry( h2, 'Reco from M', 'p')\n",
    "leg1.AddEntry( h, 'Reco', 'p')\n",
    "leg1.AddEntry( hup, '+1#sigma', 'l')\n",
    "leg1.AddEntry( hdn, '-1#sigma', 'l')\n",
    "leg1.AddEntry( htruef, 'True', 'p')\n",
    "leg1.Draw()"
   ]
  },
  {
   "cell_type": "code",
   "execution_count": 16,
   "metadata": {
    "scrolled": false
   },
   "outputs": [],
   "source": [
    "#crec1.Draw()"
   ]
  },
  {
   "cell_type": "markdown",
   "metadata": {},
   "source": [
    "## Unfold\n",
    "\n",
    "1. Create the `TUnfoldDensity` object. \n",
    "1. Add the systematic uncertainty variations via `AddSysError`. \n",
    "1. Perform the regularization by scanning the L curve. \n",
    "1. Get the output. **Note! This does not account for systematic uncertainties automatically. They must be added by hand.**\n",
    "1. Draw unfolded versus true distributions (in the same coarse binning scheme). "
   ]
  },
  {
   "cell_type": "code",
   "execution_count": 17,
   "metadata": {},
   "outputs": [
    {
     "name": "stderr",
     "output_type": "stream",
     "text": [
      "Info in <TUnfold::SetConstraint>: fConstraint=0\n",
      "Warning in <TUnfold::TUnfold>: 8 output bins do not depend on the input data  0 3-4 8-9 13-14 17\n",
      "Info in <TUnfold::TUnfold>: 15 input bins and 10 output bins\n",
      "Info in <TUnfoldDensity::TUnfold>: *NOT* unfolding bin #0 (xaxis:generator[ufl])\n",
      "Info in <TUnfoldDensity::TUnfold>: *NOT* unfolding bin #3 (xaxis:generator[2.5,3.5])\n",
      "Info in <TUnfoldDensity::TUnfold>: *NOT* unfolding bin #4 (xaxis:generator[3.5,4.5])\n",
      "Info in <TUnfoldDensity::TUnfold>: *NOT* unfolding bin #8 (xaxis:generator[7.5,8.5])\n",
      "Info in <TUnfoldDensity::TUnfold>: *NOT* unfolding bin #9 (xaxis:generator[8.5,9.5])\n",
      "Info in <TUnfoldDensity::TUnfold>: *NOT* unfolding bin #13 (xaxis:generator[12.5,13.5])\n",
      "Info in <TUnfoldDensity::TUnfold>: *NOT* unfolding bin #14 (xaxis:generator[13.5,14.5])\n",
      "Info in <TUnfoldDensity::TUnfold>: *NOT* unfolding bin #17 (xaxis:generator[ofl])\n",
      "Info in <TUnfoldDensity::RegularizeOneDistribution>: regularizing xaxis regMode=3 densityMode=3 axisSteering=*[UOB]\n"
     ]
    }
   ],
   "source": [
    "orientation = ROOT.TUnfold.kHistMapOutputHoriz\n",
    "regMode = ROOT.TUnfold.kRegModeCurvature\n",
    "con = ROOT.TUnfold.kEConstraintNone#Area #ROOT.TUnfold.kEConstraintArea\n",
    "mode =  ROOT.TUnfoldDensity.kDensityModeBinWidth\n",
    "axisSteering =  \"*[b]\"\n",
    "\n",
    "u = ROOT.TUnfoldDensity(M,orientation,regMode,con)\n"
   ]
  },
  {
   "cell_type": "code",
   "execution_count": 18,
   "metadata": {},
   "outputs": [
    {
     "data": {
      "text/plain": [
       "6"
      ]
     },
     "execution_count": 18,
     "metadata": {},
     "output_type": "execute_result"
    },
    {
     "name": "stderr",
     "output_type": "stream",
     "text": [
      "Warning in <TUnfoldDensity::SetInput>: 6/15 input bins have zero error, and are ignored.\n"
     ]
    }
   ],
   "source": [
    "u.SetInput( h )\n"
   ]
  },
  {
   "cell_type": "code",
   "execution_count": 19,
   "metadata": {
    "collapsed": true
   },
   "outputs": [],
   "source": [
    "u.AddSysError(M1, \"Up\", orientation, ROOT.TUnfoldDensity.kSysErrModeShift)\n",
    "u.AddSysError(M2, \"Dn\", orientation, ROOT.TUnfoldDensity.kSysErrModeShift)\n",
    "#ROOT.TUnfoldDensity.kSysErrModeRelative)# ROOT.TUnfoldDensity.kSysErrModeShift)\n"
   ]
  },
  {
   "cell_type": "code",
   "execution_count": 20,
   "metadata": {},
   "outputs": [
    {
     "data": {
      "text/plain": [
       "3"
      ]
     },
     "execution_count": 20,
     "metadata": {},
     "output_type": "execute_result"
    },
    {
     "name": "stderr",
     "output_type": "stream",
     "text": [
      "Error in <TUnfoldDensity::GetInputInverseEmatrix>: number of parameters 10 > 9 (rank of input covariance). Problem can not be solved\n",
      "Info in <TUnfoldDensity::InvertMSparseSymmPos>: cholesky-decomposition failed, try eigenvalue analysis\n",
      "Warning in <TUnfoldDensity::DoUnfold>: rank of matrix E 8 expect 10\n",
      "Info in <TUnfoldDensity::InvertMSparseSymmPos>: cholesky-decomposition failed, try eigenvalue analysis\n",
      "Warning in <TUnfoldDensity::DoUnfold>: rank of output covariance is 8 expect 10\n",
      "Error in <TUnfoldDensity::ScanLcurve>: too few input bins, NDF<=0 -1\n",
      "Info in <TUnfoldDensity::ScanLcurve>: logtau=-Infinity X=-24.889519 Y=7.543089\n",
      "Info in <TUnfoldDensity::InvertMSparseSymmPos>: cholesky-decomposition failed, try eigenvalue analysis\n",
      "Warning in <TUnfoldDensity::DoUnfold>: rank of matrix E 8 expect 10\n",
      "Info in <TUnfoldDensity::InvertMSparseSymmPos>: cholesky-decomposition failed, try eigenvalue analysis\n",
      "Warning in <TUnfoldDensity::DoUnfold>: rank of output covariance is 8 expect 10\n",
      "Info in <TUnfoldDensity::ScanLcurve>: logtau=-16.216304 X=-24.889519 Y=7.543089\n",
      "Info in <TUnfoldDensity::InvertMSparseSymmPos>: cholesky-decomposition failed, try eigenvalue analysis\n",
      "Warning in <TUnfoldDensity::DoUnfold>: rank of matrix E 8 expect 10\n",
      "Info in <TUnfoldDensity::InvertMSparseSymmPos>: cholesky-decomposition failed, try eigenvalue analysis\n",
      "Warning in <TUnfoldDensity::DoUnfold>: rank of output covariance is 8 expect 10\n",
      "Info in <TUnfoldDensity::ScanLcurve>: logtau=-16.716304 X=-24.889519 Y=7.543089\n",
      "Info in <TUnfoldDensity::InvertMSparseSymmPos>: cholesky-decomposition failed, try eigenvalue analysis\n",
      "Warning in <TUnfoldDensity::DoUnfold>: rank of matrix E 8 expect 10\n",
      "Info in <TUnfoldDensity::InvertMSparseSymmPos>: cholesky-decomposition failed, try eigenvalue analysis\n",
      "Warning in <TUnfoldDensity::DoUnfold>: rank of output covariance is 8 expect 10\n",
      "Info in <TUnfoldDensity::ScanLcurve>: logtau=-16.466304 X=-24.889519 Y=7.543089\n",
      "Info in <TUnfoldDensity::InvertMSparseSymmPos>: cholesky-decomposition failed, try eigenvalue analysis\n",
      "Warning in <TUnfoldDensity::DoUnfold>: rank of matrix E 8 expect 10\n",
      "Info in <TUnfoldDensity::InvertMSparseSymmPos>: cholesky-decomposition failed, try eigenvalue analysis\n",
      "Warning in <TUnfoldDensity::DoUnfold>: rank of output covariance is 8 expect 10\n",
      "Info in <TUnfoldDensity::ScanLcurve>: logtau=-16.341304 X=-24.889519 Y=7.543089\n",
      "Info in <TUnfoldDensity::InvertMSparseSymmPos>: cholesky-decomposition failed, try eigenvalue analysis\n",
      "Warning in <TUnfoldDensity::DoUnfold>: rank of matrix E 8 expect 10\n",
      "Info in <TUnfoldDensity::InvertMSparseSymmPos>: cholesky-decomposition failed, try eigenvalue analysis\n",
      "Warning in <TUnfoldDensity::DoUnfold>: rank of output covariance is 8 expect 10\n",
      "Info in <TUnfoldDensity::ScanLcurve>: logtau=-16.278804 X=-24.889519 Y=7.543089\n",
      "Info in <TUnfoldDensity::InvertMSparseSymmPos>: cholesky-decomposition failed, try eigenvalue analysis\n",
      "Warning in <TUnfoldDensity::DoUnfold>: rank of matrix E 8 expect 10\n",
      "Info in <TUnfoldDensity::InvertMSparseSymmPos>: cholesky-decomposition failed, try eigenvalue analysis\n",
      "Warning in <TUnfoldDensity::DoUnfold>: rank of output covariance is 8 expect 10\n",
      "Info in <TUnfoldDensity::ScanLcurve>: logtau=-16.247554 X=-24.889519 Y=7.543089\n",
      "Info in <TUnfoldDensity::InvertMSparseSymmPos>: cholesky-decomposition failed, try eigenvalue analysis\n",
      "Warning in <TUnfoldDensity::DoUnfold>: rank of matrix E 8 expect 10\n",
      "Info in <TUnfoldDensity::InvertMSparseSymmPos>: cholesky-decomposition failed, try eigenvalue analysis\n",
      "Warning in <TUnfoldDensity::DoUnfold>: rank of output covariance is 8 expect 10\n",
      "Info in <TUnfoldDensity::ScanLcurve>: logtau=-16.231929 X=-24.889519 Y=7.543089\n",
      "Info in <TUnfoldDensity::InvertMSparseSymmPos>: cholesky-decomposition failed, try eigenvalue analysis\n",
      "Warning in <TUnfoldDensity::DoUnfold>: rank of matrix E 8 expect 10\n",
      "Info in <TUnfoldDensity::InvertMSparseSymmPos>: cholesky-decomposition failed, try eigenvalue analysis\n",
      "Warning in <TUnfoldDensity::DoUnfold>: rank of output covariance is 8 expect 10\n",
      "Info in <TUnfoldDensity::ScanLcurve>: logtau=-16.224116 X=-24.889519 Y=7.543089\n",
      "Info in <TUnfoldDensity::InvertMSparseSymmPos>: cholesky-decomposition failed, try eigenvalue analysis\n",
      "Warning in <TUnfoldDensity::DoUnfold>: rank of matrix E 8 expect 10\n",
      "Info in <TUnfoldDensity::InvertMSparseSymmPos>: cholesky-decomposition failed, try eigenvalue analysis\n",
      "Warning in <TUnfoldDensity::DoUnfold>: rank of output covariance is 8 expect 10\n",
      "Info in <TUnfoldDensity::ScanLcurve>: logtau=-16.220210 X=-24.889519 Y=7.543089\n",
      "Info in <TUnfoldDensity::InvertMSparseSymmPos>: cholesky-decomposition failed, try eigenvalue analysis\n",
      "Warning in <TUnfoldDensity::DoUnfold>: rank of matrix E 8 expect 10\n",
      "Info in <TUnfoldDensity::InvertMSparseSymmPos>: cholesky-decomposition failed, try eigenvalue analysis\n",
      "Warning in <TUnfoldDensity::DoUnfold>: rank of output covariance is 8 expect 10\n",
      "Info in <TUnfoldDensity::ScanLcurve>: logtau=-16.218257 X=-24.889519 Y=7.543089\n",
      "Info in <TUnfoldDensity::InvertMSparseSymmPos>: cholesky-decomposition failed, try eigenvalue analysis\n",
      "Warning in <TUnfoldDensity::DoUnfold>: rank of matrix E 8 expect 10\n",
      "Info in <TUnfoldDensity::InvertMSparseSymmPos>: cholesky-decomposition failed, try eigenvalue analysis\n",
      "Warning in <TUnfoldDensity::DoUnfold>: rank of output covariance is 8 expect 10\n",
      "Info in <TUnfoldDensity::ScanLcurve>: logtau=-16.217280 X=-24.889519 Y=7.543089\n",
      "Info in <TUnfoldDensity::InvertMSparseSymmPos>: cholesky-decomposition failed, try eigenvalue analysis\n",
      "Warning in <TUnfoldDensity::DoUnfold>: rank of matrix E 8 expect 10\n",
      "Info in <TUnfoldDensity::InvertMSparseSymmPos>: cholesky-decomposition failed, try eigenvalue analysis\n",
      "Warning in <TUnfoldDensity::DoUnfold>: rank of output covariance is 8 expect 10\n",
      "Info in <TUnfoldDensity::ScanLcurve>: logtau=-16.216792 X=-24.889519 Y=7.543089\n",
      "Info in <TUnfoldDensity::InvertMSparseSymmPos>: cholesky-decomposition failed, try eigenvalue analysis\n",
      "Warning in <TUnfoldDensity::DoUnfold>: rank of matrix E 8 expect 10\n",
      "Info in <TUnfoldDensity::InvertMSparseSymmPos>: cholesky-decomposition failed, try eigenvalue analysis\n",
      "Warning in <TUnfoldDensity::DoUnfold>: rank of output covariance is 8 expect 10\n",
      "Info in <TUnfoldDensity::ScanLcurve>: logtau=-16.216548 X=-24.889519 Y=7.543089\n",
      "Info in <TUnfoldDensity::InvertMSparseSymmPos>: cholesky-decomposition failed, try eigenvalue analysis\n",
      "Warning in <TUnfoldDensity::DoUnfold>: rank of matrix E 8 expect 10\n",
      "Info in <TUnfoldDensity::InvertMSparseSymmPos>: cholesky-decomposition failed, try eigenvalue analysis\n",
      "Warning in <TUnfoldDensity::DoUnfold>: rank of output covariance is 8 expect 10\n",
      "Info in <TUnfoldDensity::ScanLcurve>: logtau=-16.216426 X=-24.889519 Y=7.543089\n",
      "Info in <TUnfoldDensity::InvertMSparseSymmPos>: cholesky-decomposition failed, try eigenvalue analysis\n",
      "Warning in <TUnfoldDensity::DoUnfold>: rank of matrix E 8 expect 10\n",
      "Info in <TUnfoldDensity::InvertMSparseSymmPos>: cholesky-decomposition failed, try eigenvalue analysis\n",
      "Warning in <TUnfoldDensity::DoUnfold>: rank of output covariance is 8 expect 10\n",
      "Info in <TUnfoldDensity::ScanLcurve>: logtau=-16.216365 X=-24.889519 Y=7.543089\n",
      "Info in <TUnfoldDensity::InvertMSparseSymmPos>: cholesky-decomposition failed, try eigenvalue analysis\n",
      "Warning in <TUnfoldDensity::DoUnfold>: rank of matrix E 8 expect 10\n",
      "Info in <TUnfoldDensity::InvertMSparseSymmPos>: cholesky-decomposition failed, try eigenvalue analysis\n",
      "Warning in <TUnfoldDensity::DoUnfold>: rank of output covariance is 8 expect 10\n",
      "Info in <TUnfoldDensity::ScanLcurve>: logtau=-16.216334 X=-24.889519 Y=7.543089\n",
      "Info in <TUnfoldDensity::InvertMSparseSymmPos>: cholesky-decomposition failed, try eigenvalue analysis\n",
      "Warning in <TUnfoldDensity::DoUnfold>: rank of matrix E 8 expect 10\n",
      "Info in <TUnfoldDensity::InvertMSparseSymmPos>: cholesky-decomposition failed, try eigenvalue analysis\n",
      "Warning in <TUnfoldDensity::DoUnfold>: rank of output covariance is 8 expect 10\n",
      "Info in <TUnfoldDensity::ScanLcurve>: logtau=-16.216319 X=-24.889519 Y=7.543089\n",
      "Info in <TUnfoldDensity::InvertMSparseSymmPos>: cholesky-decomposition failed, try eigenvalue analysis\n",
      "Warning in <TUnfoldDensity::DoUnfold>: rank of matrix E 8 expect 10\n",
      "Info in <TUnfoldDensity::InvertMSparseSymmPos>: cholesky-decomposition failed, try eigenvalue analysis\n",
      "Warning in <TUnfoldDensity::DoUnfold>: rank of output covariance is 8 expect 10\n",
      "Info in <TUnfoldDensity::ScanLcurve>: logtau=-16.216311 X=-24.889519 Y=7.543089\n",
      "Info in <TUnfoldDensity::InvertMSparseSymmPos>: cholesky-decomposition failed, try eigenvalue analysis\n",
      "Warning in <TUnfoldDensity::DoUnfold>: rank of matrix E 8 expect 10\n",
      "Info in <TUnfoldDensity::InvertMSparseSymmPos>: cholesky-decomposition failed, try eigenvalue analysis\n",
      "Warning in <TUnfoldDensity::DoUnfold>: rank of output covariance is 8 expect 10\n",
      "Info in <TUnfoldDensity::ScanLcurve>: logtau=-16.216308 X=-24.889519 Y=7.543089\n",
      "Info in <TUnfoldDensity::InvertMSparseSymmPos>: cholesky-decomposition failed, try eigenvalue analysis\n",
      "Warning in <TUnfoldDensity::DoUnfold>: rank of matrix E 8 expect 10\n",
      "Info in <TUnfoldDensity::InvertMSparseSymmPos>: cholesky-decomposition failed, try eigenvalue analysis\n",
      "Warning in <TUnfoldDensity::DoUnfold>: rank of output covariance is 8 expect 10\n",
      "Info in <TUnfoldDensity::ScanLcurve>: logtau=-16.216306 X=-24.889519 Y=7.543089\n",
      "Info in <TUnfoldDensity::InvertMSparseSymmPos>: cholesky-decomposition failed, try eigenvalue analysis\n",
      "Warning in <TUnfoldDensity::DoUnfold>: rank of matrix E 8 expect 10\n",
      "Info in <TUnfoldDensity::InvertMSparseSymmPos>: cholesky-decomposition failed, try eigenvalue analysis\n",
      "Warning in <TUnfoldDensity::DoUnfold>: rank of output covariance is 8 expect 10\n",
      "Info in <TUnfoldDensity::ScanLcurve>: logtau=-16.216305 X=-24.889519 Y=7.543089\n",
      "Info in <TUnfoldDensity::InvertMSparseSymmPos>: cholesky-decomposition failed, try eigenvalue analysis\n",
      "Warning in <TUnfoldDensity::DoUnfold>: rank of matrix E 8 expect 10\n",
      "Info in <TUnfoldDensity::InvertMSparseSymmPos>: cholesky-decomposition failed, try eigenvalue analysis\n",
      "Warning in <TUnfoldDensity::DoUnfold>: rank of output covariance is 8 expect 10\n",
      "Info in <TUnfoldDensity::ScanLcurve>: logtau=-16.216304 X=-24.889519 Y=7.543089\n",
      "Info in <TUnfoldDensity::InvertMSparseSymmPos>: cholesky-decomposition failed, try eigenvalue analysis\n",
      "Warning in <TUnfoldDensity::DoUnfold>: rank of matrix E 8 expect 10\n",
      "Info in <TUnfoldDensity::InvertMSparseSymmPos>: cholesky-decomposition failed, try eigenvalue analysis\n",
      "Warning in <TUnfoldDensity::DoUnfold>: rank of output covariance is 8 expect 10\n",
      "Info in <TUnfoldDensity::ScanLcurve>: logtau=-16.216304 X=-24.889519 Y=7.543089\n",
      "Info in <TUnfoldDensity::InvertMSparseSymmPos>: cholesky-decomposition failed, try eigenvalue analysis\n",
      "Warning in <TUnfoldDensity::DoUnfold>: rank of matrix E 8 expect 10\n",
      "Info in <TUnfoldDensity::InvertMSparseSymmPos>: cholesky-decomposition failed, try eigenvalue analysis\n",
      "Warning in <TUnfoldDensity::DoUnfold>: rank of output covariance is 8 expect 10\n",
      "Info in <TUnfoldDensity::ScanLcurve>: logtau=-16.216304 X=-24.889519 Y=7.543089\n",
      "Info in <TUnfoldDensity::InvertMSparseSymmPos>: cholesky-decomposition failed, try eigenvalue analysis\n",
      "Warning in <TUnfoldDensity::DoUnfold>: rank of matrix E 8 expect 10\n",
      "Info in <TUnfoldDensity::InvertMSparseSymmPos>: cholesky-decomposition failed, try eigenvalue analysis\n",
      "Warning in <TUnfoldDensity::DoUnfold>: rank of output covariance is 8 expect 10\n",
      "Info in <TUnfoldDensity::ScanLcurve>: logtau=-16.216304 X=-24.889519 Y=7.543089\n",
      "Info in <TUnfoldDensity::InvertMSparseSymmPos>: cholesky-decomposition failed, try eigenvalue analysis\n",
      "Warning in <TUnfoldDensity::DoUnfold>: rank of matrix E 8 expect 10\n",
      "Info in <TUnfoldDensity::InvertMSparseSymmPos>: cholesky-decomposition failed, try eigenvalue analysis\n",
      "Warning in <TUnfoldDensity::DoUnfold>: rank of output covariance is 8 expect 10\n",
      "Info in <TUnfoldDensity::ScanLcurve>: logtau=-16.216304 X=-24.889519 Y=7.543089\n",
      "Info in <TUnfoldDensity::InvertMSparseSymmPos>: cholesky-decomposition failed, try eigenvalue analysis\n",
      "Warning in <TUnfoldDensity::DoUnfold>: rank of matrix E 8 expect 10\n",
      "Info in <TUnfoldDensity::InvertMSparseSymmPos>: cholesky-decomposition failed, try eigenvalue analysis\n",
      "Warning in <TUnfoldDensity::DoUnfold>: rank of output covariance is 8 expect 10\n",
      "Info in <TUnfoldDensity::ScanLcurve>: logtau=-16.216304 X=-24.889519 Y=7.543089\n",
      "Info in <TUnfoldDensity::InvertMSparseSymmPos>: cholesky-decomposition failed, try eigenvalue analysis\n",
      "Warning in <TUnfoldDensity::DoUnfold>: rank of matrix E 8 expect 10\n",
      "Info in <TUnfoldDensity::InvertMSparseSymmPos>: cholesky-decomposition failed, try eigenvalue analysis\n",
      "Warning in <TUnfoldDensity::DoUnfold>: rank of output covariance is 8 expect 10\n",
      "Info in <TUnfoldDensity::ScanLcurve>: logtau=-16.216304 X=-24.889519 Y=7.543089\n",
      "Info in <TUnfoldDensity::InvertMSparseSymmPos>: cholesky-decomposition failed, try eigenvalue analysis\n",
      "Warning in <TUnfoldDensity::DoUnfold>: rank of matrix E 8 expect 10\n",
      "Info in <TUnfoldDensity::InvertMSparseSymmPos>: cholesky-decomposition failed, try eigenvalue analysis\n",
      "Warning in <TUnfoldDensity::DoUnfold>: rank of output covariance is 8 expect 10\n",
      "Info in <TUnfoldDensity::ScanLcurve>: logtau=-16.216304 X=-24.889519 Y=7.543089\n",
      "Info in <TUnfoldDensity::InvertMSparseSymmPos>: cholesky-decomposition failed, try eigenvalue analysis\n",
      "Warning in <TUnfoldDensity::DoUnfold>: rank of matrix E 8 expect 10\n",
      "Info in <TUnfoldDensity::InvertMSparseSymmPos>: cholesky-decomposition failed, try eigenvalue analysis\n",
      "Warning in <TUnfoldDensity::DoUnfold>: rank of output covariance is 8 expect 10\n",
      "Info in <TUnfoldDensity::ScanLcurve>: logtau=-16.216304 X=-24.889519 Y=7.543089\n",
      "Info in <TUnfoldDensity::InvertMSparseSymmPos>: cholesky-decomposition failed, try eigenvalue analysis\n",
      "Warning in <TUnfoldDensity::DoUnfold>: rank of matrix E 8 expect 10\n",
      "Info in <TUnfoldDensity::InvertMSparseSymmPos>: cholesky-decomposition failed, try eigenvalue analysis\n",
      "Warning in <TUnfoldDensity::DoUnfold>: rank of output covariance is 8 expect 10\n",
      "Info in <TUnfoldDensity::ScanLcurve>: logtau=-16.216304 X=-24.889519 Y=7.543089\n",
      "Info in <TUnfoldDensity::InvertMSparseSymmPos>: cholesky-decomposition failed, try eigenvalue analysis\n",
      "Warning in <TUnfoldDensity::DoUnfold>: rank of matrix E 8 expect 10\n",
      "Info in <TUnfoldDensity::InvertMSparseSymmPos>: cholesky-decomposition failed, try eigenvalue analysis\n",
      "Warning in <TUnfoldDensity::DoUnfold>: rank of output covariance is 8 expect 10\n",
      "Info in <TUnfoldDensity::ScanLcurve>: logtau=-16.216304 X=-24.889519 Y=7.543089\n",
      "Info in <TUnfoldDensity::InvertMSparseSymmPos>: cholesky-decomposition failed, try eigenvalue analysis\n",
      "Warning in <TUnfoldDensity::DoUnfold>: rank of matrix E 8 expect 10\n",
      "Info in <TUnfoldDensity::InvertMSparseSymmPos>: cholesky-decomposition failed, try eigenvalue analysis\n",
      "Warning in <TUnfoldDensity::DoUnfold>: rank of output covariance is 8 expect 10\n",
      "Info in <TUnfoldDensity::ScanLcurve>: logtau=-16.216304 X=-24.889519 Y=7.543089\n",
      "Info in <TUnfoldDensity::InvertMSparseSymmPos>: cholesky-decomposition failed, try eigenvalue analysis\n",
      "Warning in <TUnfoldDensity::DoUnfold>: rank of matrix E 8 expect 10\n",
      "Info in <TUnfoldDensity::InvertMSparseSymmPos>: cholesky-decomposition failed, try eigenvalue analysis\n",
      "Warning in <TUnfoldDensity::DoUnfold>: rank of output covariance is 8 expect 10\n",
      "Info in <TUnfoldDensity::ScanLcurve>: logtau=-16.216304 X=-24.889519 Y=7.543089\n",
      "Info in <TUnfoldDensity::InvertMSparseSymmPos>: cholesky-decomposition failed, try eigenvalue analysis\n",
      "Warning in <TUnfoldDensity::DoUnfold>: rank of matrix E 8 expect 10\n",
      "Info in <TUnfoldDensity::InvertMSparseSymmPos>: cholesky-decomposition failed, try eigenvalue analysis\n",
      "Warning in <TUnfoldDensity::DoUnfold>: rank of output covariance is 8 expect 10\n",
      "Info in <TUnfoldDensity::ScanLcurve>: logtau=-16.216304 X=-24.889519 Y=7.543089\n",
      "Info in <TUnfoldDensity::InvertMSparseSymmPos>: cholesky-decomposition failed, try eigenvalue analysis\n",
      "Warning in <TUnfoldDensity::DoUnfold>: rank of matrix E 8 expect 10\n",
      "Info in <TUnfoldDensity::InvertMSparseSymmPos>: cholesky-decomposition failed, try eigenvalue analysis\n",
      "Warning in <TUnfoldDensity::DoUnfold>: rank of output covariance is 8 expect 10\n",
      "Info in <TUnfoldDensity::ScanLcurve>: logtau=-16.216304 X=-24.889519 Y=7.543089\n",
      "Info in <TUnfoldDensity::InvertMSparseSymmPos>: cholesky-decomposition failed, try eigenvalue analysis\n",
      "Warning in <TUnfoldDensity::DoUnfold>: rank of matrix E 8 expect 10\n",
      "Info in <TUnfoldDensity::InvertMSparseSymmPos>: cholesky-decomposition failed, try eigenvalue analysis\n",
      "Warning in <TUnfoldDensity::DoUnfold>: rank of output covariance is 8 expect 10\n",
      "Info in <TUnfoldDensity::ScanLcurve>: logtau=-16.216304 X=-24.889519 Y=7.543089\n",
      "Info in <TUnfoldDensity::InvertMSparseSymmPos>: cholesky-decomposition failed, try eigenvalue analysis\n",
      "Warning in <TUnfoldDensity::DoUnfold>: rank of matrix E 8 expect 10\n",
      "Info in <TUnfoldDensity::InvertMSparseSymmPos>: cholesky-decomposition failed, try eigenvalue analysis\n",
      "Warning in <TUnfoldDensity::DoUnfold>: rank of output covariance is 8 expect 10\n",
      "Info in <TUnfoldDensity::ScanLcurve>: logtau=-16.216304 X=-24.889519 Y=7.543089\n",
      "Info in <TUnfoldDensity::InvertMSparseSymmPos>: cholesky-decomposition failed, try eigenvalue analysis\n",
      "Warning in <TUnfoldDensity::DoUnfold>: rank of matrix E 8 expect 10\n",
      "Info in <TUnfoldDensity::InvertMSparseSymmPos>: cholesky-decomposition failed, try eigenvalue analysis\n",
      "Warning in <TUnfoldDensity::DoUnfold>: rank of output covariance is 8 expect 10\n",
      "Info in <TUnfoldDensity::ScanLcurve>: logtau=-16.216304 X=-24.889519 Y=7.543089\n",
      "Info in <TUnfoldDensity::InvertMSparseSymmPos>: cholesky-decomposition failed, try eigenvalue analysis\n",
      "Warning in <TUnfoldDensity::DoUnfold>: rank of matrix E 8 expect 10\n",
      "Info in <TUnfoldDensity::InvertMSparseSymmPos>: cholesky-decomposition failed, try eigenvalue analysis\n",
      "Warning in <TUnfoldDensity::DoUnfold>: rank of output covariance is 8 expect 10\n",
      "Info in <TUnfoldDensity::ScanLcurve>: logtau=-16.216304 X=-24.889519 Y=7.543089\n",
      "Info in <TUnfoldDensity::InvertMSparseSymmPos>: cholesky-decomposition failed, try eigenvalue analysis\n",
      "Warning in <TUnfoldDensity::DoUnfold>: rank of matrix E 8 expect 10\n",
      "Info in <TUnfoldDensity::InvertMSparseSymmPos>: cholesky-decomposition failed, try eigenvalue analysis\n",
      "Warning in <TUnfoldDensity::DoUnfold>: rank of output covariance is 8 expect 10\n",
      "Info in <TUnfoldDensity::ScanLcurve>: logtau=-16.216304 X=-24.889519 Y=7.543089\n",
      "Info in <TUnfoldDensity::InvertMSparseSymmPos>: cholesky-decomposition failed, try eigenvalue analysis\n",
      "Warning in <TUnfoldDensity::DoUnfold>: rank of matrix E 8 expect 10\n",
      "Info in <TUnfoldDensity::InvertMSparseSymmPos>: cholesky-decomposition failed, try eigenvalue analysis\n",
      "Warning in <TUnfoldDensity::DoUnfold>: rank of output covariance is 8 expect 10\n",
      "Info in <TUnfoldDensity::ScanLcurve>: logtau=-16.216304 X=-24.889519 Y=7.543089\n",
      "Info in <TUnfoldDensity::InvertMSparseSymmPos>: cholesky-decomposition failed, try eigenvalue analysis\n",
      "Warning in <TUnfoldDensity::DoUnfold>: rank of matrix E 8 expect 10\n",
      "Info in <TUnfoldDensity::InvertMSparseSymmPos>: cholesky-decomposition failed, try eigenvalue analysis\n",
      "Warning in <TUnfoldDensity::DoUnfold>: rank of output covariance is 8 expect 10\n",
      "Info in <TUnfoldDensity::ScanLcurve>: logtau=-16.216304 X=-24.889519 Y=7.543089\n",
      "Info in <TUnfoldDensity::InvertMSparseSymmPos>: cholesky-decomposition failed, try eigenvalue analysis\n",
      "Warning in <TUnfoldDensity::DoUnfold>: rank of matrix E 8 expect 10\n",
      "Info in <TUnfoldDensity::InvertMSparseSymmPos>: cholesky-decomposition failed, try eigenvalue analysis\n",
      "Warning in <TUnfoldDensity::DoUnfold>: rank of output covariance is 8 expect 10\n",
      "Info in <TUnfoldDensity::ScanLcurve>: logtau=-16.216304 X=-24.889519 Y=7.543089\n",
      "Info in <TUnfoldDensity::InvertMSparseSymmPos>: cholesky-decomposition failed, try eigenvalue analysis\n",
      "Warning in <TUnfoldDensity::DoUnfold>: rank of matrix E 8 expect 10\n",
      "Info in <TUnfoldDensity::InvertMSparseSymmPos>: cholesky-decomposition failed, try eigenvalue analysis\n",
      "Warning in <TUnfoldDensity::DoUnfold>: rank of output covariance is 8 expect 10\n",
      "Info in <TUnfoldDensity::ScanLcurve>: logtau=-16.216304 X=-24.889519 Y=7.543089\n",
      "Info in <TUnfoldDensity::InvertMSparseSymmPos>: cholesky-decomposition failed, try eigenvalue analysis\n",
      "Warning in <TUnfoldDensity::DoUnfold>: rank of matrix E 8 expect 10\n",
      "Info in <TUnfoldDensity::InvertMSparseSymmPos>: cholesky-decomposition failed, try eigenvalue analysis\n",
      "Warning in <TUnfoldDensity::DoUnfold>: rank of output covariance is 8 expect 10\n",
      "Info in <TUnfoldDensity::ScanLcurve>: logtau=-16.216304 X=-24.889519 Y=7.543089\n",
      "Info in <TUnfoldDensity::InvertMSparseSymmPos>: cholesky-decomposition failed, try eigenvalue analysis\n",
      "Warning in <TUnfoldDensity::DoUnfold>: rank of matrix E 8 expect 10\n",
      "Info in <TUnfoldDensity::InvertMSparseSymmPos>: cholesky-decomposition failed, try eigenvalue analysis\n",
      "Warning in <TUnfoldDensity::DoUnfold>: rank of output covariance is 8 expect 10\n",
      "Info in <TUnfoldDensity::ScanLcurve>: logtau=-16.216304 X=-24.889519 Y=7.543089\n",
      "Info in <TUnfoldDensity::InvertMSparseSymmPos>: cholesky-decomposition failed, try eigenvalue analysis\n",
      "Warning in <TUnfoldDensity::DoUnfold>: rank of matrix E 8 expect 10\n",
      "Info in <TUnfoldDensity::InvertMSparseSymmPos>: cholesky-decomposition failed, try eigenvalue analysis\n",
      "Warning in <TUnfoldDensity::DoUnfold>: rank of output covariance is 8 expect 10\n",
      "Info in <TUnfoldDensity::ScanLcurve>: logtau=-16.216304 X=-24.889519 Y=7.543089\n",
      "Info in <TUnfoldDensity::InvertMSparseSymmPos>: cholesky-decomposition failed, try eigenvalue analysis\n",
      "Warning in <TUnfoldDensity::DoUnfold>: rank of matrix E 8 expect 10\n",
      "Info in <TUnfoldDensity::InvertMSparseSymmPos>: cholesky-decomposition failed, try eigenvalue analysis\n",
      "Warning in <TUnfoldDensity::DoUnfold>: rank of output covariance is 8 expect 10\n",
      "Info in <TUnfoldDensity::ScanLcurve>: logtau=-16.216304 X=-24.889519 Y=7.543089\n",
      "Info in <TUnfoldDensity::InvertMSparseSymmPos>: cholesky-decomposition failed, try eigenvalue analysis\n",
      "Warning in <TUnfoldDensity::DoUnfold>: rank of matrix E 8 expect 10\n",
      "Info in <TUnfoldDensity::InvertMSparseSymmPos>: cholesky-decomposition failed, try eigenvalue analysis\n",
      "Warning in <TUnfoldDensity::DoUnfold>: rank of output covariance is 8 expect 10\n",
      "Info in <TUnfoldDensity::ScanLcurve>: Result logtau=-16.310054 X=-24.889519 Y=7.543089\n"
     ]
    }
   ],
   "source": [
    "# Regularize\n",
    "nScan=50\n",
    "tauMin=0.0\n",
    "tauMax=0.0\n",
    "iBest=0\n",
    "\n",
    "logTauX = ROOT.MakeNullPointer(ROOT.TSpline)\n",
    "logTauY = ROOT.MakeNullPointer(ROOT.TSpline)\n",
    "lCurve = ROOT.MakeNullPointer(ROOT.TGraph)\n",
    "u.ScanLcurve(nScan,tauMin,tauMax,lCurve,logTauX,logTauY)\n"
   ]
  },
  {
   "cell_type": "code",
   "execution_count": 21,
   "metadata": {
    "collapsed": true
   },
   "outputs": [],
   "source": [
    "# Get output... DOES NOT CONTAIN SYSTEMATICS. \n",
    "o = u.GetOutput(\"o\")\n"
   ]
  },
  {
   "cell_type": "code",
   "execution_count": 22,
   "metadata": {
    "collapsed": true
   },
   "outputs": [],
   "source": [
    "# Get systematic shifts of output\n",
    "o_up = u.GetDeltaSysSource(\"Up\", \"o_upshift\", \"M+1#sigma\")\n",
    "o_dn = u.GetDeltaSysSource(\"Dn\", \"o_dnshift\", \"M-1#sigma\")\n",
    "o_up.SetLineStyle(2)\n",
    "o_dn.SetLineStyle(2)\n"
   ]
  },
  {
   "cell_type": "code",
   "execution_count": 23,
   "metadata": {
    "collapsed": true
   },
   "outputs": [],
   "source": [
    "# Get various covariances\n",
    "cov = u.GetEmatrixTotal(\"cov\", \"Covariance Matrix\")\n",
    "cov_uncorr = u.GetEmatrixSysUncorr(\"cov_uncorr\", \"Covariance Matrix from Uncorrelated Uncertainties\")\n",
    "cov_uncorr_data = u.GetEmatrixInput(\"cov_uncorr_data\", \"Covariance Matrix from Stat Uncertainties of Input Data\")\n"
   ]
  },
  {
   "cell_type": "code",
   "execution_count": 24,
   "metadata": {
    "collapsed": true
   },
   "outputs": [],
   "source": [
    "\n",
    "# Now prepare various distributions. \n",
    "o_unfunc = o.Clone(\"o_unc\")        # Unfolding and stat unc\n",
    "o_sys = o.Clone(\"o_sys\")        # Syst uncertainty\n",
    "o_unctot = o.Clone(\"o_unctot\")  # Total uncertainty\n",
    "o_sys.SetLineStyle(2)\n"
   ]
  },
  {
   "cell_type": "code",
   "execution_count": 25,
   "metadata": {
    "collapsed": true
   },
   "outputs": [],
   "source": [
    "\n",
    "# Create total uncertainty and sys uncertainty plots. \n",
    "# Also fix the uncertainties on the output\n",
    "for i in xrange( 0, o_up.GetNbinsX() + 1):\n",
    "    unc_tot = ROOT.TMath.Sqrt( cov.GetBinContent(i,i) )\n",
    "    o_unctot.SetBinContent(i, unc_tot )    \n",
    "    o.SetBinError(i, unc_tot )\n",
    "    \n",
    "    yup = abs( o_up.GetBinContent(i))\n",
    "    ydn = abs( o_dn.GetBinContent(i))\n",
    "    dy = ROOT.TMath.Sqrt( (yup**2 + ydn**2) )\n",
    "    o_sys.SetBinContent(i, dy )\n",
    "\n",
    "\n",
    "\n",
    "\n"
   ]
  },
  {
   "cell_type": "code",
   "execution_count": 26,
   "metadata": {
    "collapsed": true
   },
   "outputs": [],
   "source": [
    "#htrue2 = htrue.Clone(\"h2\")\n",
    "#htrue2.Rebin(finebins/coarsebins)\n",
    "o.SetMarkerStyle(20)\n",
    "o.SetMarkerColor(1)\n",
    "o_unfunc.SetMarkerStyle(0)\n",
    "o_unfunc.SetLineColor(2)\n",
    "htrue.SetMarkerStyle(21)\n",
    "htrue.SetMarkerColor(4)\n",
    "htrue.SetMarkerStyle(4)\n",
    "htrue.SetLineColor(4)\n",
    "\n"
   ]
  },
  {
   "cell_type": "code",
   "execution_count": 27,
   "metadata": {},
   "outputs": [
    {
     "data": {
      "image/png": "[encoded data removed]",
      "text/plain": [
       "<IPython.core.display.Image object>"
      ]
     },
     "metadata": {},
     "output_type": "display_data"
    }
   ],
   "source": [
    "c = ROOT.TCanvas(\"c\",\"c\")\n",
    "o.SetMinimum(0.0)\n",
    "o.Draw()\n",
    "o_unfunc.Draw(\"e same\")\n",
    "htrue.Draw(\"e same\")\n",
    "leg2 = ROOT.TLegend(0.7, 0.7, 0.86, 0.86)\n",
    "leg2.SetBorderSize(0)\n",
    "leg2.SetFillColor(0)\n",
    "leg2.AddEntry( o, \"Unfolded, total unc\",'p')\n",
    "leg2.AddEntry( o_unfunc, \"stat+unfolding unc\",'l')\n",
    "leg2.AddEntry( htrue, \"True\",'p')\n",
    "leg2.Draw()\n",
    "c.Draw()"
   ]
  },
  {
   "cell_type": "code",
   "execution_count": null,
   "metadata": {
    "collapsed": true
   },
   "outputs": [],
   "source": []
  },
  {
   "cell_type": "code",
   "execution_count": null,
   "metadata": {
    "collapsed": true
   },
   "outputs": [],
   "source": []
  },
  {
   "cell_type": "code",
   "execution_count": null,
   "metadata": {
    "collapsed": true
   },
   "outputs": [],
   "source": []
  },
  {
   "cell_type": "markdown",
   "metadata": {},
   "source": [
    "## Draw the LCurve. "
   ]
  },
  {
   "cell_type": "code",
   "execution_count": 28,
   "metadata": {},
   "outputs": [
    {
     "name": "stdout",
     "output_type": "stream",
     "text": [
      "<ROOT.TGraph object (\"Graph\") at 0x7fac4a52abc0>\n"
     ]
    },
    {
     "data": {
      "image/png": "[encoded data removed]",
      "text/plain": [
       "<IPython.core.display.Image object>"
      ]
     },
     "metadata": {},
     "output_type": "display_data"
    }
   ],
   "source": [
    "print lCurve\n",
    "if lCurve:\n",
    "    cl = ROOT.TCanvas(\"cl\", \"cl\", 500, 500)\n",
    "    lCurve.Draw(\"alp\")\n",
    "    cl.Draw()"
   ]
  },
  {
   "cell_type": "markdown",
   "metadata": {},
   "source": [
    "## Plot closure\n",
    "\n",
    "The closure plot is the true distribution divided by the unfolded distribution. Aside from the outermost bins, the closure is consistent with unity. "
   ]
  },
  {
   "cell_type": "code",
   "execution_count": 35,
   "metadata": {},
   "outputs": [
    {
     "name": "stderr",
     "output_type": "stream",
     "text": [
      "Warning in <TCanvas::Constructor>: Deleting canvas with same name: c2\n"
     ]
    },
    {
     "data": {
      "image/png": "[encoded data removed]",
      "text/plain": [
       "<IPython.core.display.Image object>"
      ]
     },
     "metadata": {},
     "output_type": "display_data"
    }
   ],
   "source": [
    "c2 = ROOT.TCanvas(\"c2\", \"c2\", 500, 500)\n",
    "closure = htrue.Clone(\"closure\")\n",
    "closure2 = htrue.Clone(\"closure2\")\n",
    "closure.SetMarkerColor(1)\n",
    "closure.SetLineColor(1)\n",
    "closure2.SetMarkerColor(2)\n",
    "closure2.SetLineColor(2)\n",
    "closure.SetTitle(\"true / unfolded\")\n",
    "closure.Divide(o)\n",
    "closure2.Divide(o_unfunc)\n",
    "closure.Draw('e1')\n",
    "closure2.Draw('e1 same')\n",
    "closure.SetMaximum(4.1)\n",
    "closure.SetMinimum(-1.1)\n",
    "\n",
    "legclosure = ROOT.TLegend(0.4, 0.7, 0.86, 0.86)\n",
    "legclosure.SetBorderSize(0)\n",
    "legclosure.SetFillColor(0)\n",
    "legclosure.AddEntry( closure, \"True / Unfolded, All Unc.\", 'p')\n",
    "legclosure.AddEntry( closure2, \"True / Unfolded, Stat. Unc.\", 'p')\n",
    "legclosure.Draw()\n",
    "c2.Draw()"
   ]
  },
  {
   "cell_type": "markdown",
   "metadata": {},
   "source": [
    "## Plot the total covariance matrix"
   ]
  },
  {
   "cell_type": "code",
   "execution_count": 30,
   "metadata": {},
   "outputs": [
    {
     "data": {
      "image/png": "[encoded data removed]",
      "text/plain": [
       "<IPython.core.display.Image object>"
      ]
     },
     "metadata": {},
     "output_type": "display_data"
    }
   ],
   "source": [
    "\n",
    "ccov = ROOT.TCanvas(\"ccov\", \"Covariance Matrix\", 400, 400)\n",
    "cov.Draw('colz')\n",
    "ccov.SetLogz()\n",
    "ccov.Draw()\n"
   ]
  },
  {
   "cell_type": "markdown",
   "metadata": {},
   "source": [
    "## Plot the covariance matrix from uncorrelated (stat.) uncertainties"
   ]
  },
  {
   "cell_type": "code",
   "execution_count": 31,
   "metadata": {
    "scrolled": false
   },
   "outputs": [
    {
     "data": {
      "image/png": "[encoded data removed]",
      "text/plain": [
       "<IPython.core.display.Image object>"
      ]
     },
     "metadata": {},
     "output_type": "display_data"
    }
   ],
   "source": [
    "\n",
    "ccov_uncorr = ROOT.TCanvas(\"ccov_uncorr\", \"Covariance Matrix from Uncorrelated Uncertainties\", 400, 400)\n",
    "cov_uncorr.Draw('colz')\n",
    "ccov_uncorr.SetLogz()\n",
    "ccov_uncorr.Draw()\n",
    "\n"
   ]
  },
  {
   "cell_type": "markdown",
   "metadata": {},
   "source": [
    "## Plot covariance matrix of the statistical uncertainties from the input data"
   ]
  },
  {
   "cell_type": "code",
   "execution_count": 32,
   "metadata": {},
   "outputs": [
    {
     "data": {
      "image/png": "[encoded data removed]",
      "text/plain": [
       "<IPython.core.display.Image object>"
      ]
     },
     "metadata": {},
     "output_type": "display_data"
    }
   ],
   "source": [
    "\n",
    "ccov_uncorr_data = ROOT.TCanvas(\"ccov_uncorr_data\", \"Covariance Matrix from Uncorrelated Uncertainties\", 400, 400)\n",
    "cov_uncorr_data.Draw('colz')\n",
    "ccov_uncorr_data.SetLogz()\n",
    "ccov_uncorr_data.Draw()\n",
    "\n"
   ]
  },
  {
   "cell_type": "markdown",
   "metadata": {},
   "source": [
    "## Plot absolute uncertainties\n",
    "\n"
   ]
  },
  {
   "cell_type": "code",
   "execution_count": 33,
   "metadata": {},
   "outputs": [
    {
     "data": {
      "image/png": "[encoded data removed]",
      "text/plain": [
       "<IPython.core.display.Image object>"
      ]
     },
     "metadata": {},
     "output_type": "display_data"
    }
   ],
   "source": [
    "\n",
    "#\n",
    "unc_stack = ROOT.THStack(\"unc_stack\", \"Uncertainties\")\n",
    "unc_stack.Add( o_unctot, \"hist\" )\n",
    "unc_stack.Add( o_sys, \"hist\" )\n",
    "#o_up.Divide(o)\n",
    "#o_dn.Divide(o)\n",
    "\n",
    "\n",
    "\n",
    "c_sys = ROOT.TCanvas(\"c_sys\", \"c_sys\", 500, 500)\n",
    "unc_stack.Draw(\"nostack\")\n",
    "unc_stack.SetMaximum( 1.0 * unc_stack.GetMaximum() )\n",
    "#o_unc.SetMinimum(-0.2)\n",
    "#o_unc.SetMaximum(+0.2)\n",
    "legsys = ROOT.TLegend(0.7, 0.7, 0.86, 0.86)\n",
    "legsys.SetFillColor(0)\n",
    "legsys.SetBorderSize(0)\n",
    "legsys.AddEntry( o_unctot, 'Total', 'l')\n",
    "legsys.AddEntry( o_sys, 'Syst', 'l')\n",
    "legsys.Draw()\n",
    "c_sys.Draw()"
   ]
  },
  {
   "cell_type": "code",
   "execution_count": null,
   "metadata": {
    "collapsed": true
   },
   "outputs": [],
   "source": []
  }
 ],
 "metadata": {
  "kernelspec": {
   "display_name": "Python 2",
   "language": "python",
   "name": "python2"
  },
  "language_info": {
   "codemirror_mode": {
    "name": "ipython",
    "version": 2
   },
   "file_extension": ".py",
   "mimetype": "text/x-python",
   "name": "python",
   "nbconvert_exporter": "python",
   "pygments_lexer": "ipython2",
   "version": "2.7.13"
  }
 },
 "nbformat": 4,
 "nbformat_minor": 2
}
